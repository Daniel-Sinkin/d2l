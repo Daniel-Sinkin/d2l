{
 "cells": [
  {
   "cell_type": "code",
   "execution_count": 43,
   "metadata": {},
   "outputs": [],
   "source": [
    "import torch\n",
    "from torch import Tensor\n",
    "\n",
    "from typing import *"
   ]
  },
  {
   "cell_type": "code",
   "execution_count": 46,
   "metadata": {},
   "outputs": [],
   "source": [
    "def a_simple_function() -> None:\n",
    "    # x = [1.0, 2.0, 3.0, 4.0], allocates memory of x and its gradient \n",
    "    x: Tensor = torch.arange(4.0, requires_grad=True)\n",
    "\n",
    "    def func(x: Tensor) -> Tensor:\n",
    "        \"\"\"The function that we want to compute.\"\"\"\n",
    "        return 2 * torch.dot(x, x)\n",
    "\n",
    "    def func_prime(x: Tensor) -> Tensor:\n",
    "        \"\"\"Derivative of func.\"\"\"\n",
    "        return 4 * x\n",
    "\n",
    "    # Computes y\n",
    "    y: Tensor = func(x)\n",
    "    # The gradient if y w.r.t. x is not computed yet, so the gradient is still None\n",
    "    assert x.grad is None\n",
    "\n",
    "    # Compute the gradient of y w.r.t. x using backpropagation\n",
    "    y.backward()\n",
    "\n",
    "    assert x.grad is not None\n",
    "    assert torch.allclose(x.grad, func_prime(x))\n",
    "\n",
    "    z: Tensor = func(x)\n",
    "    z.backward()\n",
    "\n",
    "    # If we don't reset the gradient (set to `None`) and are not\n",
    "    # zeroing it (calling *.grad.zero_()) then the gradients will accumulate \n",
    "    assert torch.allclose(x.grad, 2.0 * func_prime(x))\n",
    "a_simple_function()"
   ]
  },
  {
   "cell_type": "code",
   "execution_count": 57,
   "metadata": {},
   "outputs": [],
   "source": [
    "def backward_for_non_scalar_variables() -> None:\n",
    "    x: Tensor = torch.arange(4.0, requires_grad=True)\n",
    "\n",
    "    def func(x: Tensor) -> Tensor:\n",
    "        \"\"\"Elementwise Squaring\"\"\"\n",
    "        return x ** 2 \n",
    "\n",
    "    def func_prime(x: Tensor) -> Tensor:\n",
    "        \"\"\"d/dx(x^2) = 2x elementwise\"\"\"\n",
    "        return 2 * x\n",
    "\n",
    "    # Compute the Function\n",
    "    y = func(x)\n",
    "\n",
    "    # As y is a vector, it's derivative is a Jacobian matrix, so we need to give some\n",
    "    # way to reduce teh backpropagation.\n",
    "    y.backward(gradient=torch.ones(len(x)))\n",
    "\n",
    "    # Alternatives we could also do direct backpropagation over the sum, that would be faster\n",
    "    # y.sum().backward()\n",
    "\n",
    "    assert torch.allclose(x.grad, func_prime(x))\n",
    "backward_for_non_scalar_variables()"
   ]
  },
  {
   "cell_type": "code",
   "execution_count": 74,
   "metadata": {},
   "outputs": [],
   "source": [
    "def duplicate_backpropagation() -> None:\n",
    "    x: Tensor = torch.arange(4.0, requires_grad=True)\n",
    "\n",
    "    y: Tensor = 2 * (x ** 5) \n",
    "    # After transversing the graph once, the nodes get freed, if we want to\n",
    "    # backpropagate again, we need to set the retain_graph=True\n",
    "    y.backward(gradient=torch.ones(len(x)), retain_graph=True)\n",
    "    x_grad_once: Tensor = x.grad.clone()\n",
    "    y.backward(gradient=torch.ones(len(x)))\n",
    "    assert torch.allclose(x.grad, 2 * x_grad_once)\n",
    "duplicate_backpropagation()"
   ]
  },
  {
   "cell_type": "code",
   "execution_count": null,
   "metadata": {},
   "outputs": [],
   "source": []
  }
 ],
 "metadata": {
  "kernelspec": {
   "display_name": "d2l",
   "language": "python",
   "name": "python3"
  },
  "language_info": {
   "codemirror_mode": {
    "name": "ipython",
    "version": 3
   },
   "file_extension": ".py",
   "mimetype": "text/x-python",
   "name": "python",
   "nbconvert_exporter": "python",
   "pygments_lexer": "ipython3",
   "version": "3.9.18"
  }
 },
 "nbformat": 4,
 "nbformat_minor": 2
}
