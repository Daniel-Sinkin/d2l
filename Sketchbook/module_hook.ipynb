{
 "cells": [
  {
   "cell_type": "markdown",
   "metadata": {},
   "source": [
    "## Review of Python Magic Functions"
   ]
  },
  {
   "cell_type": "code",
   "execution_count": 1,
   "metadata": {},
   "outputs": [],
   "source": [
    "class C:\n",
    "    def __init__(self):\n",
    "        self.a = 1\n",
    "        self.b = 2\n",
    "    \n",
    "    # This is what the @property decorator does under the hood\n",
    "    def __getattr__(self, name):\n",
    "        if name == \"sum\":\n",
    "            print(\"Calling __getattr__ for 'sum'\")\n",
    "            return self.a + self.b\n",
    "            \n",
    "    def __getitem__(self, idx) -> int:\n",
    "        if idx == 0:\n",
    "            print(\"Calling __getitem__ for 0\")\n",
    "            return self.a\n",
    "        elif idx == 1:\n",
    "            print(\"Calling __getitem__ for 1\")\n",
    "            return self.b\n",
    "        elif idx == \"sum\":\n",
    "            print(\"Calling __getitem__ for 'sum'\")\n",
    "            return self.a + self.b"
   ]
  },
  {
   "cell_type": "code",
   "execution_count": 2,
   "metadata": {},
   "outputs": [
    {
     "name": "stdout",
     "output_type": "stream",
     "text": [
      "Calling __getitem__ for 0\n",
      "1\n",
      "Calling __getitem__ for 1\n",
      "2\n",
      "Calling __getitem__ for 'sum'\n",
      "3\n",
      "Calling __getattr__ for 'sum'\n",
      "3\n"
     ]
    }
   ],
   "source": [
    "c = C()\n",
    "print(c[0])\n",
    "print(c[1])\n",
    "print(c[\"sum\"])\n",
    "print(c.sum)"
   ]
  },
  {
   "cell_type": "markdown",
   "metadata": {},
   "source": [
    "Hooks are a type of python magic that makes it (relatively) easy to link modules together, for example in the form of a sequential module. This allows us to pass multiple modules (as `*args`) into the constructor of `MySequential` and then register each fo those modules with name corresponding to the index of that module by invoking the `add_module` function of the `nn.Module` class (which is the general `Module` class of the NeuralNet library in PyTorch)."
   ]
  },
  {
   "cell_type": "code",
   "execution_count": 3,
   "metadata": {},
   "outputs": [],
   "source": [
    "import torch\n",
    "from torch import nn\n",
    "\n",
    "class MySequential(nn.Module):\n",
    "    def __init__(self, *args):\n",
    "        super().__init__()\n",
    "        for idx, module in enumerate(args):\n",
    "            self.add_module(str(idx), module)\n",
    "\n",
    "    def forward(self, X):\n",
    "        for module in self.children():\n",
    "            X = module(X)\n",
    "        return X"
   ]
  },
  {
   "cell_type": "markdown",
   "metadata": {},
   "source": [
    "Suppose we call the following constructor:"
   ]
  },
  {
   "cell_type": "code",
   "execution_count": 4,
   "metadata": {},
   "outputs": [],
   "source": [
    "net = nn.Sequential(nn.LazyLinear(256), nn.ReLU(), nn.LazyLinear(10))"
   ]
  },
  {
   "cell_type": "markdown",
   "metadata": {},
   "source": [
    "This goes through each of the `*args` with an inumerate:\n",
    "```python\n",
    "0, nn.LazyLinear(256)\n",
    "1, nn.ReLU()\n",
    "2, nn.LazyLinear(10)\n",
    "```\n",
    "and invokes the `add_module` method on `str(idx), module`, i.e. calls\n",
    "```python\n",
    "net.add_module(\"1\", nn.LazyLinear(256))\n",
    "net.add_module(\"2\", nn.ReLU())\n",
    "net.add_module(\"3\", nn.LazyLinear(10))\n",
    "```"
   ]
  },
  {
   "cell_type": "code",
   "execution_count": 5,
   "metadata": {},
   "outputs": [],
   "source": [
    "net_constructor = nn.Sequential(nn.LazyLinear(256), nn.ReLU(), nn.LazyLinear(10))\n",
    "net_constructor_2 = nn.Sequential(nn.LazyLinear(256), nn.ReLU(), nn.LazyLinear(10, bias = False))\n",
    "\n",
    "net_direct = nn.Sequential()\n",
    "net_direct.add_module(\"0\", nn.LazyLinear(256))\n",
    "net_direct.add_module(\"1\", nn.ReLU())\n",
    "net_direct.add_module(\"2\", nn.LazyLinear(10))"
   ]
  },
  {
   "cell_type": "markdown",
   "metadata": {},
   "source": [
    "One thing the `add_module` function does is register the corresponding modules as an attribute:"
   ]
  },
  {
   "cell_type": "code",
   "execution_count": 6,
   "metadata": {},
   "outputs": [
    {
     "name": "stdout",
     "output_type": "stream",
     "text": [
      "\n",
      "\n",
      "net_constructor\n",
      "__getattr__\n",
      "\t LazyLinear(in_features=0, out_features=256, bias=True)\n",
      "\t ReLU()\n",
      "\t LazyLinear(in_features=0, out_features=10, bias=True)\n",
      "\n",
      "__getitem__\n",
      "\t LazyLinear(in_features=0, out_features=256, bias=True)\n",
      "\t ReLU()\n",
      "\t LazyLinear(in_features=0, out_features=10, bias=True)\n",
      "\n",
      "Iterator\n",
      "\t LazyLinear(in_features=0, out_features=256, bias=True)\n",
      "\t ReLU()\n",
      "\t LazyLinear(in_features=0, out_features=10, bias=True)\n",
      "\tCan't access the __getitem__ method of the module directly via the string.\n",
      "\t\tWe get the error: 'str' object cannot be interpreted as an integer\n",
      "\n",
      "\n",
      "net_constructor_2\n",
      "\t LazyLinear(in_features=0, out_features=256, bias=True)\n",
      "\t ReLU()\n",
      "\t LazyLinear(in_features=0, out_features=10, bias=False)\n",
      "\n",
      "\n",
      "net_direct\n",
      "\t LazyLinear(in_features=0, out_features=256, bias=True)\n",
      "\t ReLU()\n",
      "\t LazyLinear(in_features=0, out_features=10, bias=True)\n"
     ]
    }
   ],
   "source": [
    "print(\"\\n\\nnet_constructor\")\n",
    "print(\"__getattr__\")\n",
    "print(\"\\t\", net_constructor.__getattr__(\"0\"))\n",
    "print(\"\\t\", net_constructor.__getattr__(\"1\"))\n",
    "print(\"\\t\", net_constructor.__getattr__(\"2\"))\n",
    "\n",
    "print(\"\\n__getitem__\")\n",
    "print(\"\\t\", net_constructor[0])\n",
    "print(\"\\t\", net_constructor[1])\n",
    "print(\"\\t\", net_constructor[2])\n",
    "\n",
    "print(\"\\nIterator\")\n",
    "for module_ in net_constructor:\n",
    "    print(\"\\t\", module_)\n",
    "\n",
    "try:\n",
    "    print(net_constructor[\"1\"])\n",
    "except TypeError as e:\n",
    "    print(\"\\tCan't access the __getitem__ method of the module directly via the string.\")\n",
    "    print(\"\\t\\tWe get the error:\", e)\n",
    "\n",
    "print(\"\\n\\nnet_constructor_2\")\n",
    "print(\"\\t\", net_constructor_2.__getattr__(\"0\"))\n",
    "print(\"\\t\", net_constructor_2.__getattr__(\"1\"))\n",
    "print(\"\\t\", net_constructor_2.__getattr__(\"2\"))\n",
    "\n",
    "print(\"\\n\\nnet_direct\")\n",
    "print(\"\\t\", net_direct.__getattr__(\"0\"))\n",
    "print(\"\\t\", net_direct.__getattr__(\"1\"))\n",
    "print(\"\\t\", net_direct.__getattr__(\"2\"))"
   ]
  },
  {
   "cell_type": "code",
   "execution_count": 7,
   "metadata": {},
   "outputs": [],
   "source": [
    "net = nn.Sequential(nn.LazyLinear(256), nn.ReLU(), nn.LazyLinear(10))\n",
    "\n",
    "X = torch.rand(2, 20)\n",
    "assert net(X).shape == nn.LazyLinear(10)(nn.ReLU()(nn.LazyLinear(256)(X))).shape"
   ]
  }
 ],
 "metadata": {
  "kernelspec": {
   "display_name": "d2l",
   "language": "python",
   "name": "python3"
  },
  "language_info": {
   "codemirror_mode": {
    "name": "ipython",
    "version": 3
   },
   "file_extension": ".py",
   "mimetype": "text/x-python",
   "name": "python",
   "nbconvert_exporter": "python",
   "pygments_lexer": "ipython3",
   "version": "3.9.18"
  }
 },
 "nbformat": 4,
 "nbformat_minor": 2
}
