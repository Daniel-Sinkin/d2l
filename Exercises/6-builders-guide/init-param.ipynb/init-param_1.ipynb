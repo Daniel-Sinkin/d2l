{
 "cells": [
  {
   "cell_type": "markdown",
   "metadata": {},
   "source": [
    "#### 1. Look up the online documentation for more built-in initializers."
   ]
  },
  {
   "cell_type": "markdown",
   "metadata": {},
   "source": [
    "1. Uniform and Normal Distributions: nn.init.uniform_ and nn.init.normal_ initialize weights with values drawn from a uniform or normal distribution, respectively.\n",
    "1. Xavier/Glorot Initialization: nn.init.xavier_uniform_ and nn.init.xavier_normal_ adjust the scale of the initialization based on the number of input and output neurons, promoting better convergence for deep networks.\n",
    "1. Kaiming/He Initialization: nn.init.kaiming_uniform_ and nn.init.kaiming_normal_ are designed for networks with ReLU activations, addressing the vanishing/exploding gradient problem by considering the rectifier nonlinearities.\n",
    "1. Orthogonal and Sparse: nn.init.orthogonal_ initializes weights as an orthogonal matrix, which can be beneficial for certain types of recurrent neural networks. nn.init.sparse_ initializes weights as a sparse matrix with a specified sparsity level, useful for models where sparse connections are desired."
   ]
  }
 ],
 "metadata": {
  "language_info": {
   "name": "python"
  }
 },
 "nbformat": 4,
 "nbformat_minor": 2
}
