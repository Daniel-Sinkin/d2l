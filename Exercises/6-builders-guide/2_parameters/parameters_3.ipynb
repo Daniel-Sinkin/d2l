{
 "cells": [
  {
   "cell_type": "markdown",
   "metadata": {},
   "source": [
    "#### 3. Why is sharing parameters a good idea?"
   ]
  },
  {
   "cell_type": "markdown",
   "metadata": {},
   "source": [
    "1. Reduced Memory usage as we don't need to store 2 sets of parameters and weights and gradients for each layer.\n",
    "2. Decreases total number of parameters while potentially increasing expressiveness of models because we have more layers.\n",
    "3. It's easier to update hyperparameters.\n",
    "4. Allows leveraging certain types of symmetries like translation invariance."
   ]
  }
 ],
 "metadata": {
  "kernelspec": {
   "display_name": "d2l",
   "language": "python",
   "name": "python3"
  },
  "language_info": {
   "codemirror_mode": {
    "name": "ipython",
    "version": 3
   },
   "file_extension": ".py",
   "mimetype": "text/x-python",
   "name": "python",
   "nbconvert_exporter": "python",
   "pygments_lexer": "ipython3",
   "version": "3.9.18"
  }
 },
 "nbformat": 4,
 "nbformat_minor": 2
}
