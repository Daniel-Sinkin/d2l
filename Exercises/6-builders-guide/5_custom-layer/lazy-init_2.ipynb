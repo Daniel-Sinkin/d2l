{
 "cells": [
  {
   "cell_type": "markdown",
   "metadata": {},
   "source": [
    "#### 2. Design a layer that returns the leading half of the Fourier coefficients of the data."
   ]
  },
  {
   "cell_type": "code",
   "execution_count": 1,
   "metadata": {},
   "outputs": [
    {
     "name": "stdout",
     "output_type": "stream",
     "text": [
      "Input Sequences:\n",
      "tensor([[1, 2, 3, 4, 5, 6, 7, 8],\n",
      "        [8, 7, 6, 5, 4, 3, 2, 1]])\n",
      "\n",
      "Full FFT:\n",
      "tensor([[36.+0.0000j, -4.+9.6569j, -4.+4.0000j, -4.+1.6569j, -4.+0.0000j,\n",
      "         -4.-1.6569j, -4.-4.0000j, -4.-9.6569j],\n",
      "        [36.+0.0000j,  4.-9.6569j,  4.-4.0000j,  4.-1.6569j,  4.+0.0000j,\n",
      "          4.+1.6569j,  4.+4.0000j,  4.+9.6569j]])\n",
      "\n",
      "Leading Half of the FFT:\n",
      "tensor([[36.+0.0000j, -4.+9.6569j, -4.+4.0000j, -4.+1.6569j],\n",
      "        [36.+0.0000j,  4.-9.6569j,  4.-4.0000j,  4.-1.6569j]])\n"
     ]
    }
   ],
   "source": [
    "import torch\n",
    "from torch import nn, Tensor\n",
    "from torch.fft import fft\n",
    "\n",
    "class FourierSplitter(nn.Module):\n",
    "    def __init__(self):\n",
    "        super().__init__()\n",
    "\n",
    "    def forward(self, X: Tensor) -> Tensor:\n",
    "        fft_result: Tensor = fft(X, dim=-1)\n",
    "        half : int= fft_result.shape[-1] // 2\n",
    "        return fft_result[:, :half]\n",
    "\n",
    "fourier_layer = FourierSplitter()\n",
    "\n",
    "_range: Tensor = torch.arange(1, 8+1)\n",
    "X: Tensor = torch.cat((_range, _range.flip(0)), dim=-1).view(2, 8)\n",
    "\n",
    "full_fft: Tensor = fft(X, dim=-1)\n",
    "y: Tensor = fourier_layer(X)\n",
    "\n",
    "print(\"Input Sequences:\")\n",
    "print(X)\n",
    "print()\n",
    "print(\"Full FFT:\")\n",
    "print(full_fft)\n",
    "print()\n",
    "print(\"Leading Half of the FFT:\")\n",
    "print(y)"
   ]
  }
 ],
 "metadata": {
  "kernelspec": {
   "display_name": "d2l",
   "language": "python",
   "name": "python3"
  },
  "language_info": {
   "codemirror_mode": {
    "name": "ipython",
    "version": 3
   },
   "file_extension": ".py",
   "mimetype": "text/x-python",
   "name": "python",
   "nbconvert_exporter": "python",
   "pygments_lexer": "ipython3",
   "version": "3.9.18"
  }
 },
 "nbformat": 4,
 "nbformat_minor": 2
}
