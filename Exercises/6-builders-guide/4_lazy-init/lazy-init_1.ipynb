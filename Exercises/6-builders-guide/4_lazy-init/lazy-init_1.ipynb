{
 "cells": [
  {
   "cell_type": "markdown",
   "metadata": {},
   "source": [
    "#### 1. What happens if you specify the input dimensions to the first layer but not to subsequent layers? Do you get immediate initialization?"
   ]
  },
  {
   "cell_type": "markdown",
   "metadata": {},
   "source": [
    "The initialization gets initialized when it's needed, as far as the inner module is concerned when it gets called is when the entire gets created."
   ]
  }
 ],
 "metadata": {
  "language_info": {
   "name": "python"
  }
 },
 "nbformat": 4,
 "nbformat_minor": 2
}
