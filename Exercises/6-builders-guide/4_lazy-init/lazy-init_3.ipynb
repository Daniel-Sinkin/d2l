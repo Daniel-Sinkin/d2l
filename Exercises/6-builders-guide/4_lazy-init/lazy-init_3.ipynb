{
 "cells": [
  {
   "cell_type": "markdown",
   "metadata": {},
   "source": [
    "#### 3. What would you need to do if you have input of varying dimensionality? Hint: look at the parameter tying."
   ]
  },
  {
   "cell_type": "markdown",
   "metadata": {},
   "source": [
    "The initialization gets initialized when it's needed, as far as the inner module is concerned when it gets called is when the entire gets created.\n",
    "\n",
    "Idea about parameter tying is splitting the input tensor up into sub-tensors of suitable dimensionality for the corresponding concatenated next layer."
   ]
  }
 ],
 "metadata": {
  "language_info": {
   "name": "python"
  }
 },
 "nbformat": 4,
 "nbformat_minor": 2
}
