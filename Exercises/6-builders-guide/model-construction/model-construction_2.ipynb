{
 "cells": [
  {
   "cell_type": "markdown",
   "metadata": {},
   "source": [
    "#### 2. Implement a module that takes two modules as an argument, say `net1` and `net2` and returns the concatenated output of both networks in the forward propagation. This is also called a *parallel module*."
   ]
  },
  {
   "cell_type": "markdown",
   "metadata": {},
   "source": [
    "Note that we have to concat along `dim = 1` as we summe `X.shape = TorchSize([x, y])` where every \"row\" corresponds to one sample in the batch and y corresponds to the actual values."
   ]
  },
  {
   "cell_type": "markdown",
   "metadata": {},
   "source": [
    "```python\n",
    "class ParallelMLKP(nn.Module):\n",
    "    def __init__(self, n1: nn.Module, n2: nn.Module):\n",
    "        super().__init__()\n",
    "        self.n1 = n1\n",
    "        self.n2 = n2\n",
    "\n",
    "    def forward(self, X):\n",
    "        torch.cat((self.n1(X), self.n2(X)), dim = 1)\n",
    "```"
   ]
  }
 ],
 "metadata": {
  "language_info": {
   "name": "python"
  }
 },
 "nbformat": 4,
 "nbformat_minor": 2
}
