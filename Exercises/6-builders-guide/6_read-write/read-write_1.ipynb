{
 "cells": [
  {
   "cell_type": "markdown",
   "metadata": {},
   "source": [
    "#### 1. Even if there is no need to deploy trained models to a different device, what are the practical benefits of storing model parameters?"
   ]
  },
  {
   "cell_type": "markdown",
   "metadata": {},
   "source": [
    "Making checkpoint copies to avoid losing a lot of progress. Checkpoints also allow us to have a snapshot of our model at some particular point of time and then run experiments on it instead of re-initializing everything.\n",
    "\n",
    "Maybe we have a very hard time getting a good initialization going and have a hocky stick type of loss curve, so that the first 1000 iterations are just used on the lowhanging fruit, then it might be valueable to store the state of the network after those 1000 runs and then run our subsequent tests on that instead of wasting valueable GPU time on doing busy work every iteration."
   ]
  }
 ],
 "metadata": {
  "language_info": {
   "name": "python"
  }
 },
 "nbformat": 4,
 "nbformat_minor": 2
}
