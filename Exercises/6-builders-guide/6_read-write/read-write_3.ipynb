{
 "cells": [
  {
   "cell_type": "markdown",
   "metadata": {},
   "source": [
    "#### 3. How would you go about saving the network architecture and parameters? What restrictions would you impose on the architecture?"
   ]
  },
  {
   "cell_type": "markdown",
   "metadata": {},
   "source": [
    "If it's just a chaining of different class initializations, then we could use the `__repr__` python magic and call `eval` on that resulting string.\n",
    "\n",
    "Of course storing things as strings is never ideal, so maybe we coudl do things like storing the parameters as binary files and then loading those properly, only referencing the corresponding variables in the `__repr__` string for the model itself."
   ]
  }
 ],
 "metadata": {
  "language_info": {
   "name": "python"
  }
 },
 "nbformat": 4,
 "nbformat_minor": 2
}
