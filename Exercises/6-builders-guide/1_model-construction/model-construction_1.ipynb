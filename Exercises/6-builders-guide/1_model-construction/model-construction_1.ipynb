{
 "cells": [
  {
   "cell_type": "markdown",
   "metadata": {},
   "source": [
    "#### 1. What kinds of problems will occur if you change `MySequential` to store modules in a Python list?"
   ]
  },
  {
   "cell_type": "markdown",
   "metadata": {},
   "source": [
    "Have to write boilerplate code, for example a lambda function, if you want to invoke the the forward method on all the modules.\n",
    "\n",
    "Also it's going to be very painful to have things like where X, Y, Z, W are our models, we'd need to somehow keep a cross list mapping to make them interact with each other.\n",
    "```python\n",
    "#   W\n",
    "#  / \\\n",
    "# Y   Z\n",
    "#  \\ /\n",
    "#   X\n",
    "```"
   ]
  }
 ],
 "metadata": {
  "language_info": {
   "name": "python"
  }
 },
 "nbformat": 4,
 "nbformat_minor": 2
}
