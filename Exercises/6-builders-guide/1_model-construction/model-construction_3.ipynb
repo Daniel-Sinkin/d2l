{
 "cells": [
  {
   "cell_type": "markdown",
   "metadata": {},
   "source": [
    "#### 3. Assume that you want to concatenate multiple instances of the same network. Implement a factory function that generates multiple instances of the same module and build a larger network from it. "
   ]
  },
  {
   "cell_type": "code",
   "execution_count": 2,
   "metadata": {},
   "outputs": [
    {
     "name": "stdout",
     "output_type": "stream",
     "text": [
      "Test passed!\n"
     ]
    }
   ],
   "source": [
    "import torch\n",
    "from torch import nn, Tensor\n",
    "\n",
    "class ModuleConcatenationFactor(nn.Module):\n",
    "    def __init__(self, module_base_class, n, *constructor_args, **constructor_kwargs):\n",
    "        super().__init__()\n",
    "        self._modules = [module_base_class(*constructor_args, **constructor_kwargs) for _ in range(n)]\n",
    "\n",
    "    def forward(self, X):\n",
    "        return torch.cat([_module(X) for _module in self._modules], dim=1)\n",
    "\n",
    "my_module = ModuleConcatenationFactor(nn.LazyLinear, 3, 32)\n",
    "\n",
    "input_size = 16\n",
    "output_size = 32\n",
    "num_modules = 3\n",
    "\n",
    "my_module = ModuleConcatenationFactor(nn.Linear, num_modules, in_features=input_size, out_features=output_size)\n",
    "\n",
    "X: Tensor = torch.randn(2, input_size)\n",
    "\n",
    "output = my_module(X)\n",
    "\n",
    "# Check the output shape\n",
    "expected_output_size = num_modules * output_size\n",
    "assert output.shape == (2, expected_output_size), f\"Expected output shape {(2, expected_output_size)}, but got {output.shape}\"\n",
    "print(\"Test passed!\")"
   ]
  }
 ],
 "metadata": {
  "kernelspec": {
   "display_name": "d2l",
   "language": "python",
   "name": "python3"
  },
  "language_info": {
   "codemirror_mode": {
    "name": "ipython",
    "version": 3
   },
   "file_extension": ".py",
   "mimetype": "text/x-python",
   "name": "python",
   "nbconvert_exporter": "python",
   "pygments_lexer": "ipython3",
   "version": "3.9.18"
  }
 },
 "nbformat": 4,
 "nbformat_minor": 2
}
