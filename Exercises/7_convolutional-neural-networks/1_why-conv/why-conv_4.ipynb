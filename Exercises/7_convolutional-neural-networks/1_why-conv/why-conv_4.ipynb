{
 "cells": [
  {
   "cell_type": "markdown",
   "metadata": {},
   "source": [
    "#### 4. Do you think that convolutional layers might also be applicable for text data? Which problems might you encounter with language?"
   ]
  },
  {
   "cell_type": "markdown",
   "metadata": {},
   "source": [
    "If there is only local information about text then it's impossible to find long-term patterns in stories, think concepts like Chekhov's gun, or just generally foreshadowing."
   ]
  }
 ],
 "metadata": {
  "language_info": {
   "name": "python"
  }
 },
 "nbformat": 4,
 "nbformat_minor": 2
}
