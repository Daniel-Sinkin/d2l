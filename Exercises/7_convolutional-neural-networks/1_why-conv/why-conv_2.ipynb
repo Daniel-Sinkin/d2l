{
 "cells": [
  {
   "cell_type": "markdown",
   "metadata": {},
   "source": [
    "#### 2. Audio data is often represented as a one-dimensional sequence.\n",
    "1. When might you want to impose locality and translation invariance for audio?\n",
    "2. Derive the convolution operations for audio.\n",
    "3. Can you treat audio using the same tools as computer vision? Hint: use the spectrogram."
   ]
  },
  {
   "cell_type": "markdown",
   "metadata": {},
   "source": [
    "(1)\n",
    "\n",
    "For music pieces where rythm and \"sounding good\" are very local problems, finding the right chord to play after another one needs no global information.\n",
    "\n",
    "Speech recognition where we are intersted in how one sound in a word should be interpreted based on the letter and words that came before it."
   ]
  },
  {
   "cell_type": "markdown",
   "metadata": {},
   "source": [
    "(3)\n",
    "\n",
    "Images are in some sense just lightwaves, and we can visualize those using spectrogramms. So I think we can do that."
   ]
  },
  {
   "cell_type": "markdown",
   "metadata": {},
   "source": []
  }
 ],
 "metadata": {
  "language_info": {
   "name": "python"
  }
 },
 "nbformat": 4,
 "nbformat_minor": 2
}
