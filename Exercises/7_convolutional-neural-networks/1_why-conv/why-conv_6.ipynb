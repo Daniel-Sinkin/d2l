{
 "cells": [
  {
   "cell_type": "markdown",
   "metadata": {},
   "source": [
    "#### 6. Prove that the convolution is symmetric, i.e., $f * g = g * f$."
   ]
  },
  {
   "cell_type": "markdown",
   "metadata": {},
   "source": [
    "$$\n",
    "\\begin{aligned}\n",
    "(f * g)(x) &= \\int_\\R f(y)g(x - y) dy \\\\\n",
    "&\\overset{1}{=} \\int_\\R f(x - (x - y))g(x - y) \\frac{d(x - y)}{dy}d(x - y) \\\\\n",
    "&\\overset{2}{=} \\int_{-\\R} f(x - z)g(z) (-1) dz \\\\\n",
    "&\\overset{3}{=} \\int_{\\R} g(z) f(x - z) dz = (g * f)(x)\n",
    "\\end{aligned}\n",
    "$$"
   ]
  },
  {
   "cell_type": "markdown",
   "metadata": {},
   "source": [
    "Where we have prepared the substituion $z = x - y$ in (1), actually applied it in (2) and then re-reversed the integration domain (note that $x \\mapsto -x$ flips the orientation of the domain) which cancels with the -1 of $dy = -dz$. In (3) we have reordered the integrand to look like the convolution."
   ]
  }
 ],
 "metadata": {
  "kernelspec": {
   "display_name": "d2l",
   "language": "python",
   "name": "python3"
  },
  "language_info": {
   "codemirror_mode": {
    "name": "ipython",
    "version": 3
   },
   "file_extension": ".py",
   "mimetype": "text/x-python",
   "name": "python",
   "nbconvert_exporter": "python",
   "pygments_lexer": "ipython3",
   "version": "3.9.18"
  }
 },
 "nbformat": 4,
 "nbformat_minor": 2
}
