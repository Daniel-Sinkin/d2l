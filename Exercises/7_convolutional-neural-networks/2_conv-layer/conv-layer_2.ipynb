{
 "cells": [
  {
   "cell_type": "markdown",
   "metadata": {},
   "source": [
    "#### 2. Design some kernels manually.\n",
    "1. Given a direction vector $v = (v_1, v_2)$, derive an edge-detection kernel that detects edges orthogonal to $v$, i.e., edges in the direction $(v_2, v_1)$.\n",
    "2. Derive a finite difference operator for the second derivative. What is the minimum size of the convolutional kernel associated with it? Which structures in images respond most strongly to it?\n",
    "3. How would you design a blur kernel? Why might you want to use such a kernel?\n",
    "4. What is the minimum size of a kernel to obtain a derivative of order $d$?"
   ]
  },
  {
   "cell_type": "markdown",
   "metadata": {},
   "source": []
  }
 ],
 "metadata": {
  "kernelspec": {
   "display_name": "d2l",
   "language": "python",
   "name": "python3"
  },
  "language_info": {
   "name": "python",
   "version": "3.9.18"
  }
 },
 "nbformat": 4,
 "nbformat_minor": 2
}
