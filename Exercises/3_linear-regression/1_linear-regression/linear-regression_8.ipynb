{
 "cells": [
  {
   "cell_type": "markdown",
   "metadata": {},
   "source": [
    "#### 8. Suppose we want to use regression to estimate the *number* of apples sold in a grocery store.\n",
    "1. What are the problems with a Gaussian additive noise model? Hint: you are selling apples, not oil.\n",
    "1. The [Poisson distribution](https://en.wikipedia.org/wiki/Poisson_distribution) captures distributions over counts. It is given by $p(k \\mid \\lambda) = \\lambda^k e^{-\\lambda}/k!$. Here $\\lambda$ is the rate function and $k$ is the number of events you see. Prove that $\\lambda$ is the expected value of counts $k$.\n",
    "1. Design a loss function associated with the Poisson distribution.\n",
    "1. Design a loss function for estimating $\\log \\lambda$ instead."
   ]
  },
  {
   "cell_type": "markdown",
   "metadata": {},
   "source": [
    "(1)\n",
    "- There is the same problem as before, the amount sould can't be negative.\n",
    "- The amount of apples sold is a discrete quantity, but the Gaussian thingy assumes a continues distribution. If our number of apples sold is large enough this might not be a concern, but in a grocery store the quantity over let's say a week won't be huge.\n",
    "- Fungibility: There could be bad batches of apples, while oil is basically the same across its own type of class (I guess there are better and worse types of oil but I'd assume those are split in their own categories)."
   ]
  },
  {
   "cell_type": "markdown",
   "metadata": {},
   "source": [
    "(2)\n",
    "\n",
    "Recall that\n",
    "$$\n",
    "e^x = \\sum_{k = 0}^\\infty \\frac{x^k}{k!}.\n",
    "$$\n",
    "We can calculate the expected value as follows:\n",
    "$$\n",
    "\\begin{aligned}\n",
    "E &= \\sum_k k p(k|\\lambda) \\\\\n",
    "&= \\sum_{k = 1}^\\infty k \\lambda^k \\frac{e^{-\\lambda}}{k!} \\\\\n",
    "&= \\lambda e^{-\\lambda} \\sum_{k = 1}^\\infty \\frac{\\lambda^{k - 1}}{(k - 1)!}\\\\\n",
    "&= \\lambda e^{-\\lambda} \\sum_{k = 0}^\\infty \\frac{\\lambda^k}{k!} \\\\\n",
    "&= \\lambda e^{-\\lambda}e^{\\lambda} = \\lambda.\n",
    "\\end{aligned}\n",
    "$$"
   ]
  },
  {
   "cell_type": "markdown",
   "metadata": {},
   "source": [
    "(3)\n",
    "\n",
    "$$\n",
    "\\begin{aligned}\n",
    "-\\log p(\\underline{k}|\\lambda) &= -\\log \\left( \\prod­_{i = 1}^n p(k_i | \\lambda) \\right) \\\\\n",
    "&= -\\log \\left( \\prod­_{i = 1}^n \\frac{\\lambda^{k_i} e^{-\\lambda}}{k_i!} \\right) \\\\\n",
    "&= -\\sum_{i = 1}^n \\log \\left( \\frac{\\lambda^{k_i} e^{-\\lambda}}{k_i!} \\right) \\\\\n",
    "&= -\\sum_{i = 1}^n \\log(\\lambda^{k_i}) + \\log(e^{-\\lambda}) + \\log\\left(\\frac{1}{k_i!}\\right) \\\\\n",
    "&= -\\sum­_{i = 1}^n k_i \\log(\\lambda) - \\lambda - \\log(k_i!) \\\\\n",
    "&= n \\lambda - \\log{\\lambda} \\sum_{i = 1}^n k_i + \\sum_{i = 1}^n \\log(k_i!)\n",
    "\\end{aligned}\n",
    "$$\n",
    "from which we can see that a suitable loss for the maximum likelihood estimator is is given by\n",
    "$$\n",
    "L(\\lambda) = n \\lambda - \\left( \\sum_{i = 1}^n k_i \\right) \\log{\\lambda}.\n",
    "$$"
   ]
  },
  {
   "cell_type": "markdown",
   "metadata": {},
   "source": [
    "(4)\n",
    "$$\n",
    "L(\\lambda) = n e^{\\log(\\lambda)} - \\left( \\sum_{i = 1}^n k_i \\right) \\log(\\lambda) \n",
    "$$\n",
    "and if we define $\\nu := \\log(\\lambda)$ we get the an estimator given by\n",
    "$$\n",
    "L_{\\log}^{(i)}(\\nu) = ne^\\nu - \\left(\\sum_{i = 1}^n k_i\\right) \\cdot \\nu.\n",
    "$$"
   ]
  }
 ],
 "metadata": {
  "language_info": {
   "name": "python"
  }
 },
 "nbformat": 4,
 "nbformat_minor": 2
}
