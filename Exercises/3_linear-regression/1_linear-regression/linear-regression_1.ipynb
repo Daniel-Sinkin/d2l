{
 "cells": [
  {
   "cell_type": "markdown",
   "metadata": {},
   "source": [
    "#### 1. Assume that we have some data $x_1, \\ldots, x_n \\in \\mathbb{R}$. Our goal is to find a constant $b$ such that $\\sum_i (x_i - b)^2$ is minimized.\n",
    "1. Find an analytic solution for the optimal value of $b$.\n",
    "1. How does this problem and its solution relate to the normal distribution?\n",
    "1. What if we change the loss from $\\sum_i (x_i - b)^2$ to $\\sum_i |x_i-b|$? Can you find the optimal solution for $b$?"
   ]
  },
  {
   "cell_type": "markdown",
   "metadata": {},
   "source": [
    "(1)\n",
    "Consider the function\n",
    "$$\n",
    "\\begin{align*}\n",
    "f : \\mathbb{R}^n \\times \\mathbb{R} &\\rightarrow [0, \\infty) \\\\\n",
    "(y, b) &\\mapsto \\sum_{i = 1}^n (y_i - b)^2.\n",
    "\\end{align*}\n",
    "$$\n",
    "For fixed $y \\in \\mathbb{R}^n$ we want to solve the following minimization problem, find $b^*_y$ such that\n",
    "$$\n",
    "\\min_{b \\in \\mathbb{R}} f(y, b) = f(y, b^*_y)\n",
    "$$\n",
    "$$\n",
    "\\begin{align*}\n",
    "\\sum_{i = 1}^n (y_i - b)^2 = \\sum_{i = 1}^n (y_i^2 - 2y_i b + b^2) = \\sum_{i = 1}^n y_i^2 \\underbrace{- 2 b \\underline{y} + b^2}_{=: g(b)}\n",
    "\\end{align*}\n",
    "$$\n",
    "As such we are looking for the minimum of $g(b)$. Obviously $g$ is continuously differentiable and we can calculate\n",
    "$$\n",
    "g'(b) = -2 \\sum_{i = 1}^n y_i + 2b = 2 \\left(nb - \\sum_{i = 1}^n y_i\\right) = 0\n",
    "$$\n",
    "meaning that $b^* = \\frac{1}{n} \\sum_{i = 1}^n y_i$ is the (unique!) solution to our minimization problem."
   ]
  },
  {
   "cell_type": "markdown",
   "metadata": {},
   "source": [
    "(2)\n",
    "\n",
    "If we assume that our data is normal distributed then $b$ would be the mean of the normal distribution, i.e. normally distributed points cluster around their mean."
   ]
  },
  {
   "cell_type": "markdown",
   "metadata": {},
   "source": [
    "(3) Consider $b' := \\overline{y}$, our new \"linear\" error function can be written as follows:\n",
    "$$\n",
    "\\begin{align*}\n",
    "\\sum_{i = 1}^n |y_i - b| &= \\sum_{i = 1, y_i < \\overline{y}}^n |y_i - \\overline{y}| + \\sum_{i = 1, y_i > \\overline{y}}^n |y_i - \\overline{y}| \\\\\n",
    "&= \\sum_{i = 1, y_i < \\overline{y}}^n \\overline{y} - y_i + \\sum_{i = 1, y_i > \\overline{y}}^n y_i - \\overline{y}\n",
    "\\end{align*}\n",
    "$$"
   ]
  }
 ],
 "metadata": {
  "language_info": {
   "name": "python"
  }
 },
 "nbformat": 4,
 "nbformat_minor": 2
}
