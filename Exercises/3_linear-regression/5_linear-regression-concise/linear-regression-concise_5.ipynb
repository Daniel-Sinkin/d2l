{
 "cells": [
  {
   "cell_type": "markdown",
   "metadata": {},
   "source": [
    "#### 5. How does the solution change as you vary the amount of data generated?\n",
    "1. Plot the estimation error for $\\hat{\\mathbf{w}} - \\mathbf{w}$ and $\\hat{b} - b$ as a function of the amount of data. Hint: increase the amount of data logarithmically rather than linearly, i.e., 5, 10, 20, 50, ..., 10,000 rather than 1000, 2000, ..., 10,000.\n",
    "2. Why is the suggestion in the hint appropriate?"
   ]
  },
  {
   "cell_type": "markdown",
   "metadata": {},
   "source": [
    "(1)\n",
    "\n",
    "Decided to plot $\\sqrt{(\\hat{\\underline{w}} - \\underline{w})^2 + (\\hat{b} - b)^2}$ as the error.\n",
    "## Plot\n",
    "![image](linear-regression-concise_5_1.png)\n",
    "\n",
    "## Data\n",
    "```python\n",
    "        1:      1.59\n",
    "        2:      1.57\n",
    "        3:      1.29\n",
    "        5:      1.36\n",
    "       10:      1.39\n",
    "       20:      1.38\n",
    "       50:      1.09\n",
    "      100:      0.88\n",
    "      250:     -0.10\n",
    "      500:     -1.52\n",
    "     1000:     -4.33\n",
    "     5000:     -7.50\n",
    "     7500:     -8.29\n",
    "    10000:     -7.64\n",
    "    50000:     -7.31\n",
    "   100000:     -8.58\n",
    "   500000:     -7.61\n",
    "  1000000:     -7.10\n",
    "```"
   ]
  },
  {
   "cell_type": "markdown",
   "metadata": {},
   "source": [
    "(2)\n",
    "\n",
    "The gains from more data does not scale linearly so it doesn't make sense to increase the amount of data linearly."
   ]
  }
 ],
 "metadata": {
  "language_info": {
   "name": "python"
  }
 },
 "nbformat": 4,
 "nbformat_minor": 2
}
