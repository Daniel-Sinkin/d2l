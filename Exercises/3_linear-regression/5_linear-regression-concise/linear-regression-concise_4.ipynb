{
 "cells": [
  {
   "cell_type": "markdown",
   "metadata": {},
   "source": [
    "#### 4. What is the effect on the solution if you change the learning rate and the number of epochs? Does it keep on improving?"
   ]
  },
  {
   "cell_type": "markdown",
   "metadata": {},
   "source": [
    "Heatmap of the logarithm of the loss after training, learning rate (x axis) and max epochs (y axis), upscaled with a factor of 16 and smoothed with 3rd order splines.\n",
    "\n",
    "There is a clear trend of: more epochs -> better results, but the learning rate is the best in the middle, not too small and not too big.\n",
    "\n",
    "![image](linear-regression-concise_4_1.png)"
   ]
  },
  {
   "cell_type": "markdown",
   "metadata": {},
   "source": [
    "## Plotting Logic"
   ]
  },
  {
   "cell_type": "markdown",
   "metadata": {},
   "source": [
    "```python\n",
    "import matplotlib.pyplot as plt\n",
    "import numpy as np\n",
    "from scipy.ndimage import zoom\n",
    "\n",
    "plot_data = np.log(_df.values)\n",
    "\n",
    "zoom_factor = 16  \n",
    "\n",
    "tensor_interpolated = zoom(plot_data, zoom_factor, order=3)\n",
    "\n",
    "fig, ax = plt.subplots(figsize=(8, 6))\n",
    "ax.set_facecolor('none')  \n",
    "plt.imshow(tensor_interpolated, cmap=\"magma\")\n",
    "\n",
    "ax.set_xticks([])\n",
    "ax.set_yticks([])\n",
    "plt.axis('off')\n",
    "\n",
    "plt.savefig(\"linear-regression-concise_4_1.png\", bbox_inches='tight', pad_inches=0, transparent=True)\n",
    "plt.show()\n",
    "```"
   ]
  },
  {
   "cell_type": "markdown",
   "metadata": {},
   "source": [
    "## Data"
   ]
  },
  {
   "cell_type": "markdown",
   "metadata": {},
   "source": [
    "```python\n",
    "       0.0001    0.0010    0.0050    0.0100    0.0200    0.0300    0.0500  \\\n",
    "1    5.657097  5.384848  3.601299  3.373245  1.523039  0.969475  0.204719   \n",
    "2    5.196910  5.545742  3.118509  1.574522  0.377521  0.124998  0.007092   \n",
    "3    5.571426  4.899278  2.045441  0.789242  0.110875  0.033473  0.001188   \n",
    "5    5.691138  3.809216  1.319390  0.274128  0.007591  0.000896  0.000843   \n",
    "8    5.398365  3.594234  0.374864  0.033919  0.000752  0.000757  0.000974   \n",
    "10   5.832010  3.124256  0.219955  0.009918  0.000607  0.000679  0.000551   \n",
    "20   5.527383  1.706087  0.008929  0.000410  0.000122  0.000407  0.000720   \n",
    "30   4.643945  0.910826  0.001011  0.000372  0.000282  0.000464  0.001108   \n",
    "40   4.815195  0.481894  0.000527  0.000636  0.000268  0.000617  0.001750   \n",
    "60   4.128714  0.136237  0.000475  0.000738  0.000584  0.000847  0.000733   \n",
    "100  2.817404  0.005468  0.000373  0.000346  0.000700  0.000546  0.001047   \n",
    "200  1.537120  0.000162  0.000595  0.000798  0.000362  0.001062  0.000695   \n",
    "500  0.210534  0.000264  0.000291  0.000376  0.000521  0.000677  0.000209   \n",
    "\n",
    "       0.0700    0.1000    0.1500    0.2000    0.4000    0.7000  \n",
    "1    0.043643  0.005095  0.002481  0.003630  0.002801  0.010736  \n",
    "2    0.001768  0.001409  0.001981  0.002611  0.002215  0.005465  \n",
    "3    0.000459  0.001232  0.002551  0.001636  0.004452  0.007796  \n",
    "5    0.001995  0.000656  0.001681  0.001933  0.005160  0.009583  \n",
    "8    0.001197  0.001861  0.000797  0.002626  0.004630  0.007716  \n",
    "10   0.000572  0.001867  0.001980  0.002622  0.004565  0.022574  \n",
    "20   0.000844  0.000898  0.001182  0.002467  0.004344  0.004457  \n",
    "30   0.000864  0.000943  0.000105  0.003050  0.003578  0.005796  \n",
    "40   0.000660  0.001815  0.001668  0.000684  0.007917  0.004144  \n",
    "60   0.000619  0.000596  0.000736  0.003035  0.011317  0.014116  \n",
    "100  0.001038  0.000434  0.002744  0.001497  0.002467  0.010199  \n",
    "200  0.001536  0.001414  0.001384  0.002679  0.003823  0.004775  \n",
    "500  0.001374  0.001022  0.001403  0.001355  0.004700  0.004826  \n",
    "```"
   ]
  }
 ],
 "metadata": {
  "kernelspec": {
   "display_name": "d2l",
   "language": "python",
   "name": "python3"
  },
  "language_info": {
   "codemirror_mode": {
    "name": "ipython",
    "version": 3
   },
   "file_extension": ".py",
   "mimetype": "text/x-python",
   "name": "python",
   "nbconvert_exporter": "python",
   "pygments_lexer": "ipython3",
   "version": "3.9.18"
  }
 },
 "nbformat": 4,
 "nbformat_minor": 2
}
