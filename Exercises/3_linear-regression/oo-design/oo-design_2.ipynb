{
 "cells": [
  {
   "cell_type": "markdown",
   "metadata": {},
   "source": [
    "#### 1. Remove the save_hyperparameters statement in the B class. Can you still print self.a and self.b? Optional: if you have dived into the full implementation of the HyperParameters class, can you explain why?"
   ]
  },
  {
   "cell_type": "markdown",
   "metadata": {},
   "source": [
    "No I can't, the save_hyperparameters() function is necessary as that saves all variables from the local scope into the current class, so they can accessed. If we don't call save_hyperparameters we'd instead have to explicitly pass those vars into the parent constructor and assign them by using self.x = x."
   ]
  }
 ],
 "metadata": {
  "language_info": {
   "name": "python"
  }
 },
 "nbformat": 4,
 "nbformat_minor": 2
}
