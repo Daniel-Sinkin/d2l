{
 "cells": [
  {
   "cell_type": "markdown",
   "metadata": {},
   "source": [
    "#### 4. What are the problems you might encounter if you wanted to compute the second derivatives of the loss? How would you fix them?"
   ]
  },
  {
   "cell_type": "markdown",
   "metadata": {},
   "source": [
    "The second derivative would be the hessian, so we'd have to store a vector for every variable, instead of a single number.\n",
    "\n",
    "We could also approximate the second derivative explicitly based on the loss, or precompute it, as that has a closed form solution."
   ]
  }
 ],
 "metadata": {
  "language_info": {
   "name": "python"
  }
 },
 "nbformat": 4,
 "nbformat_minor": 2
}
