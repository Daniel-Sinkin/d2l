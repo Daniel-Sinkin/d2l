{
 "cells": [
  {
   "cell_type": "markdown",
   "metadata": {},
   "source": [
    "#### 4. Experiment using different learning rates to find out how quickly the loss function value drops. Can you reduce the error by increasing the number of epochs of training?"
   ]
  },
  {
   "cell_type": "markdown",
   "metadata": {},
   "source": [
    "![image](linear-regression-scratch_6_1.png)"
   ]
  },
  {
   "cell_type": "markdown",
   "metadata": {},
   "source": [
    "# Imports"
   ]
  },
  {
   "cell_type": "code",
   "execution_count": null,
   "metadata": {},
   "outputs": [],
   "source": [
    "import torch\n",
    "from torch import Tensor\n",
    "from d2l import torch as d2l\n",
    "\n",
    "import pandas as pd\n",
    "import matplotlib.pyplot as plt\n",
    "import seaborn as sns\n",
    "\n",
    "from typing import Dict"
   ]
  },
  {
   "cell_type": "markdown",
   "metadata": {},
   "source": [
    "# Constants"
   ]
  },
  {
   "cell_type": "code",
   "execution_count": null,
   "metadata": {},
   "outputs": [],
   "source": [
    "LRS_MIN = 0.01\n",
    "LRS_MAX = 0.03\n",
    "LRS_NUM_STEPS = 50\n",
    "\n",
    "MAX_EPOCHS_LIST = list(range(2, 9))\n",
    "\n",
    "PLOT_TITLE = \"Learning rate Heatmap plot\"\n",
    "PLOT_NORMALIZE_LOWER = 0\n",
    "PLOT_NORMALIZE_UPPER = 1\n",
    "PLOT_NAME = \"linear-regression-scratch_6_1.png\""
   ]
  },
  {
   "cell_type": "markdown",
   "metadata": {},
   "source": [
    "# Training Code"
   ]
  },
  {
   "cell_type": "code",
   "execution_count": null,
   "metadata": {},
   "outputs": [],
   "source": [
    "lrs: Tensor = torch.linspace(LRS_MIN, LRS_MAX, LRS_NUM_STEPS)\n",
    "data: d2l.DataModule = d2l.SyntheticRegressionData(w=torch.tensor([2, -3.4]), b=4.2)\n",
    "\n",
    "losses_dict: Dict[int, Dict[int, float]] = {}\n",
    "for lrs_idx, lr in enumerate(lrs):\n",
    "    losses_dict[lrs_idx]: Dict[int, float] = {} # type: ignore\n",
    "    for max_epoch in MAX_EPOCHS_LIST:\n",
    "        model: d2l.Module = d2l.LinearRegressionScratch(2, lr=lr)\n",
    "        trainer: d2l.Trainer = d2l.Trainer(max_epochs=max_epoch)\n",
    "        trainer.fit(model, data)\n",
    "\n",
    "        losses_dict[lrs_idx][max_epoch] = float(model.loss(model.forward(data.X), data.y))\n",
    "losses_df = pd.DataFrame(losses_dict)"
   ]
  },
  {
   "cell_type": "markdown",
   "metadata": {},
   "source": [
    "# Plotting"
   ]
  },
  {
   "cell_type": "code",
   "execution_count": null,
   "metadata": {},
   "outputs": [],
   "source": [
    "_norm = plt.Normalize(PLOT_NORMALIZE_LOWER, PLOT_NORMALIZE_UPPER)\n",
    "sns.heatmap(losses_df, annot=False, cmap=\"coolwarm\", norm = _norm)\n",
    "plt.title(PLOT_TITLE)\n",
    "plt.savefig(PLOT_NAME)"
   ]
  }
 ],
 "metadata": {
  "kernelspec": {
   "display_name": "d2l",
   "language": "python",
   "name": "python3"
  },
  "language_info": {
   "codemirror_mode": {
    "name": "ipython",
    "version": 3
   },
   "file_extension": ".py",
   "mimetype": "text/x-python",
   "name": "python",
   "nbconvert_exporter": "python",
   "pygments_lexer": "ipython3",
   "version": "3.9.18"
  }
 },
 "nbformat": 4,
 "nbformat_minor": 2
}
