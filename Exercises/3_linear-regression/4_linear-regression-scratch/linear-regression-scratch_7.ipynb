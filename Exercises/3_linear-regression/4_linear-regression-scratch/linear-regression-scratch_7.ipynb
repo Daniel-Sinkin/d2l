{
 "cells": [
  {
   "cell_type": "markdown",
   "metadata": {},
   "source": [
    "#### 7. If the number of examples cannot be divided by the batch size, what happens to `data_iter` at the end of an epoch?"
   ]
  },
  {
   "cell_type": "markdown",
   "metadata": {},
   "source": [
    "It gives you the last dataset, even if it is incomplete."
   ]
  }
 ],
 "metadata": {
  "language_info": {
   "name": "python"
  }
 },
 "nbformat": 4,
 "nbformat_minor": 2
}
