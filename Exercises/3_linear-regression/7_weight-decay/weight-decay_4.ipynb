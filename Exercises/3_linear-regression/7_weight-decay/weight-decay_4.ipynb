{
 "cells": [
  {
   "cell_type": "markdown",
   "metadata": {},
   "source": [
    "#### 4. We know that $||w||^2 = w^\\top w$. Can you find a similiar equation for matrices (see the Frobenius norm in Section 2.3.11)? "
   ]
  },
  {
   "cell_type": "markdown",
   "metadata": {},
   "source": [
    "So we know that $||Ax||^2 = \\langle Ax, Ax \\rangle = (Ax)^\\top Ax = x^\\top A^tA x$, I'd guess  that's what they are referring to.\n",
    "\n",
    "Note that this reduces to $x^\\top x = ||x||^2$ if and only if $A$ is an orthogonal matrix."
   ]
  }
 ],
 "metadata": {
  "language_info": {
   "name": "python"
  }
 },
 "nbformat": 4,
 "nbformat_minor": 2
}
