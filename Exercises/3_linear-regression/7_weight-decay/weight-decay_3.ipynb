{
 "cells": [
  {
   "cell_type": "markdown",
   "metadata": {},
   "source": [
    "#### 3. What would the update equations look like if instead of $||w||^2$ we used $\\sum_i |w_i|$ as our penalty of choice ($\\ell_1$ regularization)?"
   ]
  },
  {
   "cell_type": "markdown",
   "metadata": {},
   "source": [
    "The derivates would just be constants $\\pm 1$, i.e. they wouldn't scale with the size of $w$, but instead give a constant penalization the more $w$ grows."
   ]
  }
 ],
 "metadata": {
  "language_info": {
   "name": "python"
  }
 },
 "nbformat": 4,
 "nbformat_minor": 2
}
