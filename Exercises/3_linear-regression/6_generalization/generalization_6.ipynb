{
 "cells": [
  {
   "cell_type": "markdown",
   "metadata": {},
   "source": [
    "#### 6. The VC dimension is defined as the maximum number of points that can be classified with arbitrary labels  by a function of a class of functions. Why might this not be a good idea for measuring how complex the class of functions is? Hint: consider the magnitude of the functions."
   ]
  },
  {
   "cell_type": "markdown",
   "metadata": {},
   "source": [
    "If we \"Blow up\" all the data points we wouldn't change anything about the inherent complexity of the classification problem, but we significantly change the potential functions that might classify our pointset, which is something that the VC dimension does not take into account. "
   ]
  }
 ],
 "metadata": {
  "language_info": {
   "name": "python"
  }
 },
 "nbformat": 4,
 "nbformat_minor": 2
}
