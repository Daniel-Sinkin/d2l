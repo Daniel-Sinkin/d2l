{
 "cells": [
  {
   "cell_type": "markdown",
   "metadata": {},
   "source": [
    "#### 7. Your manager gives you a difficult dataset on which your current algorithm does not perform so well. How would you justify to him that you need more data? Hint: you cannot increase the data but you can decrease it."
   ]
  },
  {
   "cell_type": "markdown",
   "metadata": {},
   "source": [
    "Take my current training data and use less of it, if I can establish a trend from the less data to the current availiable data in the generalization error then I have established that more data can be beneficial. I Could also use the data we don't use to train to make my validation / test set larger, is that a good idea.\n",
    "\n",
    "In general more data results in a smaller generalization error. Also having more data in my testing set would allow me make stronger statements about the generalization error."
   ]
  }
 ],
 "metadata": {
  "language_info": {
   "name": "python"
  }
 },
 "nbformat": 4,
 "nbformat_minor": 2
}
