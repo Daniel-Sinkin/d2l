{
 "cells": [
  {
   "cell_type": "markdown",
   "metadata": {},
   "source": [
    "#### 4. Why is $K$-fold cross-validation very expensive to compute?"
   ]
  },
  {
   "cell_type": "markdown",
   "metadata": {},
   "source": [
    "We have to compute the test run with $(K-1)/K$ of the data $K$ times, so the $K$-fold cross validation is $K-1$ times as expensive as a single run with all the data (assuming computation time scales linearly with data)."
   ]
  }
 ],
 "metadata": {
  "language_info": {
   "name": "python"
  }
 },
 "nbformat": 4,
 "nbformat_minor": 2
}
