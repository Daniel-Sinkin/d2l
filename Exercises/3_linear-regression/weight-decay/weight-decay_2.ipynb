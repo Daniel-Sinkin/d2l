{
 "cells": [
  {
   "cell_type": "markdown",
   "metadata": {},
   "source": [
    "#### 2. Use a validation set to find the optimal value of $\\lambda$. Is it really the optimal value? Does this matter?"
   ]
  },
  {
   "cell_type": "markdown",
   "metadata": {},
   "source": [
    "We already saw that the training loss continues to fall as $\\lambda$ increases, although it's starting to improve very slowly around 5, so I guess we could call that optimal.\n",
    "\n",
    "No it does not matter to find an optimal $\\lambda$."
   ]
  }
 ],
 "metadata": {
  "language_info": {
   "name": "python"
  }
 },
 "nbformat": 4,
 "nbformat_minor": 2
}
