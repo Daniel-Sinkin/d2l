{
 "cells": [
  {
   "cell_type": "markdown",
   "metadata": {},
   "source": [
    "#### 1. Experiment with the value of $\\lambda$ in the estimation problem in this section. Plot training and validation accuracy as a function of $\\lambda$. What do you observe?"
   ]
  },
  {
   "cell_type": "markdown",
   "metadata": {},
   "source": [
    "![image](weight-decay_1_1.png)"
   ]
  },
  {
   "cell_type": "markdown",
   "metadata": {},
   "source": [
    "```python\n",
    "from scipy.optimize import curve_fit\n",
    "import matplotlib.pyplot as plt\n",
    "import numpy as np\n",
    "\n",
    "loss_dict_val = {}\n",
    "loss_dict_train = {}\n",
    "for lambda_ in np.linspace(0, 15, 200):\n",
    "    model = WeightDecay(wd=lambda_, lr=0.01)\n",
    "    trainer.fit(model, data)\n",
    "    loss_dict_val[lambda_] = sum((model.loss(model(X), y).item() for X, y in data.val_dataloader()))\n",
    "\n",
    "def exponential_decay(x: np.ndarray, a: float, b: float, c: float) -> np.ndarray:\n",
    "    return a * np.exp(-b * x) + c\n",
    "\n",
    "# Convert data to numpy arrays\n",
    "x: np.ndarray = np.array(list(loss_dict_val.keys()))\n",
    "y: np.ndarray = np.array(list(loss_dict_val.values()))\n",
    "\n",
    "# Perform curve fitting\n",
    "popt, pcov = curve_fit(exponential_decay, x, y)\n",
    "a, b, c = popt\n",
    "x_fit = np.linspace(min(x), max(x), 100)\n",
    "y_fit = exponential_decay(x_fit, a, b, c)\n",
    "plt.plot(x_fit, y_fit, '-', label=f\"{a:.3f} * exp(-{b:.3f} * x) + {c:.3f}\", c = \"black\")\n",
    "\n",
    "plt.fill_between(x, y, color=\"orange\", alpha=0.2)\n",
    "\n",
    "plt.plot(x, y, c = \"orange\", label = \"Validation loss\")\n",
    "plt.xlabel(\"Weight decay factor (λ)\")\n",
    "plt.ylabel(\"Loss\")\n",
    "\n",
    "plt.title(\"Validation loss vs weight decay factor (λ)\\nwith exponential decay fit\")\n",
    "plt.legend()\n",
    "```"
   ]
  }
 ],
 "metadata": {
  "language_info": {
   "name": "python"
  }
 },
 "nbformat": 4,
 "nbformat_minor": 2
}
