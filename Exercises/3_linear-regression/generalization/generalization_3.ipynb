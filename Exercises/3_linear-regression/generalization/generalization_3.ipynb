{
 "cells": [
  {
   "cell_type": "markdown",
   "metadata": {},
   "source": [
    "#### 3. Can you ever expect to see zero training error? Under which circumstances would you see zero generalization error?"
   ]
  },
  {
   "cell_type": "markdown",
   "metadata": {},
   "source": [
    "Training error, certainly if we have a problem that can be modelled exactly, or if we have a model that is way too strong for the given problem / given amount of data and basically can just \"memorize\" the entire dataset.\n",
    "\n",
    "Zero Generalization error can only really happen in systems that we are fully able to model (for example synthetic data generated from a well understood system) and we don't have any measuring noise that would break the nice symmetries in our system."
   ]
  }
 ],
 "metadata": {
  "language_info": {
   "name": "python"
  }
 },
 "nbformat": 4,
 "nbformat_minor": 2
}
