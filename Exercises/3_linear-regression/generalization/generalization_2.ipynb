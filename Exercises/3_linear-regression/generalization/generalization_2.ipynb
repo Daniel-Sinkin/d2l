{
 "cells": [
  {
   "cell_type": "markdown",
   "metadata": {},
   "source": [
    "#### 2. Give at least five examples where dependent random variables make treating the problem as IID data inadvisable."
   ]
  },
  {
   "cell_type": "markdown",
   "metadata": {},
   "source": [
    "1. Time Sequential data like stock prices are dependent on previous prices.\n",
    "2. Spatial Data, spatial information clusters in non-random ways.\n",
    "3. Languages, sentences have deep syntactic rules that can't be modelled as IID.\n",
    "4. Modelling in networks, like two people being friends is more likely if they share a mutual friend.\n",
    "5. Person-specific data, a track record of good or poor health influences the new data."
   ]
  }
 ],
 "metadata": {
  "language_info": {
   "name": "python"
  }
 },
 "nbformat": 4,
 "nbformat_minor": 2
}
