{
 "cells": [
  {
   "cell_type": "markdown",
   "metadata": {},
   "source": [
    "#### 9. Why do we need to reshuffle the dataset? Can you design a case where a maliciously constructed dataset would break the optimization algorithm otherwise?"
   ]
  },
  {
   "cell_type": "markdown",
   "metadata": {},
   "source": [
    "We could have misleading patterns, first a positive linear correspondence for the first 1000 datapoints and then 1000 negative ones following it, then the first 1000 datapoints give us exactly misleading information.\n",
    "\n",
    "You can imagine a way to maliciously design that kind of pattern on any data with high variance simply by sorting the data.\n",
    "\n",
    "### With shuffle\n",
    "\n",
    "![image](linear-regression-scratch_9_1.png)\n",
    "\n",
    "### Without shuffle\n",
    "\n",
    "![image](linear-regression-scratch_9_2.png)"
   ]
  },
  {
   "cell_type": "markdown",
   "metadata": {},
   "source": [
    "## Code"
   ]
  },
  {
   "cell_type": "code",
   "execution_count": null,
   "metadata": {},
   "outputs": [],
   "source": [
    "import torch\n",
    "from d2l import torch as d2l\n",
    "\n",
    "DO_SHUFFLE = True\n",
    "\n",
    "class DataLoader(d2l.DataModule):\n",
    "    \"\"\"Synthetic data for linear regression.\n",
    "\n",
    "    Defined in :numref:`sec_synthetic-regression-data`\"\"\"\n",
    "    def __init__(self, X, y, batch_size=1000):\n",
    "        super().__init__()\n",
    "        self.save_hyperparameters()\n",
    "\n",
    "    def get_dataloader(self, train):\n",
    "        \"\"\"Defined in :numref:`sec_synthetic-regression-data`\"\"\"\n",
    "        return self.get_tensorloader((self.X, self.y), DO_SHUFFLE)\n",
    "\n",
    "# Construct a malicious dataset\n",
    "X1 = torch.randn(1000, 2)\n",
    "y1 = 2 * X1[:, 0] + 3 * X1[:, 1] + torch.randn(1000)  # Positive linear relationship\n",
    "\n",
    "X2 = torch.randn(1000, 2)\n",
    "y2 = -2 * X2[:, 0] - 3 * X2[:, 1] + torch.randn(1000)  # Negative linear relationship\n",
    "\n",
    "X = torch.cat([X1, X2], dim=0)\n",
    "y = torch.cat([y1, y2], dim=0)\n",
    "\n",
    "# Train the model without shuffling\n",
    "model = d2l.LinearRegressionScratch(2, lr=0.03)\n",
    "data = DataLoader(X, y)\n",
    "trainer = d2l.Trainer(max_epochs=15)\n",
    "trainer.fit(model, data)\n",
    "\n",
    "# Evaluate the model\n",
    "with torch.no_grad():\n",
    "    print(f'error in estimating w: {model.w.reshape(2) - torch.tensor([2, 3])}')\n",
    "    print(f'error in estimating b: {model.b - 0}')"
   ]
  }
 ],
 "metadata": {
  "kernelspec": {
   "display_name": "d2l",
   "language": "python",
   "name": "python3"
  },
  "language_info": {
   "codemirror_mode": {
    "name": "ipython",
    "version": 3
   },
   "file_extension": ".py",
   "mimetype": "text/x-python",
   "name": "python",
   "nbconvert_exporter": "python",
   "pygments_lexer": "ipython3",
   "version": "3.9.18"
  }
 },
 "nbformat": 4,
 "nbformat_minor": 2
}
