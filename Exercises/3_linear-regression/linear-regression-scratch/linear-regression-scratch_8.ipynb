{
 "cells": [
  {
   "cell_type": "markdown",
   "metadata": {},
   "source": [
    "#### 8. Try implementing a different loss function, such as the absolute value loss\n",
    "```python\n",
    "(y_hat - d2l.reshape(y, y_hat.shape)).abs().sum()\n",
    "```\n",
    "1. Check what happens for regular data.\n",
    "1. Check whether there is a difference in behavior if you actively perturb some entries, such as $y_5 = 10000$, of $\\mathbf{y}$.\n",
    "1. Can you think of a cheap solution for combining the best aspects of squared loss and absolute value loss?\n",
    "    Hint: how can you avoid really large gradient values?"
   ]
  }
 ],
 "metadata": {
  "language_info": {
   "name": "python"
  }
 },
 "nbformat": 4,
 "nbformat_minor": 2
}
