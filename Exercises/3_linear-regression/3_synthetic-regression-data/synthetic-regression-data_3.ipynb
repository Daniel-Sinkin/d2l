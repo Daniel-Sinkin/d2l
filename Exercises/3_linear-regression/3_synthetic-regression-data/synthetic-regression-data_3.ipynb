{
 "cells": [
  {
   "cell_type": "markdown",
   "metadata": {},
   "source": [
    "#### 3. Implement a data generator that produces new data on the fly, every time the iterator is called. "
   ]
  },
  {
   "cell_type": "code",
   "execution_count": null,
   "metadata": {},
   "outputs": [],
   "source": [
    "import torch\n",
    "from d2l import torch as d2l\n",
    "\n",
    "from typing import Iterator\n",
    "\n",
    "class IterativeDataGenerator(d2l.DataModule):\n",
    "    def __init__(self, w, b, num_data = 1000, noise=0.01, batch_size=32, seed: int = None):\n",
    "        super().__init__()\n",
    "        self.save_hyperparameters()\n",
    "\n",
    "    def get_dataloader(self, train) -> Iterator:\n",
    "        if self.seed is not None:\n",
    "            torch.random.manual_seed(self.seed)\n",
    "        noise = torch.randn(self.num_data, 1) * self.noise\n",
    "        while True:\n",
    "            X: torch.Tensor = torch.randn(self.num_data, len(self.w))\n",
    "            y: torch.Tensor = torch.matmul(X, self.w.reshape((-1, 1))) + self.b + noise\n",
    "            yield X, y\n",
    "\n",
    "idg = IterativeDataGenerator(w=torch.tensor([2, -3.4]), b=4.2, seed = 0x2024_03_18)\n",
    "dl = idg.train_dataloader()\n",
    "iteration = 0\n",
    "for X, y in dl:\n",
    "    print(X[0, 0])\n",
    "\n",
    "    iteration += 1\n",
    "    if iteration >= 5:\n",
    "        break\n",
    "print(iteration)"
   ]
  },
  {
   "cell_type": "markdown",
   "metadata": {},
   "source": [
    "```python\n",
    "tensor(-0.6557)\n",
    "tensor(2.2029)\n",
    "tensor(0.3699)\n",
    "tensor(1.7989)\n",
    "tensor(1.1597)\n",
    "5\n",
    "```"
   ]
  }
 ],
 "metadata": {
  "kernelspec": {
   "display_name": "d2l",
   "language": "python",
   "name": "python3"
  },
  "language_info": {
   "codemirror_mode": {
    "name": "ipython",
    "version": 3
   },
   "file_extension": ".py",
   "mimetype": "text/x-python",
   "name": "python",
   "nbconvert_exporter": "python",
   "pygments_lexer": "ipython3",
   "version": "3.9.18"
  }
 },
 "nbformat": 4,
 "nbformat_minor": 2
}
