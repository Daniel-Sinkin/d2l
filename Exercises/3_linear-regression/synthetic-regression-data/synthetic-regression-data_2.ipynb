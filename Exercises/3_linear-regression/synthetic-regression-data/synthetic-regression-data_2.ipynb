{
 "cells": [
  {
   "cell_type": "markdown",
   "metadata": {},
   "source": [
    "#### 2. Suppose that we want to generate a huge dataset, where both the size of the parameter vector w and the number of examples num_examples are large.\n",
    "1. What happens if we cannot hold all data in memory?\n",
    "2. How would you shuffle the data if it is held on disk? Your task is to design an efficient algorithm that does not require too many random reads or writes. Hint: pseudorandom permutation generators allow you to design a reshuffle without the need to store the permutation table explicitly (Naor and Reingold, 1999)."
   ]
  }
 ],
 "metadata": {
  "language_info": {
   "name": "python"
  }
 },
 "nbformat": 4,
 "nbformat_minor": 2
}
