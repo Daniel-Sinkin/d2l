{
 "cells": [
  {
   "cell_type": "markdown",
   "metadata": {},
   "source": [
    "#### 4. How would you design a random data generator that generates the same data each time it is called? "
   ]
  },
  {
   "cell_type": "markdown",
   "metadata": {},
   "source": [
    "Call some library generator with a fixed seed and use that one."
   ]
  }
 ],
 "metadata": {
  "language_info": {
   "name": "python"
  }
 },
 "nbformat": 4,
 "nbformat_minor": 2
}
