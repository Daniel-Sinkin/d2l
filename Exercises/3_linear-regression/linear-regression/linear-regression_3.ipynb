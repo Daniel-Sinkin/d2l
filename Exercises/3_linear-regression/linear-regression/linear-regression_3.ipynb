{
 "cells": [
  {
   "cell_type": "markdown",
   "metadata": {},
   "source": [
    "#### 3. Assume that you want to find quadratic functions of $\\mathbf{x}$, i.e., $f(\\mathbf{x}) = b + \\sum_i w_i x_i + \\sum_{j \\leq i} w_{ij} x_{i} x_{j}$. How would you formulate this in a deep network?"
   ]
  },
  {
   "cell_type": "markdown",
   "metadata": {},
   "source": [
    "One way to model is to have $1$ hidden layer (more are not helpful because we don't have an activation function, that was an exercise in another section).\n",
    "\n",
    "The input layer is given by $n$ neurons $(x_1, \\dots, x_n)$, the hidden layer has $2n$ neurons and the output layer has again $n$ neurons.\n",
    "\n",
    "We label the neurons in the hidden layer by $(y_1, \\dots, y_n, y_{n + 1}, \\dots, y_{2n})$ and the neurons in the output layer by $(z_1, \\dots, z_n)$.\n",
    "\n",
    "We define $y_i := \\sum_{i = 1}^n w_i x_i$ and $y_{n + i} = x_I$ for $1 \\leq i \\leq n$"
   ]
  },
  {
   "cell_type": "markdown",
   "metadata": {},
   "source": []
  }
 ],
 "metadata": {
  "language_info": {
   "name": "python"
  }
 },
 "nbformat": 4,
 "nbformat_minor": 2
}
