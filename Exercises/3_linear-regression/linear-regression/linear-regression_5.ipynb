{
 "cells": [
  {
   "cell_type": "markdown",
   "metadata": {},
   "source": [
    "#### 5. Assume that the noise model governing the additive noise $\\epsilon$ is the exponential distribution. That is, $p(\\epsilon) = \\frac{1}{2} \\exp(-|\\epsilon|)$.\n",
    "1. Write out the negative log-likelihood of the data under the model $-\\log P(\\mathbf y \\mid \\mathbf X)$.\n",
    "1. Can you find a closed form solution?\n",
    "1. Suggest a minibatch stochastic gradient descent algorithm to solve this problem. What could possibly go wrong (hint: what happens near the stationary point as we keep on updating the parameters)? Can you fix this?"
   ]
  },
  {
   "cell_type": "markdown",
   "metadata": {},
   "source": [
    "(1)\n",
    "\n",
    "Assuming that $p(y | x) = p(y - w^tx - b)$ we see that $p(y|X) = \\prod_{i = 1}^n p(y^{(i)}|x^{(i)})$ and so\n",
    "$$\n",
    "\\begin{aligned}\n",
    "-\\log(p(y|X)) &= - \\log \\prod_{i = 1}^n p(y^{(i)}|x^{(i)}) \\\\\n",
    "&= - \\sum_{i = 1}^n \\log\\left(\\frac{1}{2}\\exp(-|y^{(i)} - w^tx^{(i)} - b|)\\right) \\\\\n",
    "&= - \\sum_{i = 1}^n \\log(1 / 2) - \\sum_{i = 1}^n \\log(\\exp-|y^{(i)} - w^tx^{(i)} - b|)) \\\\\n",
    "&= n \\log(2) + \\sum_{i = 1}^n |y^{(i)} - w^tx^{(i)} - b|.\n",
    "\\end{aligned}\n",
    "$$\n",
    "Note that minimizing this expression is equivalent to minimizing \n",
    "$$\n",
    "\\sum_{i = 1}^n |y^{(i)} - w^tx^{(i)} - b|,\n",
    "$$\n",
    "i.e., to\n",
    "$$\n",
    "||y - Wx||_1.\n",
    "$$"
   ]
  },
  {
   "cell_type": "markdown",
   "metadata": {},
   "source": [
    "(2)\n",
    "\n",
    "Already done in (1)"
   ]
  },
  {
   "cell_type": "markdown",
   "metadata": {},
   "source": [
    "(3)"
   ]
  },
  {
   "cell_type": "markdown",
   "metadata": {},
   "source": []
  }
 ],
 "metadata": {
  "language_info": {
   "name": "python"
  }
 },
 "nbformat": 4,
 "nbformat_minor": 2
}
