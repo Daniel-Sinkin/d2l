{
 "cells": [
  {
   "cell_type": "markdown",
   "metadata": {},
   "source": [
    "#### 7. What happens if you want to use regression for realistic price estimation of houses or stock prices?\n",
    "1. Show that the additive Gaussian noise assumption is not appropriate. Hint: can we have negative prices? What about fluctuations?\n",
    "1. Why would regression to the logarithm of the price be much better, i.e., $y = \\log \\textrm{price}$?\n",
    "1. What do you need to worry about when dealing with pennystock, i.e., stock with very low prices? Hint: can you trade at all possible prices? Why is this a bigger problem for cheap stock? For more information review the celebrated Black--Scholes model for option pricing :cite:`Black.Scholes.1973`.\n"
   ]
  },
  {
   "cell_type": "markdown",
   "metadata": {},
   "source": [
    "(1)\n",
    "\n",
    "There are a couple of problems with this, first of all prices of stocks and housing prices can't be $0$. For houses there is even a lower bound on the price of a house. Furthermore the price of a stock can vary, for example larger, better known companies tend to have less volatility."
   ]
  },
  {
   "cell_type": "markdown",
   "metadata": {},
   "source": [
    "(2)\n",
    "\n",
    "It would allow for negative values, which alleviates one of the problems with assuming gaussian noise mentioned before. Furthermore differences in log prices correspond to relative changes in price (and are actually a better measure for stock prices), because\n",
    "$$\n",
    "\\log(x) - \\log(y) = \\log\\left(\\frac{x}{y}\\right).\n",
    "$$\n",
    "Furthermore note that there is only so low a house price can go, but housing prices towards the upper values is far higher, a log-based scale does alleviate this right-skew."
   ]
  },
  {
   "cell_type": "markdown",
   "metadata": {},
   "source": [
    "(3)\n",
    "\n",
    "The price can't be negative, and for small values the relative jumps become huge even if there is very littel absolute change, for example $0.01 \\rightarrow 0.1$ is already a $1000\\%$ increase even though the price of the stock barely changed. Also I suppose there could be some rounding concerns."
   ]
  }
 ],
 "metadata": {
  "language_info": {
   "name": "python"
  }
 },
 "nbformat": 4,
 "nbformat_minor": 2
}
