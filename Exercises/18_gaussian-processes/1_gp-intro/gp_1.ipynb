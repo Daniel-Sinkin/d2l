{
 "cells": [
  {
   "cell_type": "markdown",
   "metadata": {},
   "source": [
    "#### 1. What is the difference between epistemic uncertainty versus observation uncertainty?"
   ]
  },
  {
   "cell_type": "markdown",
   "metadata": {},
   "source": [
    "Epistemic uncertainty is the uncertainty we have based on having too few datapoints to have a unique predictive model, i.e., we have more variabiltiy in the potential function.\n",
    "\n",
    "Observational uncertainty is the type of uncertainty inherent to our data, things like instrument / rounding errors, representativeness errors and things like random errors and noise that don't necessary go down with more data."
   ]
  }
 ],
 "metadata": {
  "language_info": {
   "name": "python"
  }
 },
 "nbformat": 4,
 "nbformat_minor": 2
}
