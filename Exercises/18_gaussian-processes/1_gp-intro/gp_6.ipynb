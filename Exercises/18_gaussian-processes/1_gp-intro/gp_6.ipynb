{
 "cells": [
  {
   "cell_type": "markdown",
   "metadata": {},
   "source": [
    "#### 6. Do you think increasing our estimate of observation noise would increase or decrease our estimate of the length-scale of the ground truth function?"
   ]
  }
 ],
 "metadata": {
  "language_info": {
   "name": "python"
  }
 },
 "nbformat": 4,
 "nbformat_minor": 2
}
