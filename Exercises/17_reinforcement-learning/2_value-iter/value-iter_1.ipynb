{
 "cells": [
  {
   "cell_type": "markdown",
   "metadata": {},
   "source": [
    "#### 1. Try increasing the grid size to $8 \\times 8$. Compared with $4 \\times 4$ grid, how many iterations does it take to find the optimal value function?"
   ]
  },
  {
   "cell_type": "markdown",
   "metadata": {},
   "source": [
    "It takes 15 Iterations."
   ]
  },
  {
   "cell_type": "markdown",
   "metadata": {},
   "source": [
    "![image](value-iter_1_1.png)"
   ]
  },
  {
   "cell_type": "markdown",
   "metadata": {},
   "source": [
    "We have to modify how we load in the FrozenLake dataset to be able to pass the `map_name` as an argument. The plotting logic and so on is not particularly stable, so we had to modify some parts of the code to make it work.\n",
    "## Implementation of Value Iteration\n",
    "```python\n",
    "%matplotlib inline\n",
    "import random\n",
    "import numpy as np\n",
    "from d2l import torch as d2l\n",
    "\n",
    "seed = 0  # Random number generator seed\n",
    "gamma = 0.95  # Discount factor\n",
    "num_iters = 16  # Number of iterations\n",
    "random.seed(seed)  # Set the random seed to ensure results can be reproduced\n",
    "np.random.seed(seed)\n",
    "\n",
    "# Now set up the environment\n",
    "env_info = d2l.make_env('FrozenLake-v1', seed=seed, map_name = \"8x8\")\n",
    "\n",
    "```\n",
    "Inside of the d2l torch variant:\n",
    "```python\n",
    "def make_env(name ='', seed=0, map_name = \"4x4\"):\n",
    "    \"\"\"Defined in :numref:`sec_utils`\"\"\"\n",
    "    # Input parameters:\n",
    "    # name: specifies a gym environment.\n",
    "    # For Value iteration, only FrozenLake-v1 is supported.\n",
    "    if name == 'FrozenLake-v1':\n",
    "        return frozen_lake(seed, map_name)\n",
    "\n",
    "    else:\n",
    "        raise ValueError(\"%s env is not supported in this Notebook\")\n",
    "```\n",
    "```python\n",
    "def frozen_lake(seed, map_name = \"4x4\"):\n",
    "    \"\"\"Defined in :numref:`sec_utils`\"\"\"\n",
    "    # See https://www.gymlibrary.dev/environments/toy_text/frozen_lake/ to learn more about this env\n",
    "    # How to process env.P.items is adpated from https://sites.google.com/view/deep-rl-bootcamp/labs\n",
    "    import gym\n",
    "\n",
    "    env = gym.make('FrozenLake-v1', is_slippery=False, map_name = map_name)\n",
    "    ...\n",
    "```"
   ]
  },
  {
   "cell_type": "markdown",
   "metadata": {},
   "source": [
    "## Adjustment in plotting function\n",
    "```python\n",
    "def show_value_function_progress(env_desc, V, pi):\n",
    "    \"\"\"Defined in :numref:`sec_utils`\"\"\"\n",
    "    # This function visualizes how value and policy changes over time.\n",
    "    # V: [num_iters, num_states]\n",
    "    # pi: [num_iters, num_states]\n",
    "    # How to visualize value function is adapted (but changed) from: https://sites.google.com/view/deep-rl-bootcamp/labs\n",
    "\n",
    "    num_iters = V.shape[0]\n",
    "    fig, ax  = plt.subplots(figsize=(15, 15))\n",
    "\n",
    "    num_x, num_y = env_desc.shape\n",
    "\n",
    "    for k in range(V.shape[0]):\n",
    "        plt.subplot(6, 4, k + 1)\n",
    "        plt.imshow(V[k].reshape(num_x,num_y), cmap=\"bone\")\n",
    "        ax = plt.gca()\n",
    "        ax.set_xticks(np.arange(0, 5)-.5, minor=True)\n",
    "        ax.set_yticks(np.arange(0, 5)-.5, minor=True)\n",
    "        ax.grid(which=\"minor\", color=\"w\", linestyle='-', linewidth=3)\n",
    "        ax.tick_params(which=\"minor\", bottom=False, left=False)\n",
    "        ax.set_xticks([])\n",
    "        ax.set_yticks([])\n",
    "\n",
    "        # LEFT action: 0, DOWN action: 1\n",
    "        # RIGHT action: 2, UP action: 3\n",
    "        action2dxdy = {0:(-.25, 0),1: (0, .25),\n",
    "                       2:(0.25, 0),3: (-.25, 0)}\n",
    "\n",
    "        for y in range(num_y):\n",
    "            for x in range(num_x):\n",
    "                action = pi[k].reshape(num_y,num_x)[y, x]\n",
    "                dx, dy = action2dxdy[action]\n",
    "                ...\n",
    "```"
   ]
  }
 ],
 "metadata": {
  "language_info": {
   "name": "python"
  }
 },
 "nbformat": 4,
 "nbformat_minor": 2
}
