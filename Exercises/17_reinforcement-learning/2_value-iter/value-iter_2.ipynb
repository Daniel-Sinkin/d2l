{
 "cells": [
  {
   "cell_type": "markdown",
   "metadata": {},
   "source": [
    "#### 2. What is the computational complexity of the Value Iteration algorithm?"
   ]
  },
  {
   "cell_type": "markdown",
   "metadata": {},
   "source": [
    "The complexity scales linearly with number of iterations ($I$), the y ($Y$) and x ($X$) size of the board, and the number of (state, action) pairs ($A$), as such the computational complexity is\n",
    "$$\n",
    "O(I \\cdot Y \\cdot X \\cdot A)\n",
    "$$"
   ]
  }
 ],
 "metadata": {
  "language_info": {
   "name": "python"
  }
 },
 "nbformat": 4,
 "nbformat_minor": 2
}
