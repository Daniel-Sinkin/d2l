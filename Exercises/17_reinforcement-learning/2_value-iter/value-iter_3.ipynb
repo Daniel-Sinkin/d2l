{
 "cells": [
  {
   "cell_type": "markdown",
   "metadata": {},
   "source": [
    "#### 3. Run the Value Iteration algorithm again with $\\gamma$ (i.e. \"gamma\" in the above code) when it equals to $0$, $0.5$, and $1$ and analyze its results. "
   ]
  },
  {
   "cell_type": "markdown",
   "metadata": {},
   "source": [
    "## γ = 1.0 Very Confident Change\n",
    "![image](value-iter_3_1.png)\n",
    "\n",
    "## γ = 0.5 Very Slow Change\n",
    "![image](value-iter_3_2.png)\n",
    "\n",
    "## γ = 0 No Change\n",
    "![image](value-iter_3_3.png)"
   ]
  }
 ],
 "metadata": {
  "language_info": {
   "name": "python"
  }
 },
 "nbformat": 4,
 "nbformat_minor": 2
}
