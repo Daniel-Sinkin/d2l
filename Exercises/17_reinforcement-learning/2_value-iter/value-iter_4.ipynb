{
 "cells": [
  {
   "cell_type": "markdown",
   "metadata": {},
   "source": [
    "#### 4. How does the value of $\\gamma$ affect the number of iterations taken by Value Iteration to converge? What happens when $\\gamma=1$?"
   ]
  },
  {
   "cell_type": "markdown",
   "metadata": {},
   "source": [
    "It modifies how quickly the state changes after each iteration, with a value of $\\gamma = 1$ the algorithm is confidently incorrect after a couple of iterations."
   ]
  }
 ],
 "metadata": {
  "language_info": {
   "name": "python"
  }
 },
 "nbformat": 4,
 "nbformat_minor": 2
}
