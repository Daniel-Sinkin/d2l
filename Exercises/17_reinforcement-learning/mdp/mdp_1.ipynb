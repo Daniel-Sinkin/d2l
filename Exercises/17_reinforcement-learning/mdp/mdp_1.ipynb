{
 "cells": [
  {
   "cell_type": "markdown",
   "metadata": {},
   "source": [
    "#### 1. Suppose that we want to design an MDP to model [MountainCar](https://www.gymlibrary.dev/environments/classic_control/mountain_car/) problem.\n",
    "1. What would be the set of states?\n",
    "2. What would be the set of actions?\n",
    "3. What would be the possible reward functions?"
   ]
  },
  {
   "cell_type": "markdown",
   "metadata": {},
   "source": []
  }
 ],
 "metadata": {
  "language_info": {
   "name": "python"
  }
 },
 "nbformat": 4,
 "nbformat_minor": 2
}
