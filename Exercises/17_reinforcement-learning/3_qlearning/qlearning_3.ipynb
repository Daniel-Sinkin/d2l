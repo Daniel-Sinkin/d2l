{
 "cells": [
  {
   "cell_type": "markdown",
   "metadata": {},
   "source": [
    "#### 3. Run the Q-learning algorithm again with $\\epsilon$ (i.e. \"epsilon\" in the above code) when it equals to $0$, $0.5$, and $1$ and analyze its results."
   ]
  },
  {
   "cell_type": "markdown",
   "metadata": {},
   "source": [
    "## ε = 0.0\n",
    "![image](qlearning_3_1.png)\n",
    "## ε = 0.5\n",
    "![image](qlearning_3_2.png)\n",
    "## ε = 1.0\n",
    "![image](qlearning_3_3.png)"
   ]
  }
 ],
 "metadata": {
  "language_info": {
   "name": "python"
  }
 },
 "nbformat": 4,
 "nbformat_minor": 2
}
