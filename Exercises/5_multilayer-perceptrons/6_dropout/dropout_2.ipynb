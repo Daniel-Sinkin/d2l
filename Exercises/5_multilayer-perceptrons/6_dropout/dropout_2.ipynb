{
 "cells": [
  {
   "cell_type": "markdown",
   "metadata": {},
   "source": [
    "#### 2. Increase the number of epochs and compare the results obtained when using dropout with those when not using it."
   ]
  }
 ],
 "metadata": {
  "language_info": {
   "name": "python"
  }
 },
 "nbformat": 4,
 "nbformat_minor": 2
}
