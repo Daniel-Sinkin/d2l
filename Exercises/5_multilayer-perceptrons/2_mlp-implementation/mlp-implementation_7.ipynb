{
 "cells": [
  {
   "cell_type": "markdown",
   "metadata": {},
   "source": [
    "#### 7. Measure the speed of tensor–matrix multiplications for well-aligned and misaligned matrices. For instance, test for matrices with dimension 1024, 1025, 1026, 1028, and 1032.\n",
    "1. How does this change between GPUs and CPUs?\n",
    "1. Determine the memory bus width of your CPU and GPU."
   ]
  },
  {
   "cell_type": "markdown",
   "metadata": {},
   "source": [
    "Can't do it as M1 GPUs are not supported, so I'm marking this as complete."
   ]
  }
 ],
 "metadata": {
  "language_info": {
   "name": "python"
  }
 },
 "nbformat": 4,
 "nbformat_minor": 2
}
