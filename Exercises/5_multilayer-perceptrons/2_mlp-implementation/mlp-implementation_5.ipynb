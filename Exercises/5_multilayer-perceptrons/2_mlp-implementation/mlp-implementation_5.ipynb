{
 "cells": [
  {
   "cell_type": "markdown",
   "metadata": {},
   "source": [
    "#### 5. Let’s optimize over all hyperparameters jointly, i.e., learning rate, number of epochs, number of hidden layers, and number of hidden units per layer.\n",
    "1. What is the best result you can get by optimizing over all of them?\n",
    "1. Why it is much more challenging to deal with multiple hyperparameters?\n",
    "1. Describe an efficient strategy for optimizing over multiple parameters jointly."
   ]
  },
  {
   "cell_type": "markdown",
   "metadata": {},
   "source": [
    "(2)\n",
    "\n",
    "It's harder to track which hyperparameter change had what effect."
   ]
  }
 ],
 "metadata": {
  "language_info": {
   "name": "python"
  }
 },
 "nbformat": 4,
 "nbformat_minor": 2
}
