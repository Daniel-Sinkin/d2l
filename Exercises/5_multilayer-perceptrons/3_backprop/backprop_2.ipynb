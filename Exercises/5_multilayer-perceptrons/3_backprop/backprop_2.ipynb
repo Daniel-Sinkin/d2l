{
 "cells": [
  {
   "cell_type": "markdown",
   "metadata": {},
   "source": [
    "#### 2. Add a bias to the hidden layer of the model described in this section (you do not need to include bias in the regularization term).\n",
    "1. Draw the corresponding computational graph.\n",
    "1. Derive the forward and backward propagation equations."
   ]
  }
 ],
 "metadata": {
  "language_info": {
   "name": "python"
  }
 },
 "nbformat": 4,
 "nbformat_minor": 2
}
