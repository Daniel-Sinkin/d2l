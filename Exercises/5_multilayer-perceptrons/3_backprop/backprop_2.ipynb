{
 "cells": [
  {
   "cell_type": "markdown",
   "metadata": {},
   "source": [
    "#### 2. Add a bias to the hidden layer of the model described in this section (you do not need to include bias in the regularization term).\n",
    "1. Draw the corresponding computational graph.\n",
    "1. Derive the forward and backward propagation equations."
   ]
  },
  {
   "cell_type": "markdown",
   "metadata": {},
   "source": [
    "Did this exact problem in another lecture, so I'll skip it here, just mentioning for the bias term we just add a (+) node which reads in the bias as a new param and combines it with our weight-multiplied thing and then use\n",
    "$$\n",
    "(f + g)' = f' + g'\n",
    "$$\n",
    "to compute the backpropagation."
   ]
  }
 ],
 "metadata": {
  "language_info": {
   "name": "python"
  }
 },
 "nbformat": 4,
 "nbformat_minor": 2
}
