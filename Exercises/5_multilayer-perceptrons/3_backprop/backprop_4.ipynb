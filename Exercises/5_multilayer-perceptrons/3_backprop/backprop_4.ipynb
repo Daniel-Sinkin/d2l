{
 "cells": [
  {
   "cell_type": "markdown",
   "metadata": {},
   "source": [
    "#### 4. Assume that you want to compute second derivatives. What happens to the computational graph? How long do you expect the calculation to take?"
   ]
  },
  {
   "cell_type": "markdown",
   "metadata": {},
   "source": [
    "The gradient becomes the hessian which has significantly more entries (generically $n \\times n$ but usually due to Schwarz it has $n(n + 1) / 2$ entries. Also can't compute it as nicely as we can't store it as cleanly as a vector of same dimension."
   ]
  }
 ],
 "metadata": {
  "language_info": {
   "name": "python"
  }
 },
 "nbformat": 4,
 "nbformat_minor": 2
}
