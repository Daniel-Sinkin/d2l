{
 "cells": [
  {
   "cell_type": "markdown",
   "metadata": {},
   "source": [
    "#### 5. Assume that the computational graph is too large for your GPU.\n",
    "1. Can you partition it over more than one GPU?\n",
    "1. What are the advantages and disadvantages over training on a smaller minibatch?"
   ]
  },
  {
   "cell_type": "markdown",
   "metadata": {},
   "source": []
  }
 ],
 "metadata": {
  "language_info": {
   "name": "python"
  }
 },
 "nbformat": 4,
 "nbformat_minor": 2
}
