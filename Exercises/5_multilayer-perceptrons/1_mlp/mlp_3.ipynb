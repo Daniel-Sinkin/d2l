{
 "cells": [
  {
   "cell_type": "markdown",
   "metadata": {},
   "source": [
    "#### 3. Compute the derivative of the Swish activation function $x^2 \\operatorname{sigmoid}(\\beta x)$."
   ]
  },
  {
   "cell_type": "markdown",
   "metadata": {},
   "source": [
    "$$\n",
    "f(x) = x \\operatorname{sigmoid}(\\beta x) = \\frac{x}{1 + e^{-\\beta x}}\n",
    "$$\n",
    "and\n",
    "$$\n",
    "\\begin{aligned}\n",
    "f'(x) &= \\frac{(1 + e^{-\\beta x}) - x \\frac{d}{dx} \\left( 1 + e^{-\\beta x}\\right)}{(1 + e^{- \\beta x})^2} \\\\\n",
    "&= \\frac{1 + e^{- \\beta x} - x \\left( - \\beta e^{-\\beta x}\\right)}{(1 + e^{-\\beta x})^2} \\\\\n",
    "&= \\frac{1 + e^{-\\beta x} + x\\beta e^{-­\\beta x}}{(1 + e^{- \\beta x})^2} \\\\\n",
    "&= (1 + e^{-\\beta x})^{-1} + x\\beta \\frac{e^{-\\beta x}}{(1 + e^{-\\beta x})^2}\n",
    "\\end{aligned}\n",
    "$$\n",
    "An alternative representation can be obtained by multiplying the numerator and denominator of the second to last expression by $\\left(e^{\\beta x}\\right)^2$, which results in\n",
    "$$\n",
    "\\begin{aligned}\n",
    "\\frac{1 + e^{-\\beta x} + x\\beta e^{­-\\beta x}}{(1 + e^{- \\beta x})^2} &= \\frac{\\left(e^{\\beta x}\\right)^2 + e^{\\beta x} + x \\beta e ^{\\beta x}}{(1 + e^{\\beta x})^2} \\\\\n",
    "&= (e^{\\beta x} + 1 + x\\beta) \\frac{e^{\\beta x}}{(1 + e^{\\beta x})^2}.\n",
    "\\end{aligned}\n",
    "$$"
   ]
  },
  {
   "cell_type": "markdown",
   "metadata": {},
   "source": []
  },
  {
   "cell_type": "markdown",
   "metadata": {},
   "source": []
  }
 ],
 "metadata": {
  "language_info": {
   "name": "python"
  }
 },
 "nbformat": 4,
 "nbformat_minor": 2
}
