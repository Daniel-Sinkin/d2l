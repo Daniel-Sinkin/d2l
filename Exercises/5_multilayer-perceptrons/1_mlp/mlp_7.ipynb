{
 "cells": [
  {
   "cell_type": "markdown",
   "metadata": {},
   "source": [
    "#### 7. Provide an example where the gradients vanish for the sigmoid activation function."
   ]
  },
  {
   "cell_type": "markdown",
   "metadata": {},
   "source": [
    "Consider a very simple network which takes in $x$ maps it to $-r \\cdot x, r >> 0$ and then applies the sigmoid, which gives us a total function\n",
    "$$\n",
    "f(x) = \\sigma(-rx)\n",
    "$$\n",
    "whose derivative is\n",
    "$$\n",
    "f'(x) = -r \\sigma'(-rx) = -r \\sigma(-rx) (1 - \\sigma(-rx)).\n",
    "$$\n",
    "Suppose we have an input of $ = 1$ then\n",
    "$$\n",
    "f'(x) = -r \\sigma(-r) (1 - \\sigma(-r)).\n",
    "$$"
   ]
  },
  {
   "cell_type": "markdown",
   "metadata": {},
   "source": [
    "![image](mlp_7_1.png)"
   ]
  },
  {
   "cell_type": "code",
   "execution_count": null,
   "metadata": {},
   "outputs": [],
   "source": [
    "import torch\n",
    "from torch import Tensor\n",
    "import matplotlib.pyplot as plt\n",
    "\n",
    "# Re-define the computation for function and its derivative at x = 1\n",
    "rs: Tensor = torch.linspace(0.5, 9, 1000)\n",
    "# Function f(x) for x = 1\n",
    "f_rs: Tensor = (-rs).sigmoid()\n",
    "# Derivative f'(x) for x = 1\n",
    "fp_rs: Tensor = -rs * (-rs).sigmoid() * (1 - (-rs).sigmoid())\n",
    "\n",
    "# Create subplots\n",
    "fig, axs = plt.subplots(2, 1, figsize=(7, 10))\n",
    "\n",
    "# Plot for the function f at x = 1\n",
    "axs[0].plot(rs, f_rs, label=\"$f(r) = \\\\sigma(-r)$\")\n",
    "axs[0].set_xlabel(\"$r$\")\n",
    "axs[0].set_ylabel(\"$f(r)$\")\n",
    "axs[0].legend()\n",
    "axs[0].set_title(\"Function $f(r) = \\\\sigma(-r)$ at $x = 1$\")\n",
    "\n",
    "# Plot for the derivative of f at x = 1\n",
    "axs[1].plot(rs, fp_rs, label=\"$f'(r) = -r \\\\sigma(-r) (1 - \\\\sigma(-r))$\")\n",
    "axs[1].axhline(0, color=\"red\", linestyle=\"--\")\n",
    "axs[1].set_xlabel(\"$r$\")\n",
    "axs[1].set_ylabel(\"$f'(r)$\")\n",
    "axs[1].legend()\n",
    "axs[1].set_title(\"Derivative of $f(r)$ at $x = 1$\")\n",
    "\n",
    "plt.tight_layout()\n",
    "plt.savefig(\"mlp_7_2.png\")\n",
    "plt.show()"
   ]
  },
  {
   "cell_type": "code",
   "execution_count": null,
   "metadata": {},
   "outputs": [],
   "source": [
    "import torch\n",
    "from torch import Tensor\n",
    "import matplotlib.pyplot as plt\n",
    "\n",
    "# First range of r values\n",
    "rs1: Tensor = torch.linspace(0.5, 9, 1000)\n",
    "sigmoid_rs1: Tensor = (-rs1).sigmoid()\n",
    "fps1: Tensor = -rs1 * sigmoid_rs1 * (1 - sigmoid_rs1)\n",
    "\n",
    "# Second range of r values\n",
    "rs2: Tensor = torch.linspace(7, 9, 1000)\n",
    "sigmoid_rs2: Tensor = (-rs2).sigmoid()\n",
    "fps2: Tensor = -rs2 * sigmoid_rs2 * (1 - sigmoid_rs2)\n",
    "\n",
    "# Create subplots\n",
    "fig, axs = plt.subplots(1, 2, figsize=(12, 5))\n",
    "\n",
    "# Plot for the first range of r\n",
    "axs[0].plot(rs1, fps1, label=\"$\\\\nabla f_r(1)$\")\n",
    "axs[0].axhline(0, color=\"red\", linestyle=\"--\")\n",
    "axs[0].set_xlabel(\"$r$\")\n",
    "axs[0].set_ylabel(\"$\\\\nabla f_r(1)$\")\n",
    "axs[0].legend()\n",
    "axs[0].set_title(\"Range 0.5 to 9\")\n",
    "\n",
    "# Plot for the second range of r\n",
    "axs[1].plot(rs2, fps2, label=\"$\\\\nabla f_r(1)$\")\n",
    "axs[1].axhline(0, color=\"red\", linestyle=\"--\")\n",
    "axs[1].set_xlabel(\"$r$\")\n",
    "axs[1].set_ylabel(\"$\\\\nabla f_r(1)$\")\n",
    "axs[1].legend()\n",
    "axs[1].set_title(\"Zoomed Range 7 to 9\")\n",
    "\n",
    "plt.tight_layout()\n",
    "plt.savefig(\"mlp_7_1.png\")\n",
    "plt.show()"
   ]
  }
 ],
 "metadata": {
  "kernelspec": {
   "display_name": "d2l",
   "language": "python",
   "name": "python3"
  },
  "language_info": {
   "codemirror_mode": {
    "name": "ipython",
    "version": 3
   },
   "file_extension": ".py",
   "mimetype": "text/x-python",
   "name": "python",
   "nbconvert_exporter": "python",
   "pygments_lexer": "ipython3",
   "version": "3.9.18"
  }
 },
 "nbformat": 4,
 "nbformat_minor": 2
}
