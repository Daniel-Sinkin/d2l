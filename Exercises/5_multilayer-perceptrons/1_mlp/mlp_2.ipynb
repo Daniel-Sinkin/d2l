{
 "cells": [
  {
   "cell_type": "markdown",
   "metadata": {},
   "source": [
    "#### 2. Compute the derivative of the pReLU activation function. "
   ]
  },
  {
   "cell_type": "markdown",
   "metadata": {},
   "source": [
    "For $x > 0$ we have $\\operatorname{pReLU}(x) = \\operatorname{pReLU}(x)$ and as such the gradient is $+1$ there. For $x < 0$ we have $\\operatorname{pReLU}(x) = -\\alpha x$ and so the derivative there is $-\\alpha$."
   ]
  }
 ],
 "metadata": {
  "language_info": {
   "name": "python"
  }
 },
 "nbformat": 4,
 "nbformat_minor": 2
}
