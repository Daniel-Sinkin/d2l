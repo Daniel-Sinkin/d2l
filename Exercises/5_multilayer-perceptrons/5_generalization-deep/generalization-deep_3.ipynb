{
 "cells": [
  {
   "cell_type": "markdown",
   "metadata": {},
   "source": [
    "#### 3. How do researchers typically determine the stopping criterion?"
   ]
  }
 ],
 "metadata": {
  "language_info": {
   "name": "python"
  }
 },
 "nbformat": 4,
 "nbformat_minor": 2
}
