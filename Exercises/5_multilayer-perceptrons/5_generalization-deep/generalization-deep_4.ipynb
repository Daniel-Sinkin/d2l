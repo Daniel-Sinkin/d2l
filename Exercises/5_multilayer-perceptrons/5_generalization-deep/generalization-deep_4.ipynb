{
 "cells": [
  {
   "cell_type": "markdown",
   "metadata": {},
   "source": [
    "#### 4. What important factor seems to differentiate cases when early stopping leads to big improvements in generalization?"
   ]
  }
 ],
 "metadata": {
  "language_info": {
   "name": "python"
  }
 },
 "nbformat": 4,
 "nbformat_minor": 2
}
