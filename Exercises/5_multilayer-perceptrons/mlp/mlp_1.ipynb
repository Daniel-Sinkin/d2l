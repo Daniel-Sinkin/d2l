{
 "cells": [
  {
   "cell_type": "markdown",
   "metadata": {},
   "source": [
    "#### 1. Show that adding layers to a linear deep network, i.e., a network without nonlinearity $\\sigma$ can never increase the expressive power of the network. Give an example where it actively reduces it."
   ]
  }
 ],
 "metadata": {
  "language_info": {
   "name": "python"
  }
 },
 "nbformat": 4,
 "nbformat_minor": 2
}
