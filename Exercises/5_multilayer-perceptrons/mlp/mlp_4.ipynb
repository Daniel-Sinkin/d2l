{
 "cells": [
  {
   "cell_type": "markdown",
   "metadata": {},
   "source": [
    "#### 4. Show that an MLP using only ReLU (or pReLU) constructs a continuous piecewise linear function."
   ]
  },
  {
   "cell_type": "markdown",
   "metadata": {},
   "source": [
    "Recall that the affine-linear function f(X) = XW + b has, as its zero set, a hyperplane that splits the whole domain into two parts after the first step, then we have another hyperplan in the step after, so the MLP after every layer will just be a piecewise linear map. Continuity follows by the fact that ReLU and f are both continuous so their composition also is."
   ]
  }
 ],
 "metadata": {
  "language_info": {
   "name": "python"
  }
 },
 "nbformat": 4,
 "nbformat_minor": 2
}
