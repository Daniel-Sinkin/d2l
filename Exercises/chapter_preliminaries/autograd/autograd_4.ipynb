{
 "cells": [
  {
   "cell_type": "markdown",
   "metadata": {},
   "source": [
    "#### 4. Let $f(x) = \\sin(x)$. Plot the graph of $f$ and its derivative $f'$. Do not explot the fact that $f'(x) = \\cos(x)$ but rather use automatic differentiation to get the result."
   ]
  },
  {
   "cell_type": "code",
   "execution_count": null,
   "metadata": {},
   "outputs": [],
   "source": [
    "import torch\n",
    "from torch import Tensor\n",
    "import matplotlib.pyplot as plt\n",
    "\n",
    "x: Tensor = torch.arange(-torch.pi / 2, 2.5 * torch.pi, 0.05, requires_grad=True)\n",
    "y: Tensor = torch.sin(x)\n",
    "y.backward(gradient=torch.ones_like(x))\n",
    "plt.plot(x.detach(), y.detach(), label=\"sin(x)\")\n",
    "plt.plot(x.detach(), x.grad, label=\"sin'(x) via autograd\")\n",
    "plt.plot(x.detach(), torch.cos(x).detach(), label=\"cos(x)\", ls = \"--\", c = \"black\", zorder = 4)\n",
    "plt.legend()\n",
    "plt.title(\"sin(x) and its derivative via autograd\")\n",
    "plt.savefig(\"autograd_4_1.png\")"
   ]
  },
  {
   "cell_type": "code",
   "execution_count": null,
   "metadata": {},
   "outputs": [],
   "source": []
  }
 ],
 "metadata": {
  "kernelspec": {
   "display_name": "d2l",
   "language": "python",
   "name": "python3"
  },
  "language_info": {
   "codemirror_mode": {
    "name": "ipython",
    "version": 3
   },
   "file_extension": ".py",
   "mimetype": "text/x-python",
   "name": "python",
   "nbconvert_exporter": "python",
   "pygments_lexer": "ipython3",
   "version": "3.9.18"
  }
 },
 "nbformat": 4,
 "nbformat_minor": 2
}
