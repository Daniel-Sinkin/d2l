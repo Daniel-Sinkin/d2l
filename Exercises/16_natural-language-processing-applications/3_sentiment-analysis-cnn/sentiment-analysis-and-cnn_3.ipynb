{
 "cells": [
  {
   "cell_type": "markdown",
   "metadata": {},
   "source": [
    "#### 3. Add positional encoding in the input representations. Does it improve the classification accuracy?"
   ]
  },
  {
   "cell_type": "markdown",
   "metadata": {},
   "source": []
  }
 ],
 "metadata": {
  "language_info": {
   "name": "python"
  }
 },
 "nbformat": 4,
 "nbformat_minor": 2
}
