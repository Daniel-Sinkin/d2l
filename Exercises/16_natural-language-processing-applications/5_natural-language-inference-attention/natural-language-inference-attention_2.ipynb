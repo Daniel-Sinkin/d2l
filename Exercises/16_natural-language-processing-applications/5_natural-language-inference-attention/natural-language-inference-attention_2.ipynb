{
 "cells": [
  {
   "cell_type": "markdown",
   "metadata": {},
   "source": [
    "#### 1. What are major drawbacks of the decomposable attention model for natural language inference?"
   ]
  },
  {
   "cell_type": "markdown",
   "metadata": {},
   "source": []
  }
 ],
 "metadata": {
  "language_info": {
   "name": "python"
  }
 },
 "nbformat": 4,
 "nbformat_minor": 2
}
