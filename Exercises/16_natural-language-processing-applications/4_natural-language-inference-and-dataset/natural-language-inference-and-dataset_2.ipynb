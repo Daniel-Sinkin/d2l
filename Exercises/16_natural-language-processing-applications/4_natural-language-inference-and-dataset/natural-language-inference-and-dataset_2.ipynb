{
 "cells": [
  {
   "cell_type": "markdown",
   "metadata": {},
   "source": [
    "#### 2. How can we change hyperparameters to reduce the vocabulary size?"
   ]
  },
  {
   "cell_type": "markdown",
   "metadata": {},
   "source": []
  }
 ],
 "metadata": {
  "language_info": {
   "name": "python"
  }
 },
 "nbformat": 4,
 "nbformat_minor": 2
}
