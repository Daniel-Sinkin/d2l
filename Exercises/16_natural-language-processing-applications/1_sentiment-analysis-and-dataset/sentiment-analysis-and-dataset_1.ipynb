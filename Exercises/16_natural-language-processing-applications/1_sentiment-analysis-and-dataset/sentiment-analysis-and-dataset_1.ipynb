{
 "cells": [
  {
   "cell_type": "markdown",
   "metadata": {},
   "source": [
    "#### 1. What hyperparameters in this section can we modify to accelerate training sentiment analysis models?"
   ]
  },
  {
   "cell_type": "markdown",
   "metadata": {},
   "source": []
  }
 ],
 "metadata": {
  "language_info": {
   "name": "python"
  }
 },
 "nbformat": 4,
 "nbformat_minor": 2
}
