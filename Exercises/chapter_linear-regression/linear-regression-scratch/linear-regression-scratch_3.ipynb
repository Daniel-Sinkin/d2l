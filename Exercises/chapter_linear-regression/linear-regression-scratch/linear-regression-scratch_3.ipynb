{
 "cells": [
  {
   "cell_type": "markdown",
   "metadata": {},
   "source": [
    "#### 3. Can you use [Planck's Law](https://en.wikipedia.org/wiki/Planck%27s_law) to determine the temperature of an object using spectral energy density? For reference, the spectral density $B$ of radiation emanating from a black body is $B(\\lambda, T) = \\frac{2 hc^2}{\\lambda^5} \\cdot \\left(\\exp \\frac{h c}{\\lambda k T} - 1\\right)^{-1}$. Here $\\lambda$ is the wavelength, $T$ is the temperature, $c$ is the speed of light, $h$ is Planck's constant, and $k$ is the Boltzmann constant. You measure the energy for different wavelengths $\\lambda$ and you now need to fit the spectral density curve to Planck's law."
   ]
  },
  {
   "cell_type": "markdown",
   "metadata": {},
   "source": [
    "Choose units such that $\\frac{hc}{k} = 1$ and note that $2hc^2$ is just some constant, so irrelevant for our optimization procedure.\n",
    "\n",
    "Roughly speaking we want to solve $B(\\lambda, T) = B_0$ for $T$, i.e. define a mapping $T(\\lambda, B_0)$ such that $B(\\lambda, T(\\lambda, B_0)) = B_0$ holds for all $\\lambda$ and $B_0$.\n",
    "\n",
    "With this simplification we get a reduced spectral density function:"
   ]
  },
  {
   "cell_type": "code",
   "execution_count": null,
   "metadata": {},
   "outputs": [],
   "source": [
    "import torch\n",
    "from torch import Tensor\n",
    "import matplotlib.pyplot as plt"
   ]
  },
  {
   "cell_type": "code",
   "execution_count": null,
   "metadata": {},
   "outputs": [],
   "source": [
    "def spectral_density_reduced(lambda_: Tensor, T_: Tensor) -> Tensor:\n",
    "    \"\"\"Assuming T to be constant and units chosen properly. Ignoring leading constants as well.\"\"\"\n",
    "    x1 = torch.float_power(lambda_, 5)\n",
    "    x2 = torch.exp(1 / (lambda_ * T_)) - 1\n",
    "    x3 = x1 * x2\n",
    "    return 1 / x3"
   ]
  },
  {
   "cell_type": "code",
   "execution_count": null,
   "metadata": {},
   "outputs": [],
   "source": [
    "x = torch.linspace(0.05, 0.2, 100)\n",
    "for T_ in [0.4, 0.6, 0.8, 1.0, 1.2, 1.4, 2.0][::-1]:\n",
    "    y = spectral_density_reduced(x, T_)\n",
    "    plt.semilogy(x, y, label = f\"T = {T_}\")\n",
    "\n",
    "spec_dens = spectral_density_reduced(x, 1.2)\n",
    "noise = torch.randn_like(spec_dens) * torch.square(torch.tensor([0.5]))\n",
    "noisy_spec_dens = spec_dens * (1 + noise)\n",
    "plt.semilogy(x, noisy_spec_dens, label = \"Noisy Spectral Density\")\n",
    "\n",
    "plt.legend()\n",
    "plt.xlabel(\"Wavelength\")\n",
    "plt.ylabel(\"Spectral Density (log scale)\")\n",
    "plt.title(\"Spectral Density as a function of Wavelength\")\n",
    "plt.grid(True, which=\"both\", linestyle=\"--\")\n",
    "plt.savefig(\"linear-regression-scratch_3_1.png\")"
   ]
  },
  {
   "cell_type": "code",
   "execution_count": null,
   "metadata": {},
   "outputs": [],
   "source": [
    "def func(T_: Tensor, x) -> Tensor:\n",
    "    return spectral_density_reduced(x, T_)\n",
    "\n",
    "def func_loss(T_: Tensor, x, B) -> Tensor:\n",
    "    return torch.sqrt((1 / len(B)) * torch.sum(torch.square(torch.log(1 + func(T_, x)) - torch.log(1 + B))))"
   ]
  },
  {
   "cell_type": "code",
   "execution_count": null,
   "metadata": {},
   "outputs": [],
   "source": [
    "x = torch.linspace(0.05, 0.2, 100)\n",
    "spec_dens = spectral_density_reduced(x, 1.2)\n",
    "noise = torch.randn_like(spec_dens) * torch.square(torch.tensor([0.6]))\n",
    "noisy_spec_dens = spec_dens * (1 + noise)\n",
    "B = noisy_spec_dens\n",
    "\n",
    "T_LIST = torch.linspace(0.4, 1.4, 50)\n",
    "ys = [func_loss(T_, x, B) for T_ in T_LIST]\n",
    "\n",
    "T_ = T_LIST[torch.argmin(torch.tensor(ys))]\n",
    "plt.plot(T_LIST, ys, label = \"Loss function\")\n",
    "plt.scatter(T_, torch.min(torch.tensor(ys)), color = \"red\", zorder = 5, label = f\"Best T = {T_:.4}\")\n",
    "\n",
    "plt.title(\"Loss function as a function of the temperature\")\n",
    "plt.legend()\n",
    "plt.savefig(\"linear-regression-scratch_3_2.png\")"
   ]
  },
  {
   "cell_type": "code",
   "execution_count": null,
   "metadata": {},
   "outputs": [],
   "source": []
  }
 ],
 "metadata": {
  "kernelspec": {
   "display_name": "d2l",
   "language": "python",
   "name": "python3"
  },
  "language_info": {
   "codemirror_mode": {
    "name": "ipython",
    "version": 3
   },
   "file_extension": ".py",
   "mimetype": "text/x-python",
   "name": "python",
   "nbconvert_exporter": "python",
   "pygments_lexer": "ipython3",
   "version": "3.9.18"
  }
 },
 "nbformat": 4,
 "nbformat_minor": 2
}
