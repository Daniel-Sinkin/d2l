{
 "cells": [
  {
   "cell_type": "markdown",
   "metadata": {},
   "source": [
    "#### 1. What would happen if we were to initialize the weights to zero. Would the algorithm still work? What if we initialized the parameters with variance $1000$ rather than $0.01$?"
   ]
  },
  {
   "cell_type": "markdown",
   "metadata": {},
   "source": [
    "If we initialize the weights to 0 then we get an error as we can't compute a gradient based on that.\n",
    "\n",
    "That is not surprising given that $f(0) = 0$ for all linear maps $f$. "
   ]
  },
  {
   "cell_type": "markdown",
   "metadata": {},
   "source": [
    "Initializing with a variance of $1000$ instead of $0.01$ makes the initial guess terrible (which is to be expected), but the algorithm converges very quickly afterwards. If we increase the max_epochs to 9 from 3 we get roughly the same final error."
   ]
  }
 ],
 "metadata": {
  "language_info": {
   "name": "python"
  }
 },
 "nbformat": 4,
 "nbformat_minor": 2
}
