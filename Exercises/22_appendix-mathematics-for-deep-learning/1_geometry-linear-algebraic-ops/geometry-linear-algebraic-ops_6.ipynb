{
 "cells": [
  {
   "cell_type": "markdown",
   "metadata": {},
   "source": [
    "#### 6. The vectors $e_1 = \\begin{bmatrix}1\\\\0\\end{bmatrix}$ and $e_2 = \\begin{bmatrix}0\\\\1\\end{bmatrix}$ are orthogonal.  What is the condition on a matrix $A$ so that $Ae_1$ and $Ae_2$ are orthogonal?"
   ]
  },
  {
   "cell_type": "markdown",
   "metadata": {},
   "source": [
    "Suppose\n",
    "$$\n",
    "A = \\begin{pmatrix} a & b \\\\ c & d \\end{pmatrix}\n",
    "$$\n",
    "then $Ae_1 = (a, c)$ and $Ae_2 = (b, d)$. As such $A_e1 \\cdot Ae_2 = ab + cd$, for this to be zero we need to have $ab = -cd$. If $a = 0$ this means that $c$ or $d$ has to be zero. Otherwise we have $b = - \\frac{cd}{a}$. AS such $Ae_1$ and $Ae_2$ are orthogonal either if $a = 0$ or the matrix is of the form\n",
    "$$\n",
    "A = \\begin{pmatrix} a & - \\frac{cd}{a} \\\\ c & d \\end{pmatrix}.\n",
    "$$"
   ]
  }
 ],
 "metadata": {
  "language_info": {
   "name": "python"
  }
 },
 "nbformat": 4,
 "nbformat_minor": 2
}
