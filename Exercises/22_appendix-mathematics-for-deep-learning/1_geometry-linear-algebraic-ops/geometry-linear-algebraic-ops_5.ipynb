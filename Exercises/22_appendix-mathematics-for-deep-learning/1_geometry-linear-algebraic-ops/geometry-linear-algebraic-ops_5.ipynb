{
 "cells": [
  {
   "cell_type": "markdown",
   "metadata": {},
   "source": [
    "#### 5. Suppose that you have a matrix written as $A = \\begin{bmatrix}c\\\\d\\end{bmatrix}\\cdot\\begin{bmatrix}a & b\\end{bmatrix}$ for some choice of values $a, b, c$, and $d$.  True or false: the determinant of such a matrix is always $0$?"
   ]
  },
  {
   "cell_type": "markdown",
   "metadata": {},
   "source": [
    "Yes it is, this is pretty much exactly what it means for the matrix to be rank $1$ (or $0$ if $a = b = c = d$). If $a = 0$ then the matrix can't be rank $2$ and otherwise we can remove the second column by adding $d / a$ times the first colum onto the second. This leaves the determinant unchanged and the new matrix has an empty column."
   ]
  }
 ],
 "metadata": {
  "language_info": {
   "name": "python"
  }
 },
 "nbformat": 4,
 "nbformat_minor": 2
}
