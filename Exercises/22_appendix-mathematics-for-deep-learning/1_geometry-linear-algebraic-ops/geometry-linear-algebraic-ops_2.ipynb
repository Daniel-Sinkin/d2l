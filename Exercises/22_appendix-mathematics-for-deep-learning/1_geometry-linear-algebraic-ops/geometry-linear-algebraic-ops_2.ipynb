{
 "cells": [
  {
   "cell_type": "markdown",
   "metadata": {},
   "source": [
    "#### 2. True or false: $\\begin{bmatrix}1 & 2\\\\0&1\\end{bmatrix}$ and $\\begin{bmatrix}1 & -2\\\\0&1\\end{bmatrix}$ are inverses of one another?"
   ]
  },
  {
   "cell_type": "markdown",
   "metadata": {},
   "source": [
    "This is true, this can be shown either by multiplying them or noting that the determinant of the first matrix is $1$ and using the identity\n",
    "$$\n",
    "\\begin{pmatrix}\n",
    "a & b \\\\\n",
    "c & d \\\\\n",
    "\\end{pmatrix}^{-1} =\n",
    "\\frac{1}{ad - bc}\n",
    "\\begin{pmatrix}\n",
    "d & -b \\\\\n",
    "-c & a \\\\\n",
    "\\end{pmatrix}\n",
    "$$"
   ]
  }
 ],
 "metadata": {
  "language_info": {
   "name": "python"
  }
 },
 "nbformat": 4,
 "nbformat_minor": 2
}
