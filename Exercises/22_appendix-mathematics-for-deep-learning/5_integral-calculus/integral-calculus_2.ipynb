{
 "cells": [
  {
   "cell_type": "markdown",
   "metadata": {},
   "source": [
    "#### 2. Use the change of variables formula to integrate $\\int_0^{\\sqrt{\\pi}}x\\sin(x^2)\\;dx$."
   ]
  },
  {
   "cell_type": "markdown",
   "metadata": {},
   "source": [
    "Let $\\phi(x) = x^2$ then $d\\phi(x) = \\phi'(x) dx = 2x dx$. If we write $y = \\phi(x)$ this can be stated as $x dx = \\frac{1}{dy}$ and $\\sin(x^2) = \\sin(y)$. Furthermore $\\phi(0) = 0$ and $\\phi(\\sqrt{\\pi}) = \\pi$. Using the change of variables formula we can calculate the integral as follows:\n",
    "$$\n",
    "\\begin{aligned}\n",
    "\\int_0^{\\sqrt{\\pi}} x \\sin(x^2) dx &= \\int_0^\\pi \\frac{1}{2} \\sin(y) dy \\\\\n",
    "&= \\frac{1}{2} \\left. -\\cos(y)\\right|_{y = 0}^{y = \\pi} \\\\\n",
    "&= -\\cos(\\pi) + \\cos(0) = 1.\n",
    "\\end{aligned}\n",
    "$$"
   ]
  }
 ],
 "metadata": {
  "language_info": {
   "name": "python"
  }
 },
 "nbformat": 4,
 "nbformat_minor": 2
}
