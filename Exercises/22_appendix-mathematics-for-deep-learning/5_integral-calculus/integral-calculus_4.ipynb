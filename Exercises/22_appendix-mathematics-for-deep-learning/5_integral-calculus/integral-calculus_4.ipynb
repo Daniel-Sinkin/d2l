{
 "cells": [
  {
   "cell_type": "markdown",
   "metadata": {},
   "source": [
    "#### 4. Use the change of variables formula to compute\n",
    "$$\n",
    "\\begin{aligned}\n",
    "\\int_0^2 \\int_0^1 \\frac{xy(x^2 - y^2)}{(x^2 + y^2)^3} dy dx,&& \\int_0^1 \\int_0^2 \\frac{xy(x^2 - y^2)}{(x^2 + y^2)^3} dx dy\n",
    "\\end{aligned}\n",
    "$$\n",
    "to see that they are different."
   ]
  },
  {
   "cell_type": "markdown",
   "metadata": {},
   "source": [
    "$$\n",
    "\\int_0^2 \\int_0^1 \\frac{xy(x^2 - y^2)}{(x^2 + y^2)^3} dy dx = 0.2\n",
    "$$\n",
    "and\n",
    "$$\n",
    "\\int_0^1 \\int_0^2 \\frac{xy(x^2 - y^2)}{(x^2 + y^2)^3} dx dy = -0.05.\n",
    "$$"
   ]
  }
 ],
 "metadata": {
  "language_info": {
   "name": "python"
  }
 },
 "nbformat": 4,
 "nbformat_minor": 2
}
