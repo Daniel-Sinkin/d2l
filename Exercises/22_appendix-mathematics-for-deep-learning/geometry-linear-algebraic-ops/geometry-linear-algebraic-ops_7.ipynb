{
 "cells": [
  {
   "cell_type": "markdown",
   "metadata": {},
   "source": [
    "#### 7. How can you write $\\textrm{tr}(\\mathbf{A}^4)$ in Einstein notation for an arbitrary matrix $A$?"
   ]
  },
  {
   "cell_type": "markdown",
   "metadata": {},
   "source": [
    "First note that $A$ has to be a square matrix for $A^4$ to even be defined, let $n$ be such that $A \\in \\mathbb{R}^{n \\times n}$.\n",
    "\n",
    "The trace is, by definition, the following expression:\n",
    "$$\n",
    "\\begin{aligned}\n",
    "\\operatorname{tr}(A^4) &= \\sum_i A^4_{ii} \\\\\n",
    "&= \\sum_i \\sum_j A_{ij} A^3_{ji} \\\\\n",
    "&= \\sum_i \\sum_j \\sum_k A_{ij} A_{jk} A^2_{ki} \\\\\n",
    "&= \\sum_i \\sum_j \\sum_k \\sum_r A_{ij} A_{jk} A_{kr} A_{rk} A_{ki}.\n",
    "\\end{aligned}\n",
    "$$\n",
    "where every sum goes from $1$ to $n$. Using Einstein notation this then becomes\n",
    "$$\n",
    "\\operatorname{tr}(A^4) = A_{ij} A^j_k A^k_r A^r_k A^{ki}.\n",
    "$$"
   ]
  }
 ],
 "metadata": {
  "language_info": {
   "name": "python"
  }
 },
 "nbformat": 4,
 "nbformat_minor": 2
}
