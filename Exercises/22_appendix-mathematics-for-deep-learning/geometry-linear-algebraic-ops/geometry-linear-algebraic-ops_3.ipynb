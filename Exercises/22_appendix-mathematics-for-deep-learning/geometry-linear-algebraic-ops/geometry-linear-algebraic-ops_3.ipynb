{
 "cells": [
  {
   "cell_type": "markdown",
   "metadata": {},
   "source": [
    "#### 3. Suppose that we draw a shape in the plane with area $100\\textrm{m}^2$.  What is the area after transforming the figure by the matrix\n",
    "$$\n",
    "\\begin{bmatrix}\n",
    "2 & 3\\\\\n",
    "1 & 2\n",
    "\\end{bmatrix}.\n",
    "$$"
   ]
  },
  {
   "cell_type": "markdown",
   "metadata": {},
   "source": [
    "It is exactly scaled by the determinant, which is $1$, as such the new area is also $100m^2$."
   ]
  }
 ],
 "metadata": {
  "language_info": {
   "name": "python"
  }
 },
 "nbformat": 4,
 "nbformat_minor": 2
}
