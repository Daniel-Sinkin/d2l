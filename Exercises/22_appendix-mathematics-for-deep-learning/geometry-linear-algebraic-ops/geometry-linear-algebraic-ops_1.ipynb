{
 "cells": [
  {
   "cell_type": "markdown",
   "metadata": {},
   "source": [
    "#### 1. What is the angle between\n",
    "$$\n",
    "\\vec v_1 = \\begin{bmatrix}\n",
    "1 \\\\ 0 \\\\ -1 \\\\ 2\n",
    "\\end{bmatrix}, \\qquad \\vec v_2 = \\begin{bmatrix}\n",
    "3 \\\\ 1 \\\\ 0 \\\\ 1\n",
    "\\end{bmatrix}?\n",
    "$$"
   ]
  },
  {
   "cell_type": "markdown",
   "metadata": {},
   "source": [
    "We know that\n",
    "$$\n",
    "\t\\cos(\\alpha) = \\frac{\\vec{v_1} \\cdot \\vec{v_2}}{||\\vec{v_1}|| ||\\vec{v_2}||}\n",
    "$$\n",
    "We can calculate $||\\vec{v_1}|| = \\sqrt{6}, ||\\vec{v_2}|| =  \\sqrt{11}$ and $\\vec{v_1} \\cdot \\vec{v_2} = 5$. From this we see that\n",
    "$$\n",
    "\\cos{\\alpha} = \\frac{5}{\\sqrt{66}} = 0.9078\n",
    "$$\n",
    "which in degrees is $51.02^\\circ$."
   ]
  }
 ],
 "metadata": {
  "language_info": {
   "name": "python"
  }
 },
 "nbformat": 4,
 "nbformat_minor": 2
}
