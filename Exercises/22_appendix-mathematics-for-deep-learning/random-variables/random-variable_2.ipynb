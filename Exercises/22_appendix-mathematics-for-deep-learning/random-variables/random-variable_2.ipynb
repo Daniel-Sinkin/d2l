{
 "cells": [
  {
   "cell_type": "markdown",
   "metadata": {},
   "source": [
    "#### 2. The Laplace distribution is a random variable whose density is given by $p(x = \\frac{1}{2}e^{-|x|}$.  What is the mean and the standard deviation of this function?  As a hint, $\\int_0^\\infty xe^{-x} \\; dx = 1$ and $\\int_0^\\infty x^2e^{-x} \\; dx = 2$."
   ]
  },
  {
   "cell_type": "markdown",
   "metadata": {},
   "source": [
    "Note that $x \\mapsto \\frac{x}{2} e^{-|x|}$ is an antisymmetric function, as such\n",
    "$$\n",
    "    \\mu = \\int_{-\\infty}^\\infty x \\frac{1}{2}e^{-|x|} dx = 0.\n",
    "$$\n",
    "On the other hand $h(x) = \\frac{x^2}{2}e^{-|x|}$ is symmetric as such $\\int_{-\\infty}^\\infty h(x) = 2 \\int_0^\\infty h(x)$ and as such\n",
    "$$\n",
    "    \\sigma^2 = 2 \\int_0^\\infty \\frac{x^2}{2} e^{- |x|} dx = \\int_0^\\infty x^2e^{-x} dx = 2.\n",
    "$$"
   ]
  }
 ],
 "metadata": {
  "language_info": {
   "name": "python"
  }
 },
 "nbformat": 4,
 "nbformat_minor": 2
}
