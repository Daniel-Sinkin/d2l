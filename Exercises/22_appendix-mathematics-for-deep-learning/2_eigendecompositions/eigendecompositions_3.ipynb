{
 "cells": [
  {
   "cell_type": "markdown",
   "metadata": {},
   "source": [
    "Without computing the eigenvalues, is it possible that the smallest eigenvalue of the following matrix is less that $0.5$? *Note*: this problem can be done in your head.\n",
    "$$\n",
    "\\mathbf{A} = \\begin{bmatrix}\n",
    "3.0 & 0.1 & 0.3 & 1.0 \\\\\n",
    "0.1 & 1.0 & 0.1 & 0.2 \\\\\n",
    "0.3 & 0.1 & 5.0 & 0.0 \\\\\n",
    "1.0 & 0.2 & 0.0 & 1.8\n",
    "\\end{bmatrix}.\n",
    "$$\n"
   ]
  },
  {
   "cell_type": "markdown",
   "metadata": {},
   "source": [
    "Recall the discussion on the Gershgorin Circle Theorem. $(r_1, r_2, r_3, r_4) = (1.4, 0.4, 0.4, 1.2)$ as such the corresponding eigenvalues all lie within the rances $[a_{ii} - r_i, a_{ii} + r_i]$, i.e. within\n",
    "$$\n",
    "    [1.6, 4.4] \\cup [0.6, 1.4] \\cup [4.6, 5.4] \\cup [0.6, 3] = [0.6, 4.4] \\cup [4.6, 5.4]\n",
    "$$\n",
    "and $(-\\inf, 0.5)$ does not intersect this set. As such there can't be any eigenvalue $\\lambda < 0.5$."
   ]
  }
 ],
 "metadata": {
  "language_info": {
   "name": "python"
  }
 },
 "nbformat": 4,
 "nbformat_minor": 2
}
