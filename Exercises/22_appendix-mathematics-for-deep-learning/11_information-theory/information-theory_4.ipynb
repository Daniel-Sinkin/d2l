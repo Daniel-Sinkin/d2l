{
 "cells": [
  {
   "cell_type": "markdown",
   "metadata": {},
   "source": [
    "#### 4. Explain intuitively why $I(X, Y) = H(X) - H(X \\mid Y)$.  Then, show this is true by expressing both sides as an expectation with respect to the joint distribution."
   ]
  }
 ],
 "metadata": {
  "language_info": {
   "name": "python"
  }
 },
 "nbformat": 4,
 "nbformat_minor": 2
}
