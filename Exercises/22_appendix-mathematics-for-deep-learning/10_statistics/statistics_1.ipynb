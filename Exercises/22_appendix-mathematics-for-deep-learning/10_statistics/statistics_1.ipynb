{
 "cells": [
  {
   "cell_type": "markdown",
   "metadata": {},
   "source": [
    "#### 1. Let $X_1, X_2, \\ldots, X_n \\overset{\\textrm{iid}}{\\sim} \\textrm{Unif}(0, \\theta)$, where \"iid\" stands for *independent and identically distributed*. Consider the following estimators of $\\theta$:\n",
    "$$\\hat{\\theta} = \\max \\{X_1, X_2, \\ldots, X_n \\};$$\n",
    "$$\\tilde{\\theta} = 2 \\bar{X_n} = \\frac{2}{n} \\sum_{i=1}^n X_i.$$\n",
    "* Find the statistical bias, standard deviation, and mean square error of $\\hat{\\theta}.$\n",
    "* Find the statistical bias, standard deviation, and mean square error of $\\tilde{\\theta}.$\n",
    "* Which estimator is better?"
   ]
  }
 ],
 "metadata": {
  "kernelspec": {
   "display_name": "d2l",
   "language": "python",
   "name": "python3"
  },
  "language_info": {
   "codemirror_mode": {
    "name": "ipython",
    "version": 3
   },
   "file_extension": ".py",
   "mimetype": "text/x-python",
   "name": "python",
   "nbconvert_exporter": "python",
   "pygments_lexer": "ipython3",
   "version": "3.9.18"
  }
 },
 "nbformat": 4,
 "nbformat_minor": 2
}
