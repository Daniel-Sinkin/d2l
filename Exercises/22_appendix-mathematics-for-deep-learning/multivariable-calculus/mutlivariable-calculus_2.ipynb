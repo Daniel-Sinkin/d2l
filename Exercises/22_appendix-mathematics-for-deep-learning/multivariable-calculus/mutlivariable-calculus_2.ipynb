{
 "cells": [
  {
   "cell_type": "markdown",
   "metadata": {},
   "source": [
    "#### 2. Let $\\mathbf{v}$ be an $n$ dimension vector. What is $\\frac{\\partial}{\\partial\\mathbf{v}}\\|\\mathbf{v}\\|_2$?"
   ]
  },
  {
   "cell_type": "markdown",
   "metadata": {},
   "source": [
    "We can calculate by using the definition of the directional derivative, let $n(x) = ||x||_2$, this is a smooth function outside of $x = 0$. We can calculate\n",
    "$$\n",
    "    \\begin{aligned}\n",
    "        \\lim_{t \\rightarrow 0} \\frac{n(v + tv) - n(v)}{t} &= \\lim_{t \\rightarrow 0} \\frac{n((1 + t)v) - n(v)}{t} \\\\\n",
    "        &= \\lim_{t \\rightarrow 0} \\frac{|1 + t| \\cdot ||v|| - ||v||}{t} \\\\\n",
    "        &= \\lim_{t \\rightarrow 0} \\frac{(|1 + t| - 1) ||v||}{t} \\\\\n",
    "        &= \\left(\\lim_{t \\rightarrow 0} \\frac{|1 + t| - 1}{t}\\right) ||v|| \\\\\n",
    "        &= ||v||.\n",
    "    \\end{aligned}\n",
    "$$"
   ]
  }
 ],
 "metadata": {
  "language_info": {
   "name": "python"
  }
 },
 "nbformat": 4,
 "nbformat_minor": 2
}
