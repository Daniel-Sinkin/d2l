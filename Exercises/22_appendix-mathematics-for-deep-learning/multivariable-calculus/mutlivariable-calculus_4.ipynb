{
 "cells": [
  {
   "cell_type": "markdown",
   "metadata": {},
   "source": [
    "#### 4. Let $f(x, y) = x^2y + xy^2$. Show that the only critical point is $(0,0)$. By considering $f(x, x)$, determine if $(0,0)$ is a maximum, minimum, or neither."
   ]
  },
  {
   "cell_type": "markdown",
   "metadata": {},
   "source": [
    "It is easy to see that\n",
    "$$\n",
    "    \\nabla f(x, y) = \\begin{pmatrix} 2xy + y^2 \\\\ x^2 + 2xy \\end{pmatrix}\n",
    "$$\n",
    "and this vanishes if and only if $(x, y) = (0, 0)$. Note that $g(x)$ is simply $f$ evaluated along the path $\\gamma(t) = (t, t)$. Note that $g(x) = 2x^3$ which is a strictly monotone increasing function, as such $0$ is neither a minimum nor a maximum of $g$ and as such $(0, 0)$ is a saddle point of $f$."
   ]
  }
 ],
 "metadata": {
  "language_info": {
   "name": "python"
  }
 },
 "nbformat": 4,
 "nbformat_minor": 2
}
