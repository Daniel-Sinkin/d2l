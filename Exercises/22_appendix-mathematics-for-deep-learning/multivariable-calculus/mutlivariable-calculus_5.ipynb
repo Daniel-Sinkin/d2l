{
 "cells": [
  {
   "cell_type": "markdown",
   "metadata": {},
   "source": [
    "#### 5. Suppose that we are minimizing a function $f(\\mathbf{x}) = g(\\mathbf{x}) + h(\\mathbf{x})$.  How can we geometrically interpret the condition of $\\nabla f = 0$ in terms of $g$ and $h$?"
   ]
  },
  {
   "cell_type": "markdown",
   "metadata": {},
   "source": [
    "Note that $0 = \\nabla f(x) = \\nabla g(x) + \\nabla h(x)$ and therefore $\\nabla h(x) = - \\nabla g(x)$. This means that the corresponding gradients point in opposite directions and have the same length."
   ]
  }
 ],
 "metadata": {
  "language_info": {
   "name": "python"
  }
 },
 "nbformat": 4,
 "nbformat_minor": 2
}
