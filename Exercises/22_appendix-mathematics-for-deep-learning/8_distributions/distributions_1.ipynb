{
 "cells": [
  {
   "cell_type": "markdown",
   "metadata": {},
   "source": [
    "#### 1. What is the standard deviation of a random variable that is the difference $X-Y$ of two independent binomial random variables $X, Y \\sim \\textrm{Binomial}(16, 1/2)$."
   ]
  },
  {
   "cell_type": "markdown",
   "metadata": {},
   "source": [
    "Recall that if $X, Y \\sim \\operatorname{Bin}(n, p)$ then $E[X] = np$ and $\\operatorname{Var}(X) = np(1 - p)$. As $X$ and $Y$ are independent we get\n",
    "$$\n",
    "E[X - Y] = E[X] - E[Y] = 0\n",
    "$$\n",
    "and\n",
    "$$\n",
    "\\operatorname{Var}(X - Y) = \\operatorname{Var}(X) + \\operatorname{Var}(Y) = 2 np(1 - p) = 2\\operatorname{Var}(X).\n",
    "$$\n",
    "$$\n",
    "Var(X) = np(1 - p) = 16 \\frac{1}{2} \\left(1 - \\frac{1}{2}\\right) = 4.\n",
    "$$\n",
    "As such\n",
    "$$\n",
    "\\sigma = \\sqrt{\\operatorname{Var}(X - Y)} = \\sqrt{2 \\cdot \\operatorname{Var}(X)} = \\sqrt{8} = 2\\sqrt{2}.\n",
    "$$"
   ]
  }
 ],
 "metadata": {
  "kernelspec": {
   "display_name": "d2l",
   "language": "python",
   "name": "python3"
  },
  "language_info": {
   "codemirror_mode": {
    "name": "ipython",
    "version": 3
   },
   "file_extension": ".py",
   "mimetype": "text/x-python",
   "name": "python",
   "nbconvert_exporter": "python",
   "pygments_lexer": "ipython3",
   "version": "3.9.18"
  }
 },
 "nbformat": 4,
 "nbformat_minor": 2
}
