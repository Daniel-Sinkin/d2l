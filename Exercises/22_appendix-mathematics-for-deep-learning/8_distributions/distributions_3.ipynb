{
 "cells": [
  {
   "cell_type": "markdown",
   "metadata": {},
   "source": [
    "#### 3. What is the probability mass function for a sum of two discrete uniform random variables on $n$ elements?"
   ]
  },
  {
   "cell_type": "markdown",
   "metadata": {},
   "source": [
    "Let $X, Y$ be those discrete uniform random variables, then we know that $P(X = k) = P(Y = k) = \\frac{1}{n}$ for all $1 \\leq k \\leq n$. Now let $Z := X + Y$ then\n",
    "$$\n",
    "\\begin{aligned}\n",
    "P(Z = k) &= P(X + Y = k) \\\\\n",
    "&\\overset{1}{=} \\sum_{i = 1}^k P((X = i) \\wedge (Y = k - i)) \\\\\n",
    "&\\overset{2}{=} \\sum_{i = 1}^k P(X = i) P(Y = k - i) \\\\\n",
    "&= \\sum_{i = 1}^k \\frac{1}{n} \\cdot \\frac{1}{n} \\\\\n",
    "&= \\frac{k}{n^2}.\n",
    "\\end{aligned}\n",
    "$$\n",
    "where we have used the fact that $X + Y = k \\iff Y = k - X$."
   ]
  },
  {
   "cell_type": "markdown",
   "metadata": {},
   "source": [
    "Let $X, Y$ be those discrete uniform random variables, then we know that $P(X = k) = P(Y = k) = \\frac{1}{n}$ for all $1 \\leq k \\leq n$. Now let $Z := X + Y$, note that $Z$ takes values in ${2, \\dots, 2n}$.\n",
    "\n",
    "Note that $Z = 2 \\iff X = 1 \\wedge Y = 1$, similiarly $Z = 2n \\iff X = n \\wedge Y = n$.\n",
    "\n",
    "Suppose $2 \\leq k \\leq n + 1$ then $Z = k \\iff Y = k - X$ and $X$ ranges from $k - 1$ to $1$ as $Y$ ranges from $1$ to $k - 1$ so\n",
    "$$\n",
    "P(Z = k) = \\frac{k - 1}{n^2}.\n",
    "$$\n",
    "\n",
    "Note let $n < k \\leq 2n$ then we can write $k = n + r$ for $0 < r \\leq n$ and $Z = k \\iff X + Y = n + r$. Then $X$ ranges from $n$ to $r$ as $Y$ ranges from $r$ to $n$ as we have $n - r$ possible arrangements. As scuh\n",
    "$$\n",
    "P(Z = k) = \\frac{2n + 1 - k}{n^2}.\n",
    "$$"
   ]
  }
 ],
 "metadata": {
  "language_info": {
   "name": "python"
  }
 },
 "nbformat": 4,
 "nbformat_minor": 2
}
