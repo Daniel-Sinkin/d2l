{
 "cells": [
  {
   "cell_type": "markdown",
   "metadata": {},
   "source": [
    "#### 2. If we take a Poisson random variable $X \\sim \\textrm{Poisson}(\\lambda)$ and consider $(X - \\lambda)/\\sqrt{\\lambda}$ as $\\lambda \\rightarrow \\infty$, we can show that this becomes approximately Gaussian.  Why does this make sense?"
   ]
  },
  {
   "cell_type": "markdown",
   "metadata": {},
   "source": [
    "The expected value of the poisson distribution is $\\lambda$ and the variance is also $\\lambda$ so the standard deviation is $\\sqrt{\\lambda}$. This statement is then an immediate consequence of the central limit theorem."
   ]
  }
 ],
 "metadata": {
  "language_info": {
   "name": "python"
  }
 },
 "nbformat": 4,
 "nbformat_minor": 2
}
