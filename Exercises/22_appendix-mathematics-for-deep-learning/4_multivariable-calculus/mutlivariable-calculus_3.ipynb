{
 "cells": [
  {
   "cell_type": "markdown",
   "metadata": {},
   "source": [
    "#### 3. Let $L(x, y) = \\log(e^x + e^y)$.  Compute the gradient.  What is the sum of the components of the gradient?"
   ]
  },
  {
   "cell_type": "markdown",
   "metadata": {},
   "source": [
    "We only have to calculate the derivative with respect to $x$ because the function is invariant under the operation $T(x, y) = (y, x)$:\n",
    "$$\n",
    "    \\frac{\\partial L}{\\partial x} = \\frac{\\frac{\\partial}{\\partial x} (e^x + e^y)}{e^x + e^y} = \\frac{e^x}{e^x + e^y}\n",
    "$$\n",
    "from this it follows that $\\frac{\\partial L}{\\partial y} = \\frac{e^y}{e^x + e^y}$ and so\n",
    "$$\n",
    "    \\nabla L(x, y) = \\frac{1}{e^x + e^y} \\begin{pmatrix} e^x \\\\ e^y \\end{pmatrix}\n",
    "$$\n",
    "or alternatively\n",
    "$$\n",
    "    \\nabla L(x, y) = e^{-L(x, y)} \\begin{pmatrix} e^x \\\\ e^y \\end{pmatrix}.\n",
    "$$\n",
    "The sum of the components is just $1$."
   ]
  }
 ],
 "metadata": {
  "language_info": {
   "name": "python"
  }
 },
 "nbformat": 4,
 "nbformat_minor": 2
}
