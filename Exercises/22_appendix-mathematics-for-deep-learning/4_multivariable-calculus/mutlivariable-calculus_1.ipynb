{
 "cells": [
  {
   "cell_type": "markdown",
   "metadata": {},
   "source": [
    "#### 1. Given a column vector $\\boldsymbol{\\beta}$, compute the derivatives of both $f(\\mathbf{x}) = \\boldsymbol{\\beta}^\\top\\mathbf{x}$ and $g(\\mathbf{x}) = \\mathbf{x}^\\top\\boldsymbol{\\beta}$.  Why do you get the same answer?"
   ]
  },
  {
   "cell_type": "markdown",
   "metadata": {},
   "source": [
    "Note that $f, g : \\mathbb{R}^n \\rightarrow \\mathbb{R}$ and that $f(x) = f(x)^t = g(x)$ so these are the same function. Alternatively this could be shown by $f(x) = \\langle x, \\beta \\rangle = \\langle \\beta, x \\rangle = g(x)$ where we have used that the scalar product is a symmetric bilinear form. To calculate consider\n",
    "$$\n",
    "\\frac{\\partial}{\\partial x_i} f(x) = \\frac{\\partial}{\\partial x_i} \\sum_{j = 1}^n \\beta_j x_j = \\beta_i\n",
    "$$\n",
    "as such $\\nabla f(x) = \\nabla g(x) = \\beta$."
   ]
  }
 ],
 "metadata": {
  "language_info": {
   "name": "python"
  }
 },
 "nbformat": 4,
 "nbformat_minor": 2
}
