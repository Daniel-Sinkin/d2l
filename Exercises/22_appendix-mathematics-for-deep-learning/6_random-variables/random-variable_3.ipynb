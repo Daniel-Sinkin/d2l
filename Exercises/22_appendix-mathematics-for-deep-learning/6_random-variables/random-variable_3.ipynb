{
 "cells": [
  {
   "cell_type": "markdown",
   "metadata": {},
   "source": [
    "#### 3. I walk up to you on the street and say \"I have a random variable with mean $1$, standard deviation $2$, and I observed $25\\%$ of my samples taking a value larger than $9$.\"  Do you believe me?  Why or why not?"
   ]
  },
  {
   "cell_type": "markdown",
   "metadata": {},
   "source": [
    "Note that $9 = \\mu + 4 \\cdot \\sigma$, as such the samples are $4$ standard deviations away from the mean (even worse it's only clustered in one direction). We can determine the likelyhood of this using a $Z$ table. Where we are interested in the complement of a $Z$ value of $4$, which is roughly $1 - 0.99997 = 0.00003 = 0.003\\%$. This is a vanishingly small number so either your random variable is not normally distributed (which given the fact that I've been only been told the standard deviation and the mean is a reasonable assumption) or your measurements are wrong."
   ]
  }
 ],
 "metadata": {
  "language_info": {
   "name": "python"
  }
 },
 "nbformat": 4,
 "nbformat_minor": 2
}
