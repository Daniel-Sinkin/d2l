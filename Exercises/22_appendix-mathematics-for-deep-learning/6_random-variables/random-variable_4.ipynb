{
 "cells": [
  {
   "cell_type": "markdown",
   "metadata": {},
   "source": [
    "#### 4. Suppose that you have two random variables $X, Y$, with joint density given by $p_{XY}(x, y) = 4xy$ for $x, y \\in [0,1]$ and $p_{XY}(x, y) = 0$ otherwise.  What is the covariance of $X$ and $Y$?"
   ]
  },
  {
   "cell_type": "markdown",
   "metadata": {},
   "source": [
    "Note that by symmetry $E[X] = E[Y] = \\int_0^1 xp_{X}(x) dx$ where $p_X(x) = \\int_0^1 4xy dy$. With that we can compute\n",
    "$$\n",
    "\\begin{aligned}\n",
    "E[X] &= \\int_0^1 x\\int_0^1 4xy dy dx \\\\\n",
    "&= 4 \\int_0^1 x^2 \\int_0^1 y dy dx \\\\\n",
    "&= 4 \\int_0^1 x^2 \\frac{1}{2} dx = \\frac{2}{3}.\n",
    "\\end{aligned}\n",
    "$$\n",
    "\n",
    "We can compute $E[XY]$ as follows:\n",
    "$$\n",
    "\\begin{aligned}\n",
    "\\int_0^1 \\int_0^1 xy \\cdot p_{XY}(x, y) dx dy &= \\int_0^1 \\int_0^1 xy \\cdot 4xy dx dy \\\\\n",
    "&= \\int_0^1 \\int_0^1 4x^2y^2 dx dy \\\\\n",
    "&= 4 \\int­_0^1 y^2 dy \\int_0^1 x^2 dx \\\\\n",
    "&= 4 \\left(\\int_0^1 x^2 dx\\right)^2 \\\\\n",
    "&= 4 \\left( \\frac{1}{3} \\right)^2 \\\\\n",
    "&= \\frac{4}{9}.\n",
    "\\end{aligned}\n",
    "$$\n",
    "The covariance is then given by\n",
    "$$\n",
    "\\operatorname{Cov}(X, Y) = E[XY] - E[X]E[Y] = \\frac{4}{9} - \\left(\\frac{2}{3}\\right)^2 = 0. \n",
    "$$"
   ]
  },
  {
   "cell_type": "markdown",
   "metadata": {},
   "source": []
  }
 ],
 "metadata": {
  "language_info": {
   "name": "python"
  }
 },
 "nbformat": 4,
 "nbformat_minor": 2
}
