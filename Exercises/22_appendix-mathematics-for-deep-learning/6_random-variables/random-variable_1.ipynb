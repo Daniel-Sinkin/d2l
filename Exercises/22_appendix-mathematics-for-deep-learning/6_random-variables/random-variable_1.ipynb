{
 "cells": [
  {
   "cell_type": "markdown",
   "metadata": {},
   "source": [
    "#### 1. Suppose that we have the random variable with density given by $p(x) = \\frac{1}{x^2}$ for $x \\ge 1$ and $p(x) = 0$ otherwise.  What is $P(X > 2)$?"
   ]
  },
  {
   "cell_type": "markdown",
   "metadata": {},
   "source": [
    "We can obtain the probability by integrating the density function:\n",
    "$$\n",
    "    \\begin{aligned}\n",
    "        P(X > 2) &= \\int_{(2, \\infty)} p(x) dx \\\\\n",
    "        &= \\int_{(2, \\infty)} \\frac{1}{x^2} dx \\\\\n",
    "        &= \\left. -x^{-1} \\right|_{x = 2}^\\infty \\\\\n",
    "        &= 2^{-1} = 0.5.\n",
    "    \\end{aligned}\n",
    "$$"
   ]
  }
 ],
 "metadata": {
  "language_info": {
   "name": "python"
  }
 },
 "nbformat": 4,
 "nbformat_minor": 2
}
