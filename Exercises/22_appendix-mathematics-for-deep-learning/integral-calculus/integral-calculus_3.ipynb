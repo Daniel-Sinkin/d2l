{
 "cells": [
  {
   "cell_type": "markdown",
   "metadata": {},
   "source": [
    "#### 3. What is $\\int_{[0,1]^2} xy \\;dx\\;dy$?"
   ]
  },
  {
   "cell_type": "markdown",
   "metadata": {},
   "source": [
    "$$\n",
    "\\int_{[0, 1]} xy dx dy = \\int_0^1 \\int_0^1 xy dx dy = \\int_0^1 y dy \\int_0^1 x dx = \\left( \\int_0^1 x dx \\right)^2 = \\frac{1}{4}.\n",
    "$$"
   ]
  }
 ],
 "metadata": {
  "language_info": {
   "name": "python"
  }
 },
 "nbformat": 4,
 "nbformat_minor": 2
}
