{
 "cells": [
  {
   "cell_type": "markdown",
   "metadata": {},
   "source": [
    "#### 1. What is $\\int_1^2 \\frac{1}{x} \\;dx$?"
   ]
  },
  {
   "cell_type": "markdown",
   "metadata": {},
   "source": [
    "The function\n",
    "$$\n",
    "f : [1, 2] \\rightarrow \\mathbb{R}, x \\mapsto \\frac{1}{x}\n",
    "$$\n",
    "is a continuous function on a compact domain and therefore (Riemann) integrable. Its integral can be calculated as follows:\n",
    "$$\n",
    "\\int_1^2 f(x) dx = \\int_1^2 \\frac{1}{x} dx \\left. \\ln(x)\\right|_{x = 1}^{x = 2} = \\ln(2) - \\ln(1) = \\ln(2).\n",
    "$$ "
   ]
  }
 ],
 "metadata": {
  "language_info": {
   "name": "python"
  }
 },
 "nbformat": 4,
 "nbformat_minor": 2
}
