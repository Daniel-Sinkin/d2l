{
 "cells": [
  {
   "cell_type": "markdown",
   "metadata": {},
   "source": [
    "#### 2. Suppose that you have a dataset of samples $\\{x_i\\}_{i = 1}^N$ drawn from a Gaussian with unknown mean, but variance $1$. What is the maximum likelihood estimate for the mean?"
   ]
  },
  {
   "cell_type": "markdown",
   "metadata": {},
   "source": [
    "Recall the Gaussian has the distribution $f = f_{\\mu, \\sigma}$ where\n",
    "$$\n",
    "f_{\\mu, \\sigma} = \\frac{1}{\\sigma \\sqrt{2 \\pi}} \\exp\\left(-\\frac{1}{2}\\left(\\frac{x - \\mu}{\\sigma}\\right)^2\\right)\n",
    "$$\n",
    "Setting $\\operatorname{Var} = \\sigma^2 = 1$ we also get $\\sigma = 1$ and\n",
    "$$\n",
    "f_{\\mu, 0} = \\frac{1}{\\sqrt{2 \\pi}} \\exp\\left(-\\frac{1}{2} (x - \\mu)^2\\right) \n",
    "$$\n",
    "and from the CDF of the normal distribution we obtain\n",
    "$$\n",
    "E[f_{\\mu, 0}] = \\int_{-\\infty}^\\infty x f_{\\mu, 0}(x) dx = \\mu.\n",
    "$$\n",
    "Note that this is exactly what one would expect, as the Gaussian is a bell curve with highest point as its mean.\n",
    "\n",
    "The maximum likelihood estimate can then be computed from\n",
    "$$\n",
    "\\begin{aligned}\n",
    "- \\sum_{i = 1}^N \\log(p(x_i | \\mu)) &= - \\sum_{i = 1}^N \\log\\left(\\frac{1}{\\sqrt{2 \\pi}} \\exp\\left(-\\frac{1}{2} (x - \\mu)^2\\right) \\right) \\\\\n",
    "&= - \\sum­_{i = 1}^N \\log\\left( \\frac{1}{\\sqrt{2 \\pi}} \\right) + \\log\\left( \\exp\\left(-\\frac{1}{2} (x - \\mu)^2\\right) \\right) \\\\\n",
    "&= \\log(\\sqrt{2 \\pi}) N - \\sum_{i = 1}^N \\frac{1}{2}(x - \\mu)^2 \\\\\n",
    "&= \\frac{1}{2}\\log(2\\pi) N - \\sum_{i = 1}^N \\frac{1}{2}(x - \\mu)^2.\n",
    "\\end{aligned}\n",
    "$$\n",
    "Note that $\\frac{1}{2}\\log(2\\pi) N$ is constant with respect to $\\mu$, as such the max of this expression is achieved when\n",
    "$$\n",
    "\\sum_{i = 1}^N \\frac{1}{2}(x_i - \\mu)^2\n",
    "$$\n",
    "is minimal. We had already derived the analytical solution to this minimization problem in an exercise in the linear regression chapter, where we have determined it to be\n",
    "$$\n",
    "\\mu = \\frac{1}{2} \\sum_{i = 1}^N x_i = \\operatorname{mean}\\left({\\{x_i\\}_{i = 1}^N}\\right).\n",
    "$$"
   ]
  }
 ],
 "metadata": {
  "language_info": {
   "name": "python"
  }
 },
 "nbformat": 4,
 "nbformat_minor": 2
}
