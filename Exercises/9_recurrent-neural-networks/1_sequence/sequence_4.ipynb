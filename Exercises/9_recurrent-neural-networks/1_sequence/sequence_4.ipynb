{
 "cells": [
  {
   "cell_type": "markdown",
   "metadata": {},
   "source": [
    "#### 4. Give an example for when a latent autoregressive model might be needed to capture the dynamic of the data."
   ]
  }
 ],
 "metadata": {
  "language_info": {
   "name": "python"
  }
 },
 "nbformat": 4,
 "nbformat_minor": 2
}
