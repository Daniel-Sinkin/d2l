{
 "cells": [
  {
   "cell_type": "markdown",
   "metadata": {},
   "source": [
    "#### 1. Improve the model in the experiment of this section.\n",
    "1. Incorporate more than the past four observations? How many do you really need?\n",
    "1. How many past observations would you need if there was no noise? Hint: you can write  and  as a differential equation.\n",
    "1. Can you incorporate older observations while keeping the total number of features constant? Does this improve accuracy? Why?\n",
    "1. Change the neural network architecture and evaluate the performance. You may train the new model with more epochs. What do you observe?"
   ]
  }
 ],
 "metadata": {
  "language_info": {
   "name": "python"
  }
 },
 "nbformat": 4,
 "nbformat_minor": 2
}
