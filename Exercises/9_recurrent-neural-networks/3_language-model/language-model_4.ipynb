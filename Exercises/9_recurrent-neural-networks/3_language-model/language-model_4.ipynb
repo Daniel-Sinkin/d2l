{
 "cells": [
  {
   "cell_type": "markdown",
   "metadata": {},
   "source": [
    "#### 4. Consider our method for discarding a uniformly random number of the first few tokens at the beginning of each epoch.\n",
    "1. Does it really lead to a perfectly uniform distribution over the sequences on the document?\n",
    "2. What would you have to do to make things even more uniform?"
   ]
  },
  {
   "cell_type": "markdown",
   "metadata": {},
   "source": []
  }
 ],
 "metadata": {
  "language_info": {
   "name": "python"
  }
 },
 "nbformat": 4,
 "nbformat_minor": 2
}
