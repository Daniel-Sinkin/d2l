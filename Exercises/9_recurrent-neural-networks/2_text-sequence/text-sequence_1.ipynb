{
 "cells": [
  {
   "cell_type": "markdown",
   "metadata": {},
   "source": [
    "#### 1. In the experiment of this section, tokenize text into words and vary the `min_freq` argument value of the `Vocab` instance. Qualitatively characterize how changes in `min_freq` impact the size of the resulting vocabulary."
   ]
  },
  {
   "cell_type": "markdown",
   "metadata": {},
   "source": [
    "![image](text-sequence_1_1.png)"
   ]
  },
  {
   "cell_type": "markdown",
   "metadata": {},
   "source": [
    "```python\n",
    "import matplotlib.pyplot as plt\n",
    "\n",
    "words = text.split()\n",
    "lst = []\n",
    "for min_freq in [0, 5, 10, 20, 40, 80, 160, 320, 640]:\n",
    "    lst.append((min_freq, len(Vocab(words, min_freq))))\n",
    "\n",
    "x = [pair[0] for pair in lst]\n",
    "y = [pair[1] for pair in lst]\n",
    "\n",
    "plt.semilogy(x, y, '-o')\n",
    "plt.title('Vocabulary size vs minimum frequency')\n",
    "plt.xlabel('minimum frequency')\n",
    "plt.ylabel('vocabulary size')\n",
    "plt.show()\n",
    "```"
   ]
  },
  {
   "cell_type": "markdown",
   "metadata": {},
   "source": []
  }
 ],
 "metadata": {
  "language_info": {
   "name": "python"
  }
 },
 "nbformat": 4,
 "nbformat_minor": 2
}
