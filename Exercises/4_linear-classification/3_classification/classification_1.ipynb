{
 "cells": [
  {
   "cell_type": "markdown",
   "metadata": {},
   "source": [
    "#### 1. Denote by $L_\\textrm{v}$ the validation loss, and let $L_\\textrm{v}^\\textrm{q}$ be its quick and dirty estimate computed by the loss function averaging in this section. Lastly, denote by $l_\\textrm{v}^\\textrm{b}$ the loss on the last minibatch. Express $L_\\textrm{v}$ in terms of $L_\\textrm{v}^\\textrm{q}$, $l_\\textrm{v}^\\textrm{b}$, and the sample and minibatch sizes."
   ]
  },
  {
   "cell_type": "markdown",
   "metadata": {},
   "source": [
    "I think this exercise is a bit unfortunately formulated and I'm not entirely sure I understand what we want to show.\n",
    "\n",
    "The way I interpret is that the \"quick and dirty estimate\" $L^q_v$ that was mentioned refers to the simplifying assumption of assuming that the last minibatch is full, in the sense that $n$ is a multiple of $k$ where $n$ is the total number of samples and $k$ is the size of each minibatch."
   ]
  },
  {
   "cell_type": "markdown",
   "metadata": {},
   "source": [
    "Suppose $n = q \\cdot k + r$ where $q$ is a natural number and $0 \\leq r < k$. If $r = 0$ then $L_v^q = L_v$.\n",
    "\n",
    "The total loss is the \"average\" of the loss on the $q \\cdot k$ full minibatches and of the loss on the last minibatch, where \"average\" does not mean the sum of the two numbers divided by $2$.\n",
    "As such the total (i.e. not averaged) error is given by\n",
    "$$\n",
    "n \\cdot L_v = q \\cdot k \\cdot L_v^q + r \\cdot \\ell_v^b,\n",
    "$$\n",
    "as such the mean error is\n",
    "$$\n",
    "L_v = \\frac{q \\cdot k}{n} L_v^q +  \\frac{r}{n} \\cdot \\ell_v^b.\n",
    "$$"
   ]
  }
 ],
 "metadata": {
  "kernelspec": {
   "display_name": "d2l",
   "language": "python",
   "name": "python3"
  },
  "language_info": {
   "codemirror_mode": {
    "name": "ipython",
    "version": 3
   },
   "file_extension": ".py",
   "mimetype": "text/x-python",
   "name": "python",
   "nbconvert_exporter": "python",
   "pygments_lexer": "ipython3",
   "version": "3.9.18"
  }
 },
 "nbformat": 4,
 "nbformat_minor": 2
}
