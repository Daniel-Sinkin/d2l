{
 "cells": [
  {
   "cell_type": "markdown",
   "metadata": {},
   "source": [
    "#### 2. Show that the quick and dirty estimate $L_\\textrm{v}^\\textrm{q}$ is unbiased. That is, show that $E[L_\\textrm{v}] = E[L_\\textrm{v}^\\textrm{q}]$. Why would you still want to use $L_\\textrm{v}$ instead?"
   ]
  },
  {
   "cell_type": "markdown",
   "metadata": {},
   "source": [
    "Note that we sample from the same distribution for the minibatches therefore $E[L_v^q] = E[\\ell_v^b]$ (1).\n",
    "$$\n",
    "\\begin{aligned}\n",
    "E[L_v] &= E\\left[\\frac{q \\cdot k}{n} L_v^q + \\frac{r}{n} \\cdot \\ell_v^b\\right] \\\\\n",
    "&\\overset{2}{=} \\frac{q \\cdot k}{n} E[L_v^q] + \\frac{r}{n} E[\\ell_v^b] \\\\\n",
    "&\\overset{1}{=} \\frac{q \\cdot k + r}{n} E[L_v^q] \\\\\n",
    "&\\overset{3}{=} E[L_v^q].\n",
    "\\end{aligned}\n",
    "$$\n",
    "where we have used in (2) that the expectation is linear and in (3) that $n = q \\cdot k + r$ by definition (See the first exercise).\n",
    "\n",
    "I'd still use it because it has lower variance."
   ]
  }
 ],
 "metadata": {
  "language_info": {
   "name": "python"
  }
 },
 "nbformat": 4,
 "nbformat_minor": 2
}
