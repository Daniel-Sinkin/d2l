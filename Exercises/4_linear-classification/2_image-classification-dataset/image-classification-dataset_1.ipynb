{
 "cells": [
  {
   "cell_type": "markdown",
   "metadata": {},
   "source": [
    "#### 1. Does reducing the batch_size (for instance, to 1) affect the reading performance?"
   ]
  },
  {
   "cell_type": "markdown",
   "metadata": {},
   "source": [
    "It does! We get the following runtimes based on 10 runs each.\n",
    "```python\n",
    "Batch Size:    1 has a runtime of 7.12 ± 0.08 seconds\n",
    "Batch Size:    4 has a runtime of 3.35 ± 0.06 seconds\n",
    "Batch Size:   16 has a runtime of 2.42 ± 0.07 seconds\n",
    "Batch Size:   64 has a runtime of 2.16 ± 0.03 seconds\n",
    "Batch Size:  256 has a runtime of 2.10 ± 0.03 seconds\n",
    "Batch Size: 1024 has a runtime of 2.11 ± 0.04 seconds\n",
    "```"
   ]
  },
  {
   "cell_type": "markdown",
   "metadata": {},
   "source": [
    "## Profiling and Evaluation Code"
   ]
  },
  {
   "cell_type": "markdown",
   "metadata": {},
   "source": [
    "### Imports and Constants"
   ]
  },
  {
   "cell_type": "code",
   "execution_count": 1,
   "metadata": {},
   "outputs": [],
   "source": [
    "import time\n",
    "\n",
    "import torch\n",
    "import torchvision\n",
    "import ujson as json\n",
    "from torch.utils.data import DataLoader\n",
    "from torchvision import transforms\n",
    "import pandas as pd\n",
    "\n",
    "NUM_ITERATIONS = 10\n",
    "BATCH_SIZES: list[int] = [1, 4, 16, 64, 256, 1024]"
   ]
  },
  {
   "cell_type": "markdown",
   "metadata": {},
   "source": [
    "### Profiling Code"
   ]
  },
  {
   "cell_type": "code",
   "execution_count": 2,
   "metadata": {},
   "outputs": [],
   "source": [
    "def run_profiling_code():\n",
    "    resize: tuple[int, int] = (32, 32)\n",
    "    trans = transforms.Compose([transforms.Resize(resize), transforms.ToTensor()])\n",
    "\n",
    "    data_train: torch.Tensor = torchvision.datasets.FashionMNIST(\n",
    "        root=\"./data/\", train=True, transform=trans, download=True\n",
    "    ).data\n",
    "\n",
    "    all_times: dict[int, list[float]] = {}\n",
    "    for i, batch_size in enumerate(BATCH_SIZES):\n",
    "        print(f\"{i+1}. batch size out of {len(BATCH_SIZES)}: {batch_size}.\")\n",
    "        data_loader = DataLoader(\n",
    "            data_train, batch_size=batch_size, shuffle=True, num_workers=4\n",
    "        )\n",
    "\n",
    "        times: list[float] = []\n",
    "        for _ in range(NUM_ITERATIONS):\n",
    "            t0 = time.perf_counter()\n",
    "            for _ in data_loader:\n",
    "                pass\n",
    "            t1: float = time.perf_counter()\n",
    "            times.append(t1 - t0)\n",
    "            print(f\"\\t\\t{t1-t0:.2f} seconds\")\n",
    "        all_times[batch_size] = times\n",
    "\n",
    "    filepath = \"batch_size_speed_comparisons.json\"\n",
    "    with open(filepath, \"w\", encoding=\"utf-8\") as f:\n",
    "        json.dump(all_times, f)"
   ]
  },
  {
   "cell_type": "markdown",
   "metadata": {},
   "source": [
    "### Result Printing"
   ]
  },
  {
   "cell_type": "code",
   "execution_count": 3,
   "metadata": {},
   "outputs": [],
   "source": [
    "def print_results():\n",
    "    data = torch.tensor(pd.read_json(\"batch_size_speed_comparisons.json\").values)\n",
    "    means, stds = data.mean(axis = 0), data.std(axis = 0)\n",
    "    for batch_size, mean, std in zip(BATCH_SIZES, means, stds):\n",
    "        print(f\"Batch Size: {batch_size:4} has a runtime of {mean:4.2f} ± {std:.2f} seconds\")"
   ]
  }
 ],
 "metadata": {
  "kernelspec": {
   "display_name": "d2l",
   "language": "python",
   "name": "python3"
  },
  "language_info": {
   "codemirror_mode": {
    "name": "ipython",
    "version": 3
   },
   "file_extension": ".py",
   "mimetype": "text/x-python",
   "name": "python",
   "nbconvert_exporter": "python",
   "pygments_lexer": "ipython3",
   "version": "3.9.18"
  }
 },
 "nbformat": 4,
 "nbformat_minor": 2
}
