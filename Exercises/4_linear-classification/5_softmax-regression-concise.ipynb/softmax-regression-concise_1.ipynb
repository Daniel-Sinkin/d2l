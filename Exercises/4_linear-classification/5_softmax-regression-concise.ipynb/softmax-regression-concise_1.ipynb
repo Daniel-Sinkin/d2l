{
 "cells": [
  {
   "cell_type": "markdown",
   "metadata": {},
   "source": [
    "#### 1. Deep learning uses many different number formats, including FP64 double precision (used extremely rarely), FP32 single precision, BFLOAT16 (good for compressed representations), FP16 (very unstable), TF32 (a new format from NVIDIA), and INT8. Compute the smallest and largest argument of the exponential function for which the result does not lead to numerical underflow or overflow."
   ]
  },
  {
   "cell_type": "markdown",
   "metadata": {},
   "source": [
    "Not going to test TF32 as that is a CUDA tensor type, also expo doesn't seem to be availiable on CPUs for `FP16` due to some AVX complications, so I'll also not consider it."
   ]
  },
  {
   "cell_type": "code",
   "execution_count": null,
   "metadata": {},
   "outputs": [],
   "source": [
    "import torch\n",
    "from torch import Tensor\n",
    "\n",
    "# Can Initialize the tensors as follows\n",
    "fp64 = torch.tensor([1, 2, 3], dtype=torch.float64)\n",
    "fp32 = torch.tensor([1, 2, 3], dtype=torch.float32)\n",
    "bfloat16 = torch.tensor([1, 2, 3], dtype=torch.bfloat16)\n",
    "float16 = torch.tensor([1, 2, 3], dtype=torch.float16)\n",
    "int8 = torch.tensor([1, 2, 3], dtype=torch.int8)\n",
    "\n",
    "l32 = torch.linspace(-104, -103.972, 10000, dtype=torch.float32)\n",
    "idx = (torch.exp(l32) > 0).nonzero()[0]\n",
    "print(l32[idx]) # tensor([-103.9721])\n",
    "\n",
    "l64 = torch.linspace(-100000, 0, 10000, dtype=torch.float64)\n",
    "idx = (torch.exp(l64) > 0).nonzero()[0]\n",
    "print(l64[idx]) # tensor([-740.0740], dtype=torch.float64)\n",
    "\n",
    "l64_2 = torch.linspace(-740.08, -740, 100000, dtype=torch.float64)\n",
    "idx = (torch.exp(l64_2) > 0).nonzero()[0]\n",
    "print(l64_2[idx]) # tensor([-740.0800], dtype=torch.float64)\n",
    "\n",
    "lbf16 = torch.linspace(-100, 0, 100000000, dtype=torch.bfloat16)\n",
    "idx = (torch.exp(lbf16) > 0).nonzero()[0]\n",
    "print(lbf16[idx]) # tensor([-92.5000], dtype=torch.bfloat16)"
   ]
  }
 ],
 "metadata": {
  "kernelspec": {
   "display_name": "d2l",
   "language": "python",
   "name": "python3"
  },
  "language_info": {
   "codemirror_mode": {
    "name": "ipython",
    "version": 3
   },
   "file_extension": ".py",
   "mimetype": "text/x-python",
   "name": "python",
   "nbconvert_exporter": "python",
   "pygments_lexer": "ipython3",
   "version": "3.9.18"
  }
 },
 "nbformat": 4,
 "nbformat_minor": 2
}
