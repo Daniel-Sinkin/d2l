{
 "cells": [
  {
   "cell_type": "markdown",
   "metadata": {},
   "source": [
    "#### 1. If we wish to estimate the error of a fixed model $f$ to within $0.0001$ with probability greater than 99.9%, how many samples do we need?"
   ]
  },
  {
   "cell_type": "markdown",
   "metadata": {},
   "source": [
    "Recall Hoeffding's inequality\n",
    "$$\n",
    "P(\\varepsilon_{\\mathcal{D}}(f) - \\varepsilon(f) \\geq t) < e^{-2nt^2}\n",
    "$$\n",
    "which we can, by using $P(X \\geq t) = 1 - P(X < t)$, write as\n",
    "$$\n",
    "1 - e^{-2nt^2} < P(... < t)\n",
    "$$\n",
    "and we want\n",
    "$$\n",
    "0.999 \\leq 1 - e^{-2nt^2} < P(... < t)\n",
    "$$\n",
    "where $t = 0.0001$.\n",
    "\n",
    "We can compute\n",
    "$$\n",
    "\\begin{aligned}\n",
    "\\iff&& 0.999 &\\leq 1 - e^{2nt^2} \\\\\n",
    "\\iff&& e^{-2nt^2} &\\leq 0.001 \\\\ \n",
    "\\iff&& -2nt^2 &\\leq \\log(0.01) \\\\\n",
    "\\iff&& n &\\geq -\\frac{1}{2t^2} \\log(0.01) \\\\\n",
    "\\iff&& n &\\geq -\\frac{1}{2(0.001)^2} \\log(0.01)\n",
    "\\end{aligned}\n",
    "$$\n",
    "The right hand side is $> 2302585$ so we get\n",
    "$$\n",
    "n \\geq (\\dots) \\implies n := \\operatorname{floor}((\\dots)) + 1,\n",
    "$$\n",
    "i.e.\n",
    "$$\n",
    "n = 2302586.\n",
    "$$"
   ]
  },
  {
   "cell_type": "markdown",
   "metadata": {},
   "source": []
  }
 ],
 "metadata": {
  "kernelspec": {
   "display_name": "d2l",
   "language": "python",
   "name": "python3"
  },
  "language_info": {
   "codemirror_mode": {
    "name": "ipython",
    "version": 3
   },
   "file_extension": ".py",
   "mimetype": "text/x-python",
   "name": "python",
   "nbconvert_exporter": "python",
   "pygments_lexer": "ipython3",
   "version": "3.9.18"
  }
 },
 "nbformat": 4,
 "nbformat_minor": 2
}
