{
 "cells": [
  {
   "cell_type": "markdown",
   "metadata": {},
   "source": [
    "#### 4. What is the VC dimension of axis-aligned rectangles on two-dimensional data? "
   ]
  },
  {
   "cell_type": "markdown",
   "metadata": {},
   "source": [
    "Let $a = (0, 0), b = (1, 1), c = (2, 0), d = (1, -1)$, we can partition this set into arbitrary constellation using axis aligned rectangles, i.e. build out all of the sets:\n",
    "1. $\\{a\\}$\n",
    "1. $\\{b\\}$\n",
    "1. $\\{c\\}$\n",
    "1. $\\{d\\}$\n",
    "1. $\\{a, b\\}$\n",
    "1. $\\{a, c\\}$\n",
    "1. $\\{a, d\\}$\n",
    "1. $\\{b, c\\}$\n",
    "1. $\\{b, d\\}$\n",
    "1. $\\{c, d\\}$\n",
    "1. $\\{a, b, c\\}$\n",
    "1. $\\{a, b, d\\}$\n",
    "1. $\\{a, c, d\\}$\n",
    "1. $\\{b, c, d\\}$\n",
    "1. $\\{a, b, c, d\\}$\n",
    "\n",
    "As such teh VC Dimension is $\\geq 4$."
   ]
  }
 ],
 "metadata": {
  "kernelspec": {
   "display_name": "d2l",
   "language": "python",
   "name": "python3"
  },
  "language_info": {
   "codemirror_mode": {
    "name": "ipython",
    "version": 3
   },
   "file_extension": ".py",
   "mimetype": "text/x-python",
   "name": "python",
   "nbconvert_exporter": "python",
   "pygments_lexer": "ipython3",
   "version": "3.9.18"
  }
 },
 "nbformat": 4,
 "nbformat_minor": 2
}
