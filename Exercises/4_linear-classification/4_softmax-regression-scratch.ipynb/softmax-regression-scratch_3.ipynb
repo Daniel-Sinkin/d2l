{
 "cells": [
  {
   "cell_type": "markdown",
   "metadata": {},
   "source": [
    "#### 3. Is it always a good idea to return the most likely label? For example, would you do this for medical diagnosis? How would you try to address this?"
   ]
  },
  {
   "cell_type": "markdown",
   "metadata": {},
   "source": []
  }
 ],
 "metadata": {
  "language_info": {
   "name": "python"
  }
 },
 "nbformat": 4,
 "nbformat_minor": 2
}
