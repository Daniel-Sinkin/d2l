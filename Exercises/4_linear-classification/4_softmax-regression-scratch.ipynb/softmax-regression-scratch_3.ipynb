{
 "cells": [
  {
   "cell_type": "markdown",
   "metadata": {},
   "source": [
    "#### 3. Is it always a good idea to return the most likely label? For example, would you do this for medical diagnosis? How would you try to address this?"
   ]
  },
  {
   "cell_type": "markdown",
   "metadata": {},
   "source": [
    "\"Most Likely\" just means most common, not the most applicable. So everybody would be diagnosed with a common cold even if they have cancer.\n",
    "\n",
    "Instead of giving a label, i.e., making a decision you could return a probability distribution and let an expert make a decision based on the given probabilities.\n",
    "\n",
    "You could also put like a penalty for very common diseases, or increase the reward for very dangerous things if overdiagnosis is preferable to missing a diagnosis."
   ]
  }
 ],
 "metadata": {
  "language_info": {
   "name": "python"
  }
 },
 "nbformat": 4,
 "nbformat_minor": 2
}
