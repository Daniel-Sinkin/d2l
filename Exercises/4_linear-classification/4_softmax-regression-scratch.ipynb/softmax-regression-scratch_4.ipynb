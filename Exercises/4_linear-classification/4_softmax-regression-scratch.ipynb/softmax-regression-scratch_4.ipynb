{
 "cells": [
  {
   "cell_type": "markdown",
   "metadata": {},
   "source": [
    "#### 4. Assume that we want to use softmax regression to predict the next word based on some features. What are some problems that might arise from a large vocabulary?"
   ]
  },
  {
   "cell_type": "markdown",
   "metadata": {},
   "source": [
    "1. The problem is that the distribution of words is very top heavy and so those will be what our model updates the most on (See Zipf's Law). \"Overfitting to frequent words\".\n",
    "2. The normalization could be very computationally expensive.\n",
    "3. Rare words are by definition going to be less used in texts and so the prediction model has a worse understanding of that word and how to apply it, even if it wants to generate it."
   ]
  }
 ],
 "metadata": {
  "language_info": {
   "name": "python"
  }
 },
 "nbformat": 4,
 "nbformat_minor": 2
}
