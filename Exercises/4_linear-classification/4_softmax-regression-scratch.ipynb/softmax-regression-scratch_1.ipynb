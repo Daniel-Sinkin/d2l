{
 "cells": [
  {
   "cell_type": "markdown",
   "metadata": {},
   "source": [
    "#### 1. In this section, we directly implemented the softmax function based on the mathematical definition of the softmax operation. As discussed in :numref:`sec_softmax` this can cause numerical instabilities.\n",
    "1. Test whether `softmax` still works correctly if an input has a value of $100$.\n",
    "1. Test whether `softmax` still works correctly if the largest of all inputs is smaller than $-100$?\n",
    "1. Implement a fix by looking at the value relative to the largest entry in the argument."
   ]
  },
  {
   "cell_type": "markdown",
   "metadata": {},
   "source": []
  }
 ],
 "metadata": {
  "language_info": {
   "name": "python"
  }
 },
 "nbformat": 4,
 "nbformat_minor": 2
}
