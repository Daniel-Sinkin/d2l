{
 "cells": [
  {
   "cell_type": "markdown",
   "metadata": {},
   "source": [
    "#### 1. In this section, we directly implemented the softmax function based on the mathematical definition of the softmax operation. As discussed in :numref:`sec_softmax` this can cause numerical instabilities.\n",
    "1. Test whether `softmax` still works correctly if an input has a value of $100$.\n",
    "2. Test whether `softmax` still works correctly if the largest of all inputs is smaller than $-100$?\n",
    "3. Implement a fix by looking at the value relative to the largest entry in the argument."
   ]
  },
  {
   "cell_type": "code",
   "execution_count": 1,
   "metadata": {},
   "outputs": [
    {
     "name": "stdout",
     "output_type": "stream",
     "text": [
      "tensor([1., 2., 3., 4., 5.]) tensor([0.0117, 0.0317, 0.0861, 0.2341, 0.6364])\n",
      "tensor([  1.,   2., 100.,   4.,   5.]) tensor([1.0089e-43, 2.7465e-43, 1.0000e+00, 2.0305e-42, 5.5211e-42])\n",
      "tensor([-150., -125., -100., -110., -130.]) tensor([1.9287e-22, 1.3887e-11, 9.9995e-01, 4.5398e-05, 9.3572e-14])\n",
      "tensor([0.0100, 0.0200, 1.0000, 0.0400, 0.0500]) tensor([0.1477, 0.1491, 0.3974, 0.1522, 0.1537])\n",
      "tensor([1.5000, 1.2500, 1.0000, 1.1000, 1.3000]) tensor([0.2581, 0.2010, 0.1565, 0.1730, 0.2113])\n"
     ]
    }
   ],
   "source": [
    "import torch\n",
    "import torch.functional as F\n",
    "\n",
    "base_tensors = [\n",
    "    torch.tensor([1, 2, 3, 4, 5]).float(),\n",
    "    torch.tensor([1, 2, 100, 4, 5]).float(),\n",
    "    torch.tensor([-150, -125, -100, -110, -130]).float(),\n",
    "]\n",
    "\n",
    "# (3) Making it more stable my normalizing\n",
    "x = base_tensors[1]\n",
    "x_max = torch.max(x, dim = 0)[0]\n",
    "base_tensors.append(torch.Tensor(x / x_max))\n",
    "\n",
    "x = base_tensors[2]\n",
    "x_max = torch.max(x, dim = 0)[0]\n",
    "base_tensors.append(torch.Tensor(x / x_max))\n",
    "\n",
    "for bt in base_tensors:\n",
    "    print(bt, bt.softmax(dim = 0).data)"
   ]
  }
 ],
 "metadata": {
  "kernelspec": {
   "display_name": "d2l",
   "language": "python",
   "name": "python3"
  },
  "language_info": {
   "codemirror_mode": {
    "name": "ipython",
    "version": 3
   },
   "file_extension": ".py",
   "mimetype": "text/x-python",
   "name": "python",
   "nbconvert_exporter": "python",
   "pygments_lexer": "ipython3",
   "version": "3.9.18"
  }
 },
 "nbformat": 4,
 "nbformat_minor": 2
}
