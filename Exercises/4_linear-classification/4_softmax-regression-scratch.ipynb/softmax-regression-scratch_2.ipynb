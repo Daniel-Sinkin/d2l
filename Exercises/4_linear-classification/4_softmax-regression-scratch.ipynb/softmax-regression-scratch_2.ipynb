{
 "cells": [
  {
   "cell_type": "markdown",
   "metadata": {},
   "source": [
    "#### 1. Implement a `cross_entropy` function that follows the definition of the cross-entropy loss function $\\sum_i y_i \\log \\hat{y}_i$.\n",
    "1. Try it out in the code example of this section.\n",
    "1. Why do you think it runs more slowly?\n",
    "1. Should you use it? When would it make sense to?\n",
    "1. What do you need to be careful of? Hint: consider the domain of the logarithm."
   ]
  },
  {
   "cell_type": "markdown",
   "metadata": {},
   "source": []
  }
 ],
 "metadata": {
  "language_info": {
   "name": "python"
  }
 },
 "nbformat": 4,
 "nbformat_minor": 2
}
