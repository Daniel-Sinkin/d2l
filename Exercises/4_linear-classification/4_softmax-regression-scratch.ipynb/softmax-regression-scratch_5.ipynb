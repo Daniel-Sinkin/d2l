{
 "cells": [
  {
   "cell_type": "markdown",
   "metadata": {},
   "source": [
    "#### 1. Experiment with the hyperparameters of the code in this section. In particular:\n",
    "1. Plot how the validation loss changes as you change the learning rate.\n",
    "1. Do the validation and training loss change as you change the minibatch size? How large or small do you need to go before you see an effect?"
   ]
  },
  {
   "cell_type": "markdown",
   "metadata": {},
   "source": [
    "(1)\n",
    "\n",
    "![image](softmax-regression-scratch_5_1.png)\n",
    "\n",
    "(2)\n",
    "\n",
    "![image](softmax-regression-scratch_5_2.png)"
   ]
  },
  {
   "cell_type": "markdown",
   "metadata": {},
   "source": []
  }
 ],
 "metadata": {
  "language_info": {
   "name": "python"
  }
 },
 "nbformat": 4,
 "nbformat_minor": 2
}
