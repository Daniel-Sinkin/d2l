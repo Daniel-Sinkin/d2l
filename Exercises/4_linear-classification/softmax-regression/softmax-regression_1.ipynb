{
 "cells": [
  {
   "cell_type": "markdown",
   "metadata": {},
   "source": [
    "#### 1. We can explore the connection between exponential families and softmax in some more depth.\n",
    "1. Compute the second derivative of the cross-entropy loss $l(\\mathbf{y},\\hat{\\mathbf{y}})$ for softmax.\n",
    "1. Compute the variance of the distribution given by $\\mathrm{softmax}(\\mathbf{o})$ and show that it matches the second derivative computed above."
   ]
  },
  {
   "cell_type": "markdown",
   "metadata": {},
   "source": [
    "(i)\n",
    "\n",
    "In this section of the book we have already computed\n",
    "$$\n",
    "\\partial­_{o_j}\\ell(\\underline{y}, \\hat{\\underline{y}}) = \\operatorname{softmax}(\\underline{o})_j - y_j.\n",
    "$$\n",
    "Note that\n",
    "$$\n",
    "\\partial_{o_j}\\partial_{o_i}\\ell(\\underline{y}, \\hat{\\underline{y}}) = \\partial_{o_i} \\operatorname{softmax}(\\underline{o})_j\n",
    "$$ and that\n",
    "$$\n",
    "\\partial_{o_i} \\sum­_{k = 1}^q exp(o_k) = \\exp(o_i).\n",
    "$$\n",
    "With that we can now compute \n",
    "$$\n",
    "\\begin{aligned}\n",
    "\\partial_{o_i} \\partial_{o_j}\\ell(\\underline{y}, \\hat{\\underline{y}}) &= \\partial_{i} \\operatorname{softmax}(\\underline{o})_j \\\\\n",
    "&= \\frac{\\partial_{o_i}\\exp(o_j) \\sum_{k = 1}^q \\exp(o_k) - \\exp(o_i)\\exp(o_i)}{\\left(\\sum_{k = 1}^q \\exp(o_k)\\right)^2} \\\\\n",
    "&= \\delta_{ij} \\frac{\\exp(o_i)}{\\sum_{k = 1}^q \\exp(o_k)} - \\frac{\\exp(o_i)\\exp(o_j)}{\\left(\\sum_{k = 1}^q \\exp(o_k)\\right)^2}.\n",
    "\\end{aligned}\n",
    "$$\n",
    "where $­\\delta_{ij}$ denotes the dirichlet function, i.e. $\\delta_{ij} = 1$ if $i = j$ and $0$ else.\n",
    "\n",
    "As such if $i = j$ we have\n",
    "$$\n",
    "\\begin{aligned}\n",
    "D^2\\ell(\\underline{y}, \\hat{\\underline{y}})_{ii} &= \\underbrace{\\delta_{ii}}_{= 1} \\frac{\\exp(o_i)}{\\sum_{k = 1}^q \\exp(o_k)} -  \\frac{\\exp(o_i)\\exp(o_i)}{\\left(\\sum_{k = 1}^q \\exp(o_k)\\right)^2} \\\\ \n",
    "&= \\operatorname{softmax}(\\underline{o})_i - \\operatorname{softmax}(\\underline{o})_i^2 \\\\\n",
    "&= \\operatorname{softmax}(\\underline{o})_i (1 - \\operatorname{softmax}(\\underline{o})_i)\n",
    "\\end{aligned}\n",
    "$$\n",
    "and if $i \\neq j$ we have\n",
    "$$\n",
    "\\begin{aligned}\n",
    "D^2\\ell(\\underline{y}, \\hat{\\underline{y}})_{ij} &= \\underbrace{\\delta_{ij}}_{= 0} \\frac{\\exp(o_i)}{\\sum_{k = 1}^q \\exp(o_k)} - \\frac{\\exp(o_i)\\exp(o_j)}{\\left(\\sum_{k = 1}^q \\exp(o_k)\\right)^2} \\\\\n",
    "&= -\\frac{\\exp(o_i)\\exp(o_j)}{\\left(\\sum_{k = 1}^q \\exp(o_k)\\right)^2} \\\\\n",
    "&= -\\operatorname{softmax}(\\underline{o})_i \\operatorname{softmax}(\\underline{o})_j\n",
    "\\end{aligned}\n",
    "$$\n",
    "In total, writing $S(i) := \\operatorname{softmax}(\\underline{o})_i$ we get\n",
    "$$\n",
    "D^2\\ell(\\underline{y}, \\hat{\\underline{y}}) = \\begin{pmatrix}\n",
    "S(1) (1 - S(1)) & -S(1) S(2) & \\cdots & -S(1) S(n) \\\\\n",
    "-S(2) S(1) & S(2) (1 - S(2)) & \\cdots & -S(2) S(n) \\\\\n",
    "\\vdots & \\vdots & \\ddots & \\vdots \\\\\n",
    "-S(n) S(1) & -S(n) S(2) & \\cdots & S(n) (1 - S(n)).\n",
    "\\end{pmatrix}\n",
    "$$\n",
    "Note that\n",
    "$$\n",
    "D^2\\ell(\\underline{y}, \\hat{\\underline{y}})_{ij} = D^2\\ell(\\underline{y}, \\hat{\\underline{y}})_{ji},\n",
    "$$\n",
    "which is exactly what we would expect due to Schwarz's theorem."
   ]
  },
  {
   "cell_type": "markdown",
   "metadata": {},
   "source": [
    "(2)\n",
    "\n",
    "$$\n",
    "\\begin{aligned}\n",
    "\\operatorname{Var}(\\hat{Y}) = E[\\hat{Y}^2] - (E[\\hat{Y}])^2 &= \\sum_{i = 1}^q i^2 S(i) - \\left( \\sum_{j = 1}^q jS(j) \\right)^2 \\\\\n",
    "&= \\sum_{i = 1}^q i^2 S(i) - \\sum_{j = 1}^q\\sum­_{k = 1}^q jS(j)kS(k) \\\\\n",
    "&= \\sum­_{i = 1}^q i^2 S(i) - \\sum_{j = 1}^q j^2 S(j)^2 - 2 \\sum_{1 \\leq j < k \\leq q} jkS(j)S(k) \\\\\n",
    "&= \\sum_{i = 1}^q i^2 (S(i) - S(i)^2) - \\sum_{1 \\leq j < k \\leq q} jkS(j)S(k) \\\\\n",
    "&= \\sum_{i = 1}^q D^2\\ell(\\underline{y}, \\hat{\\underline{y}})_{ii} - 2 \\sum_{1 \\leq j < k \\leq q} D^2\\ell(\\underline{y}, \\hat{\\underline{y}})_{jk}.\n",
    "\\end{aligned}\n",
    "$$"
   ]
  }
 ],
 "metadata": {
  "language_info": {
   "name": "python"
  }
 },
 "nbformat": 4,
 "nbformat_minor": 2
}
