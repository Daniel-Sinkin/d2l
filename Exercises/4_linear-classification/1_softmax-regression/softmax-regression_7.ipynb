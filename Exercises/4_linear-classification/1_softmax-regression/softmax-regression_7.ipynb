{
 "cells": [
  {
   "cell_type": "markdown",
   "metadata": {},
   "source": [
    "#### 7. Assume that we have some probability distribution $P$. Suppose we pick another distribution $Q$ with $Q(i) \\propto P(i)^\\alpha$ for $\\alpha > 0$.\n",
    "1. Which choice of $\\alpha$ corresponds to doubling the temperature? Which choice corresponds to halving it?\n",
    "1. What happens if we let the temperature approach $0$?\n",
    "1. What happens if we let the temperature approach $\\infty$?"
   ]
  },
  {
   "cell_type": "markdown",
   "metadata": {},
   "source": [
    "(1)\n",
    "\n",
    "Since the exponent acts as the inverse of the temperature this would require us to half and double $\\alpha$ respectively."
   ]
  },
  {
   "cell_type": "markdown",
   "metadata": {},
   "source": [
    "(2)\n",
    "\n",
    "As discussed in (1) this would mean sending $\\alpha$ to $0$, i.e. $Q$ approaches 1 pointwise and the lower numbers $x << 1$ get squished down much more than those close to 1."
   ]
  },
  {
   "cell_type": "markdown",
   "metadata": {},
   "source": [
    "(3)\n",
    "\n",
    "The distribution becomes more uniform. Basically the high temperature raises everything uniformly and so individual differences become less pronounced."
   ]
  }
 ],
 "metadata": {
  "language_info": {
   "name": "python"
  }
 },
 "nbformat": 4,
 "nbformat_minor": 2
}
