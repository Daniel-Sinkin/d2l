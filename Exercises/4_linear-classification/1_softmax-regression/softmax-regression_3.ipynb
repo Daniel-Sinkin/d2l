{
 "cells": [
  {
   "cell_type": "markdown",
   "metadata": {},
   "source": [
    "#### 4. When encoding signals transmitted over a physical wire, engineers do not always use binary codes. For instance, [PAM-3](https://en.wikipedia.org/wiki/Ternary_signal) uses three signal levels $\\{-1, 0, 1\\}$ as opposed to two levels $\\{0, 1\\}$. How many ternary units do you need to transmit an integer in the range $\\{0, \\ldots, 7\\}$? Why might this be a better idea in terms of electronics?"
   ]
  },
  {
   "cell_type": "markdown",
   "metadata": {},
   "source": [
    "With n ternary codes we can encode $3^n$ different combinations, and because $3^1 < 8 = |\\{0, \\dots, 7\\}| \\leq 3^2$ we need two.\n",
    "\n",
    "It's more switch efficient as we can store $\\log_2(3) (=\\log(3 / 2))$ bits per ternary digit which has multiple potential advantages like higher information density and less power consumption."
   ]
  }
 ],
 "metadata": {
  "language_info": {
   "name": "python"
  }
 },
 "nbformat": 4,
 "nbformat_minor": 2
}
