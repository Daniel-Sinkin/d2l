{
 "cells": [
  {
   "cell_type": "markdown",
   "metadata": {},
   "source": [
    "#### 1. Assume that we have three classes which occur with equal probability, i.e., the probability vector is $(\\frac{1}{3}, \\frac{1}{3}, \\frac{1}{3})$.\n",
    "1. What is the problem if we try to design a binary code for it?\n",
    "1. Can you design a better code? Hint: what happens if we try to encode two independent observations? What if we encode $n$ observations jointly?"
   ]
  },
  {
   "cell_type": "markdown",
   "metadata": {},
   "source": [
    "(1)\n",
    "\n",
    "It difficult to use bits (which always represent powers of 2) to assign equal likelihood to this 3 dimensional probability vector."
   ]
  },
  {
   "cell_type": "markdown",
   "metadata": {},
   "source": [
    "(2)\n",
    "\n",
    "If we encode two independent observations we'd have 9 possible values which fits somewhat neatly into $2^4 = 16$ bits.\n",
    "\n",
    "For $n$ we'd in general be able to encode it with $1 + \\operatorname{floor}(\\log_2(n))$ bits."
   ]
  }
 ],
 "metadata": {
  "language_info": {
   "name": "python"
  }
 },
 "nbformat": 4,
 "nbformat_minor": 2
}
