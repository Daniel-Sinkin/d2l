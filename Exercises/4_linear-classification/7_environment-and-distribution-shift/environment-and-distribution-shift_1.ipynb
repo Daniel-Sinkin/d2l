{
 "cells": [
  {
   "cell_type": "markdown",
   "metadata": {},
   "source": [
    "#### 1. What could happen when we change the behavior of a search engine? What might the users do? What about the advertisers?"
   ]
  },
  {
   "cell_type": "markdown",
   "metadata": {},
   "source": [
    "If there is some kind of proper way to \"prompt\" the search engine then users would learn how to best use that, which, because it changes the way people phrase it might even change their searching patterns in general.\n",
    "\n",
    "If the search engine offers very biased or skewed results users might leave it for a better alternative. Or if it induces some kind of echo-chamber type content display it might bring people into that specific bubble which then changes their behaviour based on the type of content they see.\n",
    "\n",
    "If people leave the search engine it might become less lucrative for advertisers. If the search engine selects for a particular group of people it might attract advertisers serving that particular market."
   ]
  }
 ],
 "metadata": {
  "kernelspec": {
   "display_name": "d2l",
   "language": "python",
   "name": "python3"
  },
  "language_info": {
   "codemirror_mode": {
    "name": "ipython",
    "version": 3
   },
   "file_extension": ".py",
   "mimetype": "text/x-python",
   "name": "python",
   "nbconvert_exporter": "python",
   "pygments_lexer": "ipython3",
   "version": "3.9.18"
  }
 },
 "nbformat": 4,
 "nbformat_minor": 2
}
