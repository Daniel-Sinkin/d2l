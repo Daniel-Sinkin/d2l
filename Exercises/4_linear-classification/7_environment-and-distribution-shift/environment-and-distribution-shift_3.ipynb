{
 "cells": [
  {
   "cell_type": "markdown",
   "metadata": {},
   "source": [
    "#### 3. Implement a covariate shift corrector."
   ]
  },
  {
   "cell_type": "markdown",
   "metadata": {},
   "source": [
    "Written by Claude3\n",
    "```python\n",
    "# Follow previous steps to get classifier predictions on test data\n",
    "preds = clf.predict_proba(X_test)[:, 1]\n",
    "\n",
    "# Compute importance weights\n",
    "weights = preds / (1 - preds)\n",
    "\n",
    "# Train weighted model\n",
    "from sklearn.linear_model import LogisticRegression\n",
    "weighted_clf = LogisticRegression()\n",
    "weighted_clf.fit(X_train, y_train, sample_weight=1.0/weights)\n",
    "```"
   ]
  }
 ],
 "metadata": {
  "kernelspec": {
   "display_name": "d2l",
   "language": "python",
   "name": "python3"
  },
  "language_info": {
   "codemirror_mode": {
    "name": "ipython",
    "version": 3
   },
   "file_extension": ".py",
   "mimetype": "text/x-python",
   "name": "python",
   "nbconvert_exporter": "python",
   "pygments_lexer": "ipython3",
   "version": "3.9.18"
  }
 },
 "nbformat": 4,
 "nbformat_minor": 2
}
