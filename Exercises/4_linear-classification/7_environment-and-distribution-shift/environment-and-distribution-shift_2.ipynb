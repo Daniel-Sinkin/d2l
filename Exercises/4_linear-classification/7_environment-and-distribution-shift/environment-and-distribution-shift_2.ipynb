{
 "cells": [
  {
   "cell_type": "markdown",
   "metadata": {},
   "source": [
    "#### 2. Implement a covariate shift detector. Hint: build a classifier."
   ]
  },
  {
   "cell_type": "markdown",
   "metadata": {},
   "source": [
    "Implemented by Claude3\n",
    "\n",
    "```python\n",
    "# Assume we have training data X_train, y_train and new test data X_test\n",
    "\n",
    "# Train a binary classifier to distinguish X_train from X_test\n",
    "from sklearn.linear_model import LogisticRegression\n",
    "clf = LogisticRegression()\n",
    "labels = np.concatenate([np.zeros(len(X_train)), np.ones(len(X_test))])\n",
    "data = np.concatenate([X_train, X_test])\n",
    "clf.fit(data, labels)\n",
    "\n",
    "# Predictions > 0.5 indicate covariate shift\n",
    "preds = clf.predict_proba(X_test)[:, 1]\n",
    "if np.mean(preds) > 0.5:\n",
    "    print(\"Covariate shift detected\")\n",
    "else:\n",
    "    print(\"No covariate shift\")\n",
    "```"
   ]
  }
 ],
 "metadata": {
  "kernelspec": {
   "display_name": "d2l",
   "language": "python",
   "name": "python3"
  },
  "language_info": {
   "codemirror_mode": {
    "name": "ipython",
    "version": 3
   },
   "file_extension": ".py",
   "mimetype": "text/x-python",
   "name": "python",
   "nbconvert_exporter": "python",
   "pygments_lexer": "ipython3",
   "version": "3.9.18"
  }
 },
 "nbformat": 4,
 "nbformat_minor": 2
}
