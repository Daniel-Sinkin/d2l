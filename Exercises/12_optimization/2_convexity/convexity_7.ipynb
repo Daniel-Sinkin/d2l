{
 "cells": [
  {
   "cell_type": "markdown",
   "metadata": {},
   "source": [
    "#### 7. Show that for  twice-differentiable convex functions $f$ we can write $f(x + \\epsilon) = f(x) + \\epsilon f'(x) + \\frac{1}{2} \\epsilon^2 f''(x + \\xi)$ for some $\\xi \\in [0, \\epsilon]$."
   ]
  },
  {
   "cell_type": "markdown",
   "metadata": {},
   "source": [
    "Recall that $f$ is convex if and only if $f''(x) \\geq 0$, in particular this means that $f'(x)$ is monotone increasing.\n",
    "\n",
    "By MVT we have\n",
    "$$\n",
    "\\frac{f'(x + \\epsilon) - f'(x)}{(x + \\epsilon) - \\epsilon} = \\frac{f'(x + \\epsilon) - f'(x)}{x} = f''(c)\n",
    "$$\n",
    "for some $c \\in (x, x + \\epsilon)$, i.e., $c = x + \\xi$ for some $\\xi \\in (0, \\epsilon)$."
   ]
  },
  {
   "cell_type": "markdown",
   "metadata": {},
   "source": [
    "With that we obtain\n",
    "$$\n",
    "\\frac{1}{2}\\varepsilon^2 f''(x + \\xi) = \\frac{1}{2} \\varepsilon (f'(x + \\varepsilon) - f'(x)) = \\frac{1}{2}\\varepsilon f'(x + \\varepsilon) - \\frac{1}{2} \\varepsilon f'(x).\n",
    "$$"
   ]
  },
  {
   "cell_type": "markdown",
   "metadata": {},
   "source": [
    "We can rewrite the equation in the problem statement to the form\n",
    "$$\n",
    "\\frac{1}{2} \\epsilon^2 f''(x + \\xi) = f(x + \\epsilon) - f(x) - \\epsilon f'(x) \n",
    "$$"
   ]
  },
  {
   "cell_type": "markdown",
   "metadata": {},
   "source": [
    "and are therefore interested in establishing the identity\n",
    "$$\n",
    "\\frac{1}{2}\\varepsilon f'(x + \\varepsilon) - \\frac{1}{2} \\varepsilon f'(x) = f(x + \\epsilon) - f(x) - \\epsilon f'(x)\n",
    "$$"
   ]
  },
  {
   "cell_type": "markdown",
   "metadata": {},
   "source": [
    "Bringing the derivatives to one side we get\n",
    "$$\n",
    "f(x + \\varepsilon) - f(x) = \\frac{1}{2}\\varepsilon f'(x +\\varepsilon) + \\frac{1}{2}\\varepsilon f'(x)\n",
    "$$"
   ]
  },
  {
   "cell_type": "markdown",
   "metadata": {},
   "source": [
    "Which is equivalent to\n",
    "$$\n",
    "\\frac{f(x + \\varepsilon) - f(x)}{\\varepsilon} = \\frac{f'(x + \\varepsilon) + f'(x)}{2}.\n",
    "$$"
   ]
  },
  {
   "cell_type": "markdown",
   "metadata": {},
   "source": [
    "Applying the MVT to the LHS allows us to write\n",
    "$$\n",
    "f'(x + \\tilde{\\varepsilon}) = \\frac{f'(x + \\varepsilon) + f'(x)}{2}\n",
    "$$\n",
    "for some $\\tilde{\\varepsilon} \\in (0, \\varepsilon)$ which holds by the IVT."
   ]
  }
 ],
 "metadata": {
  "language_info": {
   "name": "python"
  }
 },
 "nbformat": 4,
 "nbformat_minor": 2
}
