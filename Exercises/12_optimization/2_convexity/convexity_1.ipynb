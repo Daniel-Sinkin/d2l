{
 "cells": [
  {
   "cell_type": "markdown",
   "metadata": {},
   "source": [
    "#### 1. Assume that we want to verify convexity of a set by drawing all lines between points within the set and checking whether the lines are contained.\n",
    "1. Prove that it is sufficient to check only the points on the boundary.\n",
    "2. Prove that it is sufficient to check only the vertices of the set."
   ]
  },
  {
   "cell_type": "markdown",
   "metadata": {},
   "source": [
    "(1)\n",
    "\n",
    "If we have x, y in the interior we can extend lambda to lambda_1, lambda to so that $x' = \\lambda_1 x + (1 - \\lambda_1) y, y' = \\lambda_2 x + (1 - \\lambda_2) y$ and $x_1, x_2$ lie in the boundary, then $x$ and $y$ are contained in the line connecting $x'$ and $y'$."
   ]
  },
  {
   "cell_type": "markdown",
   "metadata": {},
   "source": [
    "(2)\n",
    "\n",
    "By definition the set is just given as a convex combination of the vertices, so we can always express every point of the boundary as a sum over the vertices."
   ]
  },
  {
   "cell_type": "markdown",
   "metadata": {},
   "source": []
  }
 ],
 "metadata": {
  "language_info": {
   "name": "python"
  }
 },
 "nbformat": 4,
 "nbformat_minor": 2
}
