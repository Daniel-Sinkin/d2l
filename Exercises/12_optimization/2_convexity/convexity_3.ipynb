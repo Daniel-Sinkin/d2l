{
 "cells": [
  {
   "cell_type": "markdown",
   "metadata": {},
   "source": [
    "#### 3. Given convex functions $f$ and $g$, show that $\\mathrm{max}(f, g)$ is convex, too. Prove that $\\mathrm{min}(f, g)$ is not convex."
   ]
  },
  {
   "cell_type": "markdown",
   "metadata": {},
   "source": [
    "Let $x \\in \\Omega, \\lambda \\in [0, 1]$ and $f, g : \\Omega \\rightarrow \\R$ be convex functions then\n",
    "$$\n",
    "\\begin{aligned}\n",
    "\\max(f, g)(\\lambda x + (1 - \\lambda)y) &\\overset{1}{=} \\max(f(\\lambda x + (1 - \\lambda)y), g(\\lambda x + (1 - \\lambda)y)) \\\\\n",
    "&\\overset{2}{\\leq} \\max(\\lambda f(x) + (1 - \\lambda)f(y), \\lambda g(x) + (1 - \\lambda)g(y)) \\\\\n",
    "&\\overset{3}{\\leq} \\max(\\lambda \\max(f, g)(x) + (1 - \\lambda)\\max(f, g)(y), \\lambda \\max(f, g)(x) + (1 - \\lambda)\\max(f, g)(y)) \\\\\n",
    "&\\overset{4}{=} \\lambda \\max(f, g)(x) + (1 - \\lambda) \\max(f, g)(y),\n",
    "\\end{aligned}\n",
    "$$\n",
    "where we have used\n",
    "1. $(\\max(f, g))(x) \\overset{\\operatorname{def}}{=} \\max(f(x), g(x))$ \n",
    "2. $f$ and $g$ are convex\n",
    "3. $f(x), g(x) \\leq \\max(f, g)(x)$ by definition of $\\max$\n",
    "4. $\\max(a, a) = a$"
   ]
  }
 ],
 "metadata": {
  "language_info": {
   "name": "python"
  }
 },
 "nbformat": 4,
 "nbformat_minor": 2
}
