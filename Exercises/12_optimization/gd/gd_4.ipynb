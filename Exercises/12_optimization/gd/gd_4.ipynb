{
 "cells": [
  {
   "cell_type": "markdown",
   "metadata": {},
   "source": [
    "#### 4. Implement the lightweight version of Newton's method using preconditioning:\n",
    "1. Use diagonal Hessian as preconditioner.\n",
    "1. Use the absolute values of that rather than the actual (possibly signed) values.\n",
    "1. Apply this to the problem above."
   ]
  },
  {
   "cell_type": "markdown",
   "metadata": {},
   "source": []
  }
 ],
 "metadata": {
  "language_info": {
   "name": "python"
  }
 },
 "nbformat": 4,
 "nbformat_minor": 2
}
