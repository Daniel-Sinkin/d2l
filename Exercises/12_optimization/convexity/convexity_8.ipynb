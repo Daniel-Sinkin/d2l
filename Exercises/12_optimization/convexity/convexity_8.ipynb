{
 "cells": [
  {
   "cell_type": "markdown",
   "metadata": {},
   "source": [
    "#### 8. Given a convex set $\\mathcal{X}$ and two vectors $\\mathbf{x}$ and $\\mathbf{y}$, prove that projections never increase distances, i.e., $\\|\\mathbf{x} - \\mathbf{y}\\| \\geq \\|\\textrm{Proj}_\\mathcal{X}(\\mathbf{x}) - \\textrm{Proj}_\\mathcal{X}(\\mathbf{y})\\|$.."
   ]
  },
  {
   "cell_type": "markdown",
   "metadata": {},
   "source": [
    "A visualization of the setup, the identity at the bottom only holds if C is a linear subspace because then the projection is a linear map.\n",
    "<div>\n",
    "<img src=\"convexity_8_1.jpeg\" width=\"700\"/>\n",
    "</div>"
   ]
  },
  {
   "cell_type": "markdown",
   "metadata": {},
   "source": [
    "For simpicities' sake we write $\\pi(x) := \\operatorname{Proj}_{\\mathcal{X}}(x)$ and note that by convexity for all $\\lambda \\in [0, 1]$ we have $\\lambda \\pi(x) + (1 - \\lambda)\\pi(y)$."
   ]
  },
  {
   "cell_type": "markdown",
   "metadata": {},
   "source": [
    "Note that\n",
    "$$\n",
    "||(\\lambda \\pi(x) + (1 - \\lambda) \\pi(y)) - \\pi(y)|| = ||\\lambda (\\pi(x) - \\pi(y))|| = \\lambda ||\\pi(x) - \\pi(y)||.\n",
    "$$"
   ]
  },
  {
   "cell_type": "markdown",
   "metadata": {},
   "source": [
    "Suppose there exists $x, y$ such that $||x - y|| < ||\\pi(x) - \\pi(y)||$, define \n",
    "$$\n",
    "\\lambda := \\frac{||x - y||}{||\\pi(x) - \\pi(y)||}\n",
    "$$\n",
    "and note that $\\lambda \\in (0, 1)$."
   ]
  },
  {
   "cell_type": "markdown",
   "metadata": {},
   "source": [
    "By convexity $p := \\lambda \\pi(x) + (1 - \\lambda) \\pi(y) \\in C$."
   ]
  }
 ],
 "metadata": {
  "language_info": {
   "name": "python"
  }
 },
 "nbformat": 4,
 "nbformat_minor": 2
}
