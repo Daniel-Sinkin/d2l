{
 "cells": [
  {
   "cell_type": "markdown",
   "metadata": {},
   "source": [
    "#### 1. Assume that we want to verify convexity of a set by drawing all lines between points within the set and checking whether the lines are contained.\n",
    "1. Prove that it is sufficient to check only the points on the boundary.\n",
    "2. Prove that it is sufficient to check only the vertices of the set."
   ]
  },
  {
   "cell_type": "markdown",
   "metadata": {},
   "source": []
  }
 ],
 "metadata": {
  "language_info": {
   "name": "python"
  }
 },
 "nbformat": 4,
 "nbformat_minor": 2
}
