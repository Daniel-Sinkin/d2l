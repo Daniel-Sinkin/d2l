{
 "cells": [
  {
   "cell_type": "markdown",
   "metadata": {},
   "source": [
    "#### 5. Prove that linear subspaces, i.e., $\\mathcal{X} = \\{\\mathbf{x} | \\mathbf{W} \\mathbf{x} = \\mathbf{b}\\}$, are convex sets."
   ]
  },
  {
   "cell_type": "markdown",
   "metadata": {},
   "source": [
    "Note that $\\mathcal{X}$ is an **affine** linear subspace. \n",
    "\n",
    "Let $x, y \\in \\mathcal{X}$ and $\\lambda \\in [0, 1]$ then\n",
    "$$\n",
    "W(\\lambda x + (1-\\lambda)y) = \\lambda Wx + (1 - \\lambda) Wy = \\lambda b + (1- \\lambda) b = b,\n",
    "$$\n",
    "where we have used the fact that $W$ is linear. As such $\\lambda x + (1 - \\lambda) \\in \\mathcal{X}$ and therefore $\\mathcal{X}$ is convex."
   ]
  }
 ],
 "metadata": {
  "language_info": {
   "name": "python"
  }
 },
 "nbformat": 4,
 "nbformat_minor": 2
}
