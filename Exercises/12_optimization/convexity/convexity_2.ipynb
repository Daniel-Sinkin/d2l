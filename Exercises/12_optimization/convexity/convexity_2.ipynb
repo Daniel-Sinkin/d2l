{
 "cells": [
  {
   "cell_type": "markdown",
   "metadata": {},
   "source": [
    "#### 2. Denote by $\\mathcal{B}_p[r] = {\\underline{x} \\in \\mathbb{R}^d : ||\\underline{x}||_p \\leq r }$ the ball of radius $r$ using the $p$-norm. Prove that $\\mathcal{B}_p[r]$ is convex for all $p \\geq 1$."
   ]
  }
 ],
 "metadata": {
  "language_info": {
   "name": "python"
  }
 },
 "nbformat": 4,
 "nbformat_minor": 2
}
