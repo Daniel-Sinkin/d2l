{
 "cells": [
  {
   "cell_type": "markdown",
   "metadata": {},
   "source": [
    "#### 4. Prove that the normalization of the softmax function is convex. More specifically prove the convexity of $f(x) = \\log \\sum_i \\exp(x_i)$."
   ]
  },
  {
   "cell_type": "markdown",
   "metadata": {},
   "source": [
    "$$\n",
    "\\partial_{x_i} f(x) = \\frac{\\exp(x_i)}{\\sum_i \\exp(x_i)}\n",
    "$$"
   ]
  },
  {
   "cell_type": "markdown",
   "metadata": {},
   "source": [
    "$$\n",
    "\\partial_{x_j} \\partial_{x_i} f(x) = \\partial_{x_j} \\left(\\frac{\\exp(x_i)}{\\sum_i \\exp(x_i)}\\right)\n",
    "$$"
   ]
  }
 ],
 "metadata": {
  "language_info": {
   "name": "python"
  }
 },
 "nbformat": 4,
 "nbformat_minor": 2
}
