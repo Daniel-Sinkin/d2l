{
 "cells": [
  {
   "cell_type": "markdown",
   "metadata": {},
   "source": [
    "#### 6. Prove that in the case of linear subspaces with $\\mathbf{b} = \\mathbf{0}$ the projection $\\textrm{Proj}_\\mathcal{X}$ can be written as $\\mathbf{M} \\mathbf{x}$ for some matrix $\\mathbf{M}$."
   ]
  },
  {
   "cell_type": "markdown",
   "metadata": {},
   "source": [
    "Let $W : Y \\rightarrow Y$ be a linear map and $\\mathcal{X} = \\ker W$. We write $k := \\dim \\ker W$ and note that $n := \\dim Y = k + \\operatorname{rank} W$.\n",
    "\n",
    "We can write $Y = \\mathcal{X} \\oplus Y'$ for some subspace $Y'$ and fix a basis ${b_1, \\dots, b_k}$ of $X$ and ${b_{k + 1}, \\dots, b­_n}$ of $Y'$. The union of those sets forms a basis of $Y$.\n",
    "\n",
    "Note define $M(b_i) := b_i$ for $1 \\leq i \\leq k$ and $B(b_j) := 0$ for $k + 1 \\leq j \\leq n$. This already uniquely defines a linear map $M$ which satisfies $M(Y) = \\mathcal{X}$ and $M^2 = M$. As such $M = \\operatorname{Proj}_{\\mathcal{X}}$."
   ]
  }
 ],
 "metadata": {
  "language_info": {
   "name": "python"
  }
 },
 "nbformat": 4,
 "nbformat_minor": 2
}
