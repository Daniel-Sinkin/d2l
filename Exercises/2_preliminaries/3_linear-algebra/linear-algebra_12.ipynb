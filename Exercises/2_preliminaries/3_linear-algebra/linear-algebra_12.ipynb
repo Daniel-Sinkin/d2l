{
 "cells": [
  {
   "cell_type": "markdown",
   "metadata": {},
   "source": [
    "#### 12. Define three matrices, say $A$, $B$, and $C$. Constitute a tensor with $3$ axes by stacking $A$, $B$, and $C$. What is the dimensionality? Slice out the second coordinate of the third axis to recover $B$. Check that your answer is correct."
   ]
  },
  {
   "cell_type": "code",
   "execution_count": null,
   "metadata": {},
   "outputs": [],
   "source": [
    "import torch\n",
    "\n",
    "def exercise_12() -> None:\n",
    "    _shape = (100, 200)\n",
    "\n",
    "    A = torch.randn(_shape)\n",
    "    B = torch.randn(_shape)\n",
    "    C = torch.randn(_shape)\n",
    "\n",
    "    _stacked = torch.stack([A, B, C])\n",
    "\n",
    "    print(_stacked.shape)\n",
    "    print(f\"{(_stacked[1] == B).all()=}\")\n",
    "exercise_12()"
   ]
  },
  {
   "cell_type": "markdown",
   "metadata": {},
   "source": [
    "```python\n",
    "torch.Size([3, 100, 200])\n",
    "(_stacked[1] == B).all()=tensor(True)\n",
    "```"
   ]
  }
 ],
 "metadata": {
  "kernelspec": {
   "display_name": "d2l",
   "language": "python",
   "name": "python3"
  },
  "language_info": {
   "codemirror_mode": {
    "name": "ipython",
    "version": 3
   },
   "file_extension": ".py",
   "mimetype": "text/x-python",
   "name": "python",
   "nbconvert_exporter": "python",
   "pygments_lexer": "ipython3",
   "version": "3.9.18"
  }
 },
 "nbformat": 4,
 "nbformat_minor": 2
}
