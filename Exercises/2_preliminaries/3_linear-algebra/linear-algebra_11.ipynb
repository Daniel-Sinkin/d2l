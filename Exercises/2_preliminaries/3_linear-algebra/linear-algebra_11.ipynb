{
 "cells": [
  {
   "cell_type": "markdown",
   "metadata": {},
   "source": [
    "#### 11. Define three large matrices, say $A$, $B$, and $C$. Is there any difference in speed depending on whether you compute $AB$ or $BA$ first? Why? What changes if you initialize $B$ without cloning memory? Why?"
   ]
  },
  {
   "cell_type": "code",
   "execution_count": null,
   "metadata": {},
   "outputs": [],
   "source": [
    "import torch\n",
    "import time\n",
    "def exercise_11() -> None:\n",
    "    # Defining the shapes\n",
    "    A_shape = (2**10, 2**16)\n",
    "    B_shape = (2**16, 2**5)\n",
    "    C_shape = (2**5, 2**16)\n",
    "\n",
    "    # Generating the tensors\n",
    "    A = torch.randn(A_shape)\n",
    "    B = torch.randn(B_shape)\n",
    "    C = torch.randn(C_shape)\n",
    "    t_a_b_start = time.perf_counter()\n",
    "    A_B = torch.matmul(A, B)\n",
    "    t_a_b_stop = time.perf_counter()\n",
    "    print(f\"Computing A * B took {(t_a_b_stop - t_a_b_start) * 1000:.2f}ms.\")\n",
    "\n",
    "    t_a_ct_start = time.perf_counter()\n",
    "    A_CT = torch.matmul(A, C.t())\n",
    "    t_a_ct_stop = time.perf_counter()\n",
    "    print(f\"Computing A * C^t took {(t_a_ct_stop - t_a_ct_start) * 1000:.2f}ms.\")\n",
    "\n",
    "exercise_11() "
   ]
  },
  {
   "cell_type": "markdown",
   "metadata": {},
   "source": [
    "```python\n",
    "Computing A * B took 31.13ms.\n",
    "Computing A * C^t took 27.70ms.\n",
    "```"
   ]
  }
 ],
 "metadata": {
  "kernelspec": {
   "display_name": "d2l",
   "language": "python",
   "name": "python3"
  },
  "language_info": {
   "codemirror_mode": {
    "name": "ipython",
    "version": 3
   },
   "file_extension": ".py",
   "mimetype": "text/x-python",
   "name": "python",
   "nbconvert_exporter": "python",
   "pygments_lexer": "ipython3",
   "version": "3.9.18"
  }
 },
 "nbformat": 4,
 "nbformat_minor": 2
}
