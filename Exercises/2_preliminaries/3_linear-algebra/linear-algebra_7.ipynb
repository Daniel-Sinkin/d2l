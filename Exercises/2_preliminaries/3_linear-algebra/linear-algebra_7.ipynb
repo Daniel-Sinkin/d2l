{
 "cells": [
  {
   "cell_type": "markdown",
   "metadata": {},
   "source": [
    "#### 7. When traveling between two points in downtown Manhattan, what is the distance that you need to cover in terms of the coordinates, i.e., in terms of avenues and streets? Can you travel diagonally?"
   ]
  },
  {
   "cell_type": "markdown",
   "metadata": {},
   "source": [
    "This problem wants me to define the manhattan distance:\n",
    "$$\n",
    "d((x_1, \\dots, x_n), (y_1, \\dots, y_n)) = \\sum_{i = 1}^n |x_i - y_i|.\n",
    "$$"
   ]
  }
 ],
 "metadata": {
  "language_info": {
   "name": "python"
  }
 },
 "nbformat": 4,
 "nbformat_minor": 2
}
