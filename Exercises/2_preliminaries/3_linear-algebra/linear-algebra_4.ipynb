{
 "cells": [
  {
   "cell_type": "markdown",
   "metadata": {},
   "source": [
    "#### 4. We defined the tensor $X$ of shape $(2, 3, 4)$ in this section. What is the output of \\texttt{len}(X)? Write your answer without implementing any code, then check your answer using code."
   ]
  },
  {
   "cell_type": "markdown",
   "metadata": {},
   "source": [
    "I assume that internally the tensor $X$ is represented as $((\\mathbb{R}^4)^3)^2$, which would then give the length as $2$."
   ]
  }
 ],
 "metadata": {
  "language_info": {
   "name": "python"
  }
 },
 "nbformat": 4,
 "nbformat_minor": 2
}
