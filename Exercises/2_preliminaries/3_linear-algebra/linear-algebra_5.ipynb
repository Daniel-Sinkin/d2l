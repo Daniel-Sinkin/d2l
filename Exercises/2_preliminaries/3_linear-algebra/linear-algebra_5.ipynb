{
 "cells": [
  {
   "cell_type": "markdown",
   "metadata": {},
   "source": [
    "#### 5. For a tensor $\\texttt{X}$ of arbitrary shape, does $\\texttt{len}(X)$ always correspond to the length of a certain axis of $\\texttt{X}$? What is that axis?"
   ]
  },
  {
   "cell_type": "markdown",
   "metadata": {},
   "source": [
    "Yes, it's always the first axis."
   ]
  }
 ],
 "metadata": {
  "language_info": {
   "name": "python"
  }
 },
 "nbformat": 4,
 "nbformat_minor": 2
}
