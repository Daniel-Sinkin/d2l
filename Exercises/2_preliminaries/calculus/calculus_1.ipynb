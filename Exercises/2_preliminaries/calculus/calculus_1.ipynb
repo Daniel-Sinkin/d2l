{
 "cells": [
  {
   "cell_type": "markdown",
   "metadata": {},
   "source": [
    "#### 1. So far we took the rules for derivatives for granted. Using the definition and limits prove the properties for (i) $f(x) = c$, (ii) $x^n$, (iii) $e^x$ and (iv) $\\log x$."
   ]
  },
  {
   "cell_type": "markdown",
   "metadata": {},
   "source": [
    "##### (i)"
   ]
  },
  {
   "cell_type": "markdown",
   "metadata": {},
   "source": [
    "$f_1'(x) = 0$ follows directly from $f(x) - f(y) = 0$ for all $x, y \\in \\mathbb{R}$.\n"
   ]
  },
  {
   "cell_type": "markdown",
   "metadata": {},
   "source": [
    "##### (ii)"
   ]
  },
  {
   "cell_type": "markdown",
   "metadata": {},
   "source": [
    "$f_2(x) - f_2(y) = x^n - y^n$. Fixing $y$ and defining $c_0 := y^n$ yields a polynomial $F(x) = x^n - c_0$ which obviously has a root at $x = \\sqrt[n]{c_0} = y$ as such we can write\n",
    "$$\n",
    "F(x) = (x - y) \\cdot p(x)\n",
    "$$\n",
    "and compute, using polynomial division (and indiction), that the following identity holds:\n",
    "$$\n",
    "p(x) = F(x) / (x - y) = \\sum_{i = 0}^{n - 1} x^{n - 1 - i} y^i\n",
    "$$\n",
    "Note that because $(x^n - y^n) / (x - y) = (y^n - x^n) / (y - x)$ we have a symmetry in $x$ and $y$, which can be expressed by\n",
    "$$\n",
    "p(x) = \\sum_{\\substack{\\alpha, \\beta \\geq 0 \\\\ \\alpha + \\beta = n - 1}} x^\\alpha y^\\beta.\n",
    "$$\n",
    "Now consider $\\lim_{x \\rightarrow y} p(x) = n x^{n - 1}$. As scuh we have shown that $f_2'(x) = nx^{n - 1}$.\n"
   ]
  },
  {
   "cell_type": "markdown",
   "metadata": {},
   "source": [
    "##### (iii)"
   ]
  },
  {
   "cell_type": "markdown",
   "metadata": {},
   "source": [
    "$$\n",
    "e^x = \\sum_{k = 0}^\\infty \\frac{x^k}{k!}\n",
    "$$\n",
    "so that\n",
    "$$\n",
    "e^x - e^y = \\sum_{k = 0}^\\infty \\frac{x^k - y^k}{k!}\n",
    "$$\n",
    "Similiar to the computation in $f_2$ we can factor out $x - y$ to obtain:\n",
    "$$\n",
    "e^x - e^y = (x - y) \\sum_{k = 0}^\\infty \\frac{\\sum_{s = 0}^k p_k(s)}{k!}\n",
    "$$"
   ]
  }
 ],
 "metadata": {
  "language_info": {
   "name": "python"
  }
 },
 "nbformat": 4,
 "nbformat_minor": 2
}
