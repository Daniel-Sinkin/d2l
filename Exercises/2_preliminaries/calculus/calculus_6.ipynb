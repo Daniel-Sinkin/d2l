{
 "cells": [
  {
   "cell_type": "markdown",
   "metadata": {},
   "source": [
    "#### 6. Plot the function $y = f(x) = x^3 - \\frac{1}{x}$ and plot its tangent line at $x = 1$."
   ]
  },
  {
   "cell_type": "code",
   "execution_count": null,
   "metadata": {},
   "outputs": [],
   "source": [
    "import matplotlib.pyplot as plt\n",
    "import numpy\n",
    "\n",
    "x0 = 1\n",
    "\n",
    "_dx = 0.5\n",
    "\n",
    "f = lambda x : x**3 - 1 / x\n",
    "y0 = f(x0)\n",
    "\n",
    "# Derivative\n",
    "fp = lambda x : 3 * (x ** 2) + 1 / (x ** 2) \n",
    "\n",
    "x = numpy.arange(x0 - _dx, x0 + _dx, 0.002)\n",
    "y_f = f(x)\n",
    "plt.plot(x, y_f, label = \"f(x)\")\n",
    "y_tangent = fp(x0) * (x - x0)\n",
    "plt.plot(x, y_tangent, label = \"f'(x)\")\n",
    "plt.legend()\n",
    "\n",
    "plt.scatter(x0, y0, c = \"red\", zorder = 5)\n",
    "\n",
    "plt.savefig(\"calculus_6_1.png\")\n",
    "plt.show()"
   ]
  },
  {
   "cell_type": "markdown",
   "metadata": {},
   "source": [
    "![image](calculus_6_1.png)"
   ]
  }
 ],
 "metadata": {
  "kernelspec": {
   "display_name": "d2l",
   "language": "python",
   "name": "python3"
  },
  "language_info": {
   "codemirror_mode": {
    "name": "ipython",
    "version": 3
   },
   "file_extension": ".py",
   "mimetype": "text/x-python",
   "name": "python",
   "nbconvert_exporter": "python",
   "pygments_lexer": "ipython3",
   "version": "3.9.18"
  }
 },
 "nbformat": 4,
 "nbformat_minor": 2
}
