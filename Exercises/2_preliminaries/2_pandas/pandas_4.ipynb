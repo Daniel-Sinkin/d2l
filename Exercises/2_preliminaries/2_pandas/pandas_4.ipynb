{
 "cells": [
  {
   "cell_type": "markdown",
   "metadata": {},
   "source": [
    "#### 4. How would you deal with data that has a very large number of categories? What if the category labels are all unique? Should you include the latter?"
   ]
  },
  {
   "cell_type": "markdown",
   "metadata": {},
   "source": []
  }
 ],
 "metadata": {
  "language_info": {
   "name": "python"
  }
 },
 "nbformat": 4,
 "nbformat_minor": 2
}
