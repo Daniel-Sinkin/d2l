{
 "cells": [
  {
   "cell_type": "markdown",
   "metadata": {},
   "source": [
    "#### 10. Define three large matrices, say $A$, $B$, and $C$, for instance initialized with Gaussian random variables. You want to compute the product $ABC$. Is there any difference in memory footprint and speed, depending on whether you compute $AB$ or $BC$ first? Why?"
   ]
  },
  {
   "cell_type": "markdown",
   "metadata": {},
   "source": [
    "Let $A \\in \\mathbb{R}^{r \\times s}, B \\in \\mathbb{R}^{s \\times t}$ and $C \\in \\mathbb{R}^{t \\times u}$. We are assuming the naive matrix multiplication algorithm is used, then to calculate $A \\cdot B \\in \\mathbb{R}^{r \\times t}$ we need $O(rst)$ steps and similiarly for $B \\cdot C \\in \\mathbb{R}^{s \\times u}$ we need $O(s t u)$ steps. To then calculate $(A \\cdot B) \\cdot C$ we need $O(rtu)$ steps and to calculate $A \\cdot (B \\cdot C)$ we need $O(rsu)$. As such in total we need $O(rst + rtu) = O(rt(u + s))$ to calculate $(A \\cdot B) \\cdot C$ and $O(stu + rsu) = O(su(t + r))$."
   ]
  }
 ],
 "metadata": {
  "language_info": {
   "name": "python"
  }
 },
 "nbformat": 4,
 "nbformat_minor": 2
}
