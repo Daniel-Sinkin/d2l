{
 "cells": [
  {
   "cell_type": "markdown",
   "metadata": {},
   "source": [
    "#### 9. Feed a tensor with $3$ or more axes to the $\\texttt{linalg.norm}$ function and observe its output. What does this function compute for tensors of arbitrary shape?"
   ]
  },
  {
   "cell_type": "code",
   "execution_count": null,
   "metadata": {},
   "outputs": [],
   "source": [
    "import torch\n",
    "\n",
    "X = torch.rand((2, 3, 4))\n",
    "torch.linalg.norm(X)**2, torch.linalg.norm(X[0])**2 + torch.linalg.norm(X[1])**2"
   ]
  },
  {
   "cell_type": "markdown",
   "metadata": {},
   "source": [
    "It computes the Frobenius norm of the tensor, as it evidenced by the fact that the total norm squares to the sum of the norm of the individual parts.\n",
    "```python\n",
    "(tensor(7.2856), tensor(7.2856))\n",
    "```"
   ]
  }
 ],
 "metadata": {
  "kernelspec": {
   "display_name": "d2l",
   "language": "python",
   "name": "python3"
  },
  "language_info": {
   "codemirror_mode": {
    "name": "ipython",
    "version": 3
   },
   "file_extension": ".py",
   "mimetype": "text/x-python",
   "name": "python",
   "nbconvert_exporter": "python",
   "pygments_lexer": "ipython3",
   "version": "3.9.18"
  }
 },
 "nbformat": 4,
 "nbformat_minor": 2
}
