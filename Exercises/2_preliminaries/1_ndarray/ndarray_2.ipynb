{
 "cells": [
  {
   "cell_type": "markdown",
   "metadata": {},
   "source": [
    "#### 2. Replace the two tensors that operate by element in the broadcasting mechanism with other shapes, e.g., 3-dimensional tensors. Is the result the same as expected?"
   ]
  },
  {
   "cell_type": "code",
   "execution_count": null,
   "metadata": {},
   "outputs": [],
   "source": [
    "import torch\n",
    "\n",
    "X = torch.tensor([[1, 2, 3], [4, 5, 6], [7, 8, 9]])\n",
    "b = torch.tensor([1, 2, 3])\n",
    "(X + b) - X, X + b"
   ]
  },
  {
   "cell_type": "markdown",
   "metadata": {},
   "source": [
    "It propagates along the other axis, i.e. 3x3 + 1x3 broadcasts the 1 to a 3, so that b becomes a 3x3 matrix.\n",
    "```python\n",
    "tensor([[1, 2, 3],\n",
    "         [1, 2, 3],\n",
    "         [1, 2, 3]])\n",
    "```\n",
    "The result of the addition is then\n",
    "```python\n",
    "tensor([[ 2,  4,  6],\n",
    "        [ 5,  7,  9],\n",
    "        [ 8, 10, 12]])\n",
    "```"
   ]
  }
 ],
 "metadata": {
  "kernelspec": {
   "display_name": "d2l",
   "language": "python",
   "name": "python3"
  },
  "language_info": {
   "codemirror_mode": {
    "name": "ipython",
    "version": 3
   },
   "file_extension": ".py",
   "mimetype": "text/x-python",
   "name": "python",
   "nbconvert_exporter": "python",
   "pygments_lexer": "ipython3",
   "version": "3.9.18"
  }
 },
 "nbformat": 4,
 "nbformat_minor": 2
}
