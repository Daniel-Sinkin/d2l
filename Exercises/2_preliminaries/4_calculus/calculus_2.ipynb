{
 "cells": [
  {
   "cell_type": "markdown",
   "metadata": {},
   "source": [
    "#### 2. In the same vein, prove the product, sum, and quotient rule from first principles."
   ]
  },
  {
   "cell_type": "markdown",
   "metadata": {},
   "source": [
    "$$\n",
    "f(x)g(x) - f(y)g(y) = f(x)g(x) - f(x)g(y) + f(x)g(y) - f(y)g(y) = f(x)(g(x) - g(y)) + (f(x) - f(y))g(y)\n",
    "$$\n",
    "diving by $x - y$ yields\n",
    "$$\n",
    "f(x) \\frac{g(x) - g(y)}{x - y} + \\frac{f(x) - f(y)}{x - y} g(y)\n",
    "$$\n",
    "and applying the limit $x \\rightarrow y$ yields\n",
    "$$\n",
    "f(x)g'(x) + f'(x)g(x).\n",
    "$$\n",
    "The sum rule follows from $(f(x) + g(x)) - (f(y) + g(y)) = (f(x) - f(y)) + (g(x) - g(y))$ and dividing and sending limit yields $f'(x) + g'(x)$.\n",
    "\n",
    "The quotient rule can be derived from the product rule, which was derived from first principles above.\n",
    "\n",
    "Alternatively we can note that\n",
    "$$\n",
    "(f(x) / g(x)) - (f(y) / g(y)) = (f(x)g(y) - f(y)g(x)) / (g(x) g(y))\n",
    "$$\n",
    "Dividing by $x - y$ yields the following numerator:\n",
    "$$\n",
    "\\frac{\\frac{f(x)g(y) - f(y)g(x)}{x - y}}{g(x) g(y)}\n",
    "$$\n",
    "Which up to sign is exactly what we saw in the product rule case, sending x to y yields\n",
    "$$\n",
    "\\frac{f'(x)g(x) - f(x)g'(x)}{g(y)^2}\n",
    "$$"
   ]
  }
 ],
 "metadata": {
  "kernelspec": {
   "display_name": "d2l",
   "language": "python",
   "name": "python3"
  },
  "language_info": {
   "codemirror_mode": {
    "name": "ipython",
    "version": 3
   },
   "file_extension": ".py",
   "mimetype": "text/x-python",
   "name": "python",
   "nbconvert_exporter": "python",
   "pygments_lexer": "ipython3",
   "version": "3.9.18"
  }
 },
 "nbformat": 4,
 "nbformat_minor": 2
}
