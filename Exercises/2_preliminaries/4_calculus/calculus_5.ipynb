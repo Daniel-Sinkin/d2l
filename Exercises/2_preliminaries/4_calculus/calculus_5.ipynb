{
 "cells": [
  {
   "cell_type": "markdown",
   "metadata": {},
   "source": [
    "#### 5. What does it mean that $f'(x) = 0$ for some $x$? Give an example of a function $f$ and a location $x$ for which this might hold. "
   ]
  },
  {
   "cell_type": "markdown",
   "metadata": {},
   "source": [
    "If $x$ is an interior point then that means $f$ attains a local minimum or maximum at that $x$. Example $f(x) = (x - 1)^2$ for $x = 1$."
   ]
  }
 ],
 "metadata": {
  "language_info": {
   "name": "python"
  }
 },
 "nbformat": 4,
 "nbformat_minor": 2
}
