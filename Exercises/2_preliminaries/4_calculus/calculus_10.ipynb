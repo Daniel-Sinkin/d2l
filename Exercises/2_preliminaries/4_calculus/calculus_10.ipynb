{
 "cells": [
  {
   "cell_type": "markdown",
   "metadata": {},
   "source": [
    "#### 10. Given a function $f(x)$ that is invertible, compute the derivative of its inverse $f^{-1}(x)$.  Here we have that $f^{-1}(f(x)) = x$ and conversely $f(f^{-1}(y)) = y$.  Hint: use these properties in your derivation."
   ]
  },
  {
   "cell_type": "markdown",
   "metadata": {},
   "source": [
    "We can calculate\n",
    "$$\n",
    "    1 = \\frac{\\partial}{\\partial x} x = \\frac{\\partial}{\\partial x} f^{-1}(f(x)) = (f^{-1})'(f(x)) f'(x),\n",
    "$$\n",
    "which can be rewritten as\n",
    "$$\n",
    "    (f^{-1})'(f(x)) = \\frac{1}{f'(x)}.\n",
    "$$\n",
    "If we write $y = f(x)$ this becomes\n",
    "$$\n",
    "    (f^{-1})'(y) = \\frac{1}{f'(x)}.\n",
    "$$"
   ]
  }
 ],
 "metadata": {
  "kernelspec": {
   "display_name": "d2l",
   "language": "python",
   "name": "python3"
  },
  "language_info": {
   "codemirror_mode": {
    "name": "ipython",
    "version": 3
   },
   "file_extension": ".py",
   "mimetype": "text/x-python",
   "name": "python",
   "nbconvert_exporter": "python",
   "pygments_lexer": "ipython3",
   "version": "3.9.18"
  }
 },
 "nbformat": 4,
 "nbformat_minor": 2
}
