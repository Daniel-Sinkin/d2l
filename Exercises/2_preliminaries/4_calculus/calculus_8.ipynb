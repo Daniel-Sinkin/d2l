{
 "cells": [
  {
   "cell_type": "markdown",
   "metadata": {},
   "source": [
    "#### 8. What is the gradient of the function $f(\\mathbf{x}) = \\|\\mathbf{x}\\|_2$? What happens for $\\mathbf{x} = \\mathbf{0}$?"
   ]
  },
  {
   "cell_type": "markdown",
   "metadata": {},
   "source": [
    "The function is not differentiable at $\\underline{x} = \\underline{0}$. So now suppose $\\underline{x} \\neq {0}$, then we can compute the derivative indirectly by computing the derivative of $f^2$, i.e. of \n",
    "$$\n",
    "g(x) = ||\\underline{x}||_2^2 = \\sum­_{i = 1}^n x_i^2\n",
    "$$\n",
    "where $\\partial_{x_j} g(\\underline{x}) = 2x_j$, i.e. $\\nabla g(\\underline{x}) = 2 \\underline{x}$.\n",
    "\n",
    "Because $f(\\underline{x}) = \\sqrt{g(\\underline{x})}$ we have $\\nabla f(\\underline{x}) = \\frac{1}{2} \\frac{\\nabla g(x)}{g(x)} = \\frac{1}{2} \\frac{x}{||\\underline{x}||_2}$.\n",
    "\n",
    "This means the gradient of $f$ at $\\underline{x}$ points in the same direction as $\\underline{x}$ and has magnitude $1/2$."
   ]
  }
 ],
 "metadata": {
  "language_info": {
   "name": "python"
  }
 },
 "nbformat": 4,
 "nbformat_minor": 2
}
