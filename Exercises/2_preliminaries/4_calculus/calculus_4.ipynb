{
 "cells": [
  {
   "cell_type": "markdown",
   "metadata": {},
   "source": []
  },
  {
   "cell_type": "markdown",
   "metadata": {},
   "source": [
    "$$\n",
    "x^x = e^{x \\log(x)}\n",
    "$$\n",
    "and taking the derivative of this yields, by the chain rule,\n",
    "$$\n",
    "(x^x)' = (x \\log(x))' e^{x \\log(x)} = \\left[\\log(x) + \\frac{x}{x}\\right]x^x = (1 + \\log(x))x^x.\n",
    "$$"
   ]
  },
  {
   "cell_type": "markdown",
   "metadata": {},
   "source": []
  }
 ],
 "metadata": {
  "language_info": {
   "name": "python"
  }
 },
 "nbformat": 4,
 "nbformat_minor": 2
}
