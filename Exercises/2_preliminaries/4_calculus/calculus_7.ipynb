{
 "cells": [
  {
   "cell_type": "markdown",
   "metadata": {},
   "source": [
    "#### 7. Find the gradient of the function $f(\\mathbf{x}) = 3x_1^2 + 5e^{x_2}$."
   ]
  },
  {
   "cell_type": "markdown",
   "metadata": {},
   "source": [
    "$$\n",
    "\\begin{aligned}\n",
    "\\frac{\\partial f}{\\partial x_1} = 6x_1,&&\\frac{\\partial f}{\\partial x_2} = 5e^{x_2}\n",
    "\\end{aligned}\n",
    "$$\n",
    "as such\n",
    "$$\n",
    "\\nabla f(x_1, x_2) = \\begin{pmatrix}\n",
    "6x_1 \\\\\n",
    "5e^{x_2}\n",
    "\\end{pmatrix}\n",
    "$$"
   ]
  },
  {
   "cell_type": "markdown",
   "metadata": {},
   "source": []
  }
 ],
 "metadata": {
  "language_info": {
   "name": "python"
  }
 },
 "nbformat": 4,
 "nbformat_minor": 2
}
