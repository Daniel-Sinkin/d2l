{
 "cells": [
  {
   "cell_type": "markdown",
   "metadata": {},
   "source": [
    "9. Can you write out the chain rule for the case where $u = f(x, y, z)$ and $x = x(a, b)$, $y = y(a, b)$, and $z = z(a, b)$?"
   ]
  },
  {
   "cell_type": "markdown",
   "metadata": {},
   "source": [
    "$$\n",
    "\\partial­_{a}(f(x(a, b), y(a, b), z(a, b))) = \\sum_{i = 1}^3 (\\partial_{x_i}f)(x(a, b), y(a, b), z(a, b)) (\\partial_a x_i)(a, b) = \\sum_{i = 1}^3 \\partial­­_{x_i}(x, y, z) (\\partial­_a x_i)(a, b) = \\nabla f(x, y, z) \\cdot \\nabla_a(x, y, z)(a, b)\n",
    "$$\n",
    "where $(x_1, x_2, x_3) = (x, y, z)$.\n",
    "\n",
    "As such the gradient is\n",
    "$$\n",
    "(\\nabla f)(x, y, z) \\cdot D_{(a, b)}(x, y, z)\n",
    "$$"
   ]
  }
 ],
 "metadata": {
  "language_info": {
   "name": "python"
  }
 },
 "nbformat": 4,
 "nbformat_minor": 2
}
