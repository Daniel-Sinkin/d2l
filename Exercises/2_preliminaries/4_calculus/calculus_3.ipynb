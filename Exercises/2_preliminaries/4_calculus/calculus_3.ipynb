{
 "cells": [
  {
   "cell_type": "markdown",
   "metadata": {},
   "source": [
    "#### 3. Prove that the constant multiple rule follows as a special case of the product rule. "
   ]
  },
  {
   "cell_type": "markdown",
   "metadata": {},
   "source": [
    "We have already shown that the derivative of the constant funcition $\\gamma(x) = c$ is $\\gamma'(x) = 0$ so that for differentiable function $f$ we have\n",
    "$$\n",
    "(\\gamma \\cdot f)'(x) = \\gamma'(x)f(x) + \\gamma(x)f'(x) = \\gamma(x) f'(x) = cf'(x).\n",
    "$$"
   ]
  }
 ],
 "metadata": {
  "language_info": {
   "name": "python"
  }
 },
 "nbformat": 4,
 "nbformat_minor": 2
}
