{
 "cells": [
  {
   "cell_type": "markdown",
   "metadata": {},
   "source": [
    "#### 5. Given two events with probability $P(\\mathcal{A})$ and $P(\\mathcal{B})$, compute upper and lower bounds on $P(\\mathcal{A} \\cup \\mathcal{B})$ and $P(\\mathcal{A} \\cap \\mathcal{B})$. Hint: graph the situation using a [Venn diagram](https://en.wikipedia.org/wiki/Venn_diagram)."
   ]
  },
  {
   "cell_type": "markdown",
   "metadata": {},
   "source": [
    "Using a Venn diagram we can immediately see that\n",
    "$$\n",
    "\\max\\{P(A), P(B) \\} \\leq P(A \\cup B) = P(A) + P(B) - P(A \\cap B) \\leq P(A) + P(B),\n",
    "$$\n",
    "and\n",
    "$$\n",
    "P(A) + P(B) - 1 \\leq P(A \\cap B) \\leq \\min\\{P(A), P(B)\\}\n",
    "$$\n",
    "holds."
   ]
  }
 ],
 "metadata": {
  "language_info": {
   "name": "python"
  }
 },
 "nbformat": 4,
 "nbformat_minor": 2
}
