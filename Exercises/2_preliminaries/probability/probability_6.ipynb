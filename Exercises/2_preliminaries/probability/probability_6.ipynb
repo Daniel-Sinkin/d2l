{
 "cells": [
  {
   "cell_type": "markdown",
   "metadata": {},
   "source": [
    "#### 6. Assume that we have a sequence of random variables, say $A$, $B$, and $C$, where $B$ only depends on $A$, and $C$ only depends on $B$, can you simplify the joint probability $P(A, B, C)$? Hint: this is a [Markov chain](https://en.wikipedia.org/wiki/Markov_chain)."
   ]
  },
  {
   "cell_type": "markdown",
   "metadata": {},
   "source": [
    "Note that $P(A, B)$ is just shorthand for $P(A \\cap B)$.\n",
    "\\begin{align*}\n",
    "P(A, B, C) &= P(A|B, C) P(B, C) \\\\\n",
    "&= P(A|B) P(B, C) \\\\\n",
    "&= P(A|B) P(B|C) P(C)\n",
    "\\end{align*}\n",
    "where we have used (2.6.1) from the book, as well as because $A$ and $C$ are independent it follows that $P(A|B, C) = P(A|B)$. This can be expressed more generally, if we have a collection of random variables $X_i$ such that\n",
    "$$\n",
    "P(X_{i + 1} | X_i, X_{i - 1}, \\dots, X_1) = P(X_{i + 1}| X_i),\n",
    "$$\n",
    "i.e. $X_{i + 1}$ only \"remembers\" the previous variable then\n",
    "$$\n",
    "P(X_n, \\dots, X_1) = P(X_n|X_{n - 1})P(X_{n - 2}|X_{n - 3})\\cdot \\dots \\cdot P(X_1|X_0)P(X_0).\n",
    "$$"
   ]
  }
 ],
 "metadata": {
  "language_info": {
   "name": "python"
  }
 },
 "nbformat": 4,
 "nbformat_minor": 2
}
