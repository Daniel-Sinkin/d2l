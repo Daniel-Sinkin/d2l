{
 "cells": [
  {
   "cell_type": "markdown",
   "metadata": {},
   "source": [
    "#### 1. Give an example where observing more data can reduce the amount of uncertainty about the outcome to an arbitrarily low level."
   ]
  },
  {
   "cell_type": "markdown",
   "metadata": {},
   "source": [
    "Consider flipping a weighted coin, whose probability to land on heads is given by $p_H \\in (0, 1)$. Let $(X_i)_{i \\in \\mathbb{N}}$ be a sequence of random variables where $X_i \\in \\{0, 1\\}$ and is $1$ if the $i$th flip landed on heads. Counting the outcome of the first $n$ flips yields the random variable\n",
    "$$\n",
    "\\tilde{X}_n := \\sum_{i}^n X_i.\n",
    "$$\n",
    "Note that\n",
    "$$\n",
    "P\\left(\\lim_{n \\rightarrow \\infty} \\frac{\\tilde{X}_n}{n} \\neq p_H\\right) = 0,\n",
    "$$\n",
    "or if we consider the running average $Y_n := \\frac{1}{n} \\tilde{X}_n$ this can be expressed as\n",
    "$$\n",
    "P\\left(\\lim_{n \\rightarrow \\infty} Y_n = p_H\\right) = 1.\n",
    "$$"
   ]
  }
 ],
 "metadata": {
  "kernelspec": {
   "display_name": "d2l",
   "language": "python",
   "name": "python3"
  },
  "language_info": {
   "codemirror_mode": {
    "name": "ipython",
    "version": 3
   },
   "file_extension": ".py",
   "mimetype": "text/x-python",
   "name": "python",
   "nbconvert_exporter": "python",
   "pygments_lexer": "ipython3",
   "version": "3.9.18"
  }
 },
 "nbformat": 4,
 "nbformat_minor": 2
}
