{
 "cells": [
  {
   "cell_type": "markdown",
   "metadata": {},
   "source": [
    "Recall some basic definitions.\n",
    "\n",
    "Let $(\\Omega, \\mathcal{A}, P)$ be a probability space, this is a measure space (i.e. $\\Omega$ is some set, $\\mathcal{A}$ is a sigma algebra on $\\Omega$ and $P$ is a measure, i.e. a $\\sigma$-additive function $P : \\mathcal{A} \\rightarrow [0, +\\infty)$ which satisfies $P(\\emptyset) = 0$), where the measure is a probability function, i.e. $P(\\Omega) = 1$. Recall that this means that probability theory is only interested in the theory of finite measures.\n",
    "\n",
    "A random variable is a measureable function $X : \\Omega \\rightarrow \\mathbb{R}$. We call the elements of the sigma algebra an event (and the sigma-algebra itself the event space) and the elements of $\\Omega$ a sample (and $\\Omega$ itself a sample space). The expression\n",
    "$$\n",
    "P\\left(\\lim_{n \\rightarrow \\infty} X_n = \\alpha\\right) = p\n",
    "$$\n",
    "is simply shorthand for\n",
    "$$\n",
    "P\\left(\\{\\omega \\in \\Omega : \\lim_{n \\rightarrow \\infty} X_n(\\omega) = \\alpha\\}\\right) = p.\n",
    "$$"
   ]
  }
 ],
 "metadata": {
  "language_info": {
   "name": "python"
  }
 },
 "nbformat": 4,
 "nbformat_minor": 2
}
