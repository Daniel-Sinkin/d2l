{
 "cells": [
  {
   "cell_type": "markdown",
   "metadata": {},
   "source": [
    "#### 4. Assume that we draw $m$ samples $x_i$ from a probability distribution with zero mean and unit variance. Compute the averages $z_m \\stackrel{\\textrm{def}}{=} m^{-1} \\sum_{i=1}^m x_i$. Can we apply Chebyshev's inequality for every $z_m$ independently? Why not?"
   ]
  },
  {
   "cell_type": "markdown",
   "metadata": {},
   "source": [
    "I'll assume we're talking about $X_i$ with finite amounts of values. The $X_i$ are independent so\n",
    "$$\n",
    "E[z_m] = E[m^{-1}\\sum_i^m X_i] = m^{-1} \\sum_{i = 1}^m \\underbrace{E[X_i]}_{=\\ 0} = 0.\n",
    "$$\n",
    "No, we can't apply Chebychev's inequality independently because $z_{m + 1} = z_m + X_{m + 1}$ as such $z_m$ and $z_{m + 1}$ are not independent."
   ]
  }
 ],
 "metadata": {
  "kernelspec": {
   "display_name": "d2l",
   "language": "python",
   "name": "python3"
  },
  "language_info": {
   "codemirror_mode": {
    "name": "ipython",
    "version": 3
   },
   "file_extension": ".py",
   "mimetype": "text/x-python",
   "name": "python",
   "nbconvert_exporter": "python",
   "pygments_lexer": "ipython3",
   "version": "3.9.18"
  }
 },
 "nbformat": 4,
 "nbformat_minor": 2
}
