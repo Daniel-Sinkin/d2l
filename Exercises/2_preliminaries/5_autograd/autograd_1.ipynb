{
 "cells": [
  {
   "cell_type": "markdown",
   "metadata": {},
   "source": [
    "#### 1. Why is the second derivative much more expensive to compute than the first derivative?"
   ]
  },
  {
   "cell_type": "markdown",
   "metadata": {},
   "source": [
    "The first derivative can be computes as the difference between the previous value and the current value, on the other hand the second derivative needs information around at least 3 points, so we don't get a simple directed graph."
   ]
  }
 ],
 "metadata": {
  "language_info": {
   "name": "python"
  }
 },
 "nbformat": 4,
 "nbformat_minor": 2
}
