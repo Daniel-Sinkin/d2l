{
 "cells": [
  {
   "cell_type": "markdown",
   "metadata": {},
   "source": [
    "#### 2. After running the function for backpropagation, immediately run it again and see what happens. Investigate."
   ]
  },
  {
   "cell_type": "code",
   "execution_count": null,
   "metadata": {},
   "outputs": [],
   "source": [
    "import torch\n",
    "from torch import Tensor\n",
    "\n",
    "def duplicate_backpropagation() -> None:\n",
    "    x: Tensor = torch.arange(4.0, requires_grad=True)\n",
    "\n",
    "    y: Tensor = 2 * (x ** 5) \n",
    "    # After transversing the graph once, the nodes get freed, if we want to\n",
    "    # backpropagate again, we need to set the retain_graph=True\n",
    "    # If we don't we get a RuntimeError.\n",
    "    y.backward(gradient=torch.ones(len(x)), retain_graph=True)\n",
    "    x_grad_once: Tensor = x.grad.clone()\n",
    "    y.backward(gradient=torch.ones(len(x)))\n",
    "    assert torch.allclose(x.grad, 2 * x_grad_once)\n",
    "    print(x_grad_once, x.grad)\n",
    "duplicate_backpropagation()"
   ]
  },
  {
   "cell_type": "markdown",
   "metadata": {},
   "source": [
    "The gradient doubles, that is because the way torch does backpropagation is that it accumulates the gradient.\n",
    "```python\n",
    "tensor([  0.,  10., 160., 810.]) tensor([   0.,   20.,  320., 1620.])\n",
    "```"
   ]
  }
 ],
 "metadata": {
  "kernelspec": {
   "display_name": "d2l",
   "language": "python",
   "name": "python3"
  },
  "language_info": {
   "codemirror_mode": {
    "name": "ipython",
    "version": 3
   },
   "file_extension": ".py",
   "mimetype": "text/x-python",
   "name": "python",
   "nbconvert_exporter": "python",
   "pygments_lexer": "ipython3",
   "version": "3.9.18"
  }
 },
 "nbformat": 4,
 "nbformat_minor": 2
}
