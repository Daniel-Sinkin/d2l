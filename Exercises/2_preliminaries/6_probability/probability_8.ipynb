{
 "cells": [
  {
   "cell_type": "markdown",
   "metadata": {},
   "source": [
    "#### 8. Assume that you are an asset manager for an investment bank and you have a choice of stocks $s_i$ to invest in. "
   ]
  },
  {
   "cell_type": "markdown",
   "metadata": {},
   "source": [
    "Your portfolio needs to add up to $1$ with weights $\\alpha_i$ for each stock. The stocks have an average return $\\boldsymbol{\\mu} = E_{\\mathbf{s} \\sim P}[\\mathbf{s}]$ and covariance $\\boldsymbol{\\Sigma} = \\textrm{Cov}_{\\mathbf{s} \\sim P}[\\mathbf{s}]$.\n",
    "1. Compute the expected return for a given portfolio $\\boldsymbol{\\alpha}$.\n",
    "1. If you wanted to maximize the return of the portfolio, how should you choose your investment?\n",
    "1. Compute the *variance* of the portfolio.\n",
    "1. Formulate an optimization problem of maximizing the return while keeping the variance constrained to an upper bound. This is the Nobel-Prize winning [Markovitz portfolio](https://en.wikipedia.org/wiki/Markowitz_model) :cite:`Mangram.2013`. To solve it you will need a quadratic programming solver, something way beyond the scope of this book."
   ]
  },
  {
   "cell_type": "markdown",
   "metadata": {},
   "source": [
    "#### 1.\n",
    "A portfolio is a choice of weights $(\\alpha_1, \\dots, \\alpha_n)$ where $\\alpha_i \\geq 0$ and $\\sum_{i = 1}^n \\alpha_i = 1$. The expected return of $s_i$ is denoted by $\\mu$ and the expected return of the portfolio is\n",
    "$$\n",
    "\\sum_{i = 1}^n \\alpha_i \\mu_i.\n",
    "$$"
   ]
  },
  {
   "cell_type": "markdown",
   "metadata": {},
   "source": [
    "#### 2.\n",
    "Let $j = \\operatorname{arg} \\max_{1 \\leq i \\leq n} \\mu_i$ then the portfolio $\\alpha^{(j)} := s_j$ has expected return of $\\mu_j$, which is an upper bound on the returns of all portfolios:\n",
    "$$\n",
    "\\sum_{i = 1}^n \\alpha_i \\mu_i \\leq \\sum_{i = 1}^n \\alpha_i \\max_i \\mu_i = \\left(\\sum_{i = 1}^n \\alpha_i\\right) \\max_i \\mu_i = \\mu_j.\n",
    "$$"
   ]
  },
  {
   "cell_type": "markdown",
   "metadata": {},
   "source": [
    "#### 3.\n",
    "\\item Recall that the variance of $x \\mapsto v^t x, v = (\\alpha_1, \\dots, \\alpha_n)$ can be expressed by using the covariance matrix as follows:\n",
    "$$\n",
    "\\operatorname{Var}(v) = v^t \\Sigma v.\n",
    "$$"
   ]
  },
  {
   "cell_type": "markdown",
   "metadata": {},
   "source": [
    "#### 4.\n",
    "Let $V_0 > 0$ be our upper bound on the variance. We want to maximize $\\sum_{i = 1}^n \\alpha_i \\mu_i$ such that\n",
    "$$\n",
    "(\\alpha_1, \\dots, \\alpha_n) \\Sigma \\begin{pmatrix} \\alpha_1 \\\\ \\alpha_2 \\\\ \\vdots \\\\ \\alpha_n \\end{pmatrix} \\leq V_0.\n",
    "$$"
   ]
  }
 ],
 "metadata": {
  "language_info": {
   "name": "python"
  }
 },
 "nbformat": 4,
 "nbformat_minor": 2
}
