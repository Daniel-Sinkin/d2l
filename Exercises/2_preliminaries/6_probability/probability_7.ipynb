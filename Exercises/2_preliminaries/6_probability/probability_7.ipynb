{
 "cells": [
  {
   "cell_type": "markdown",
   "metadata": {},
   "source": [
    "#### 7. In :numref:`subsec_probability_hiv_app`, assume that the outcomes of the two tests are not independent. In particular assume that either test on its own has a false positive rate of 10% and a false negative rate of 1%. "
   ]
  },
  {
   "cell_type": "markdown",
   "metadata": {},
   "source": [
    "That is, assume that $P(D =1 \\mid H=0) = 0.1$ and that $P(D = 0 \\mid H=1) = 0.01$. Moreover, assume that for $H = 1$ (infected) the test outcomes are conditionally independent, i.e., that $P(D_1, D_2 \\mid H=1) = P(D_1 \\mid H=1) P(D_2 \\mid H=1)$ but that for healthy patients the outcomes are coupled via $P(D_1 = D_2 = 1 \\mid H=0) = 0.02$.\n",
    "\n",
    "1. Work out the joint probability table for $D_1$ and $D_2$, given $H=0$ based on the information you have so far.\n",
    "1. Derive the probability that the patient is diseased ($H=1$) after one test returns positive. You can assume the same baseline probability $P(H=1) = 0.0015$ as before.\n",
    "1. Derive the probability that the patient is diseased ($H=1$) after both tests return positive."
   ]
  },
  {
   "cell_type": "markdown",
   "metadata": {},
   "source": [
    "#### 1.\n",
    "| Joint Probability (H = 0) | D2 = 1 | D2 = 0 |\n",
    "| ------------------------- | ------ | ------ |\n",
    "| D1 = 1                   | 0.02   | b      |\n",
    "| D1 = 0                   | a      | b      |"
   ]
  },
  {
   "cell_type": "markdown",
   "metadata": {},
   "source": [
    "#### 2.\n",
    "$$\n",
    "\\begin{aligned}\n",
    "P(D_1 = 0, D_2 = 1 | H = 1) &= \\frac{P(D_1 = 0, D_2 = 1)}{P(H = 1)}, \\\\\n",
    "P(D_1 = 1, D_2 = 0 | H = 1) &= \\frac{P(D_1 = 1, D_2 = 0)}{P(H = 1)}\n",
    "\\end{aligned}\n",
    "$$"
   ]
  },
  {
   "cell_type": "markdown",
   "metadata": {},
   "source": [
    "#### 3."
   ]
  }
 ],
 "metadata": {
  "language_info": {
   "name": "python"
  }
 },
 "nbformat": 4,
 "nbformat_minor": 2
}
